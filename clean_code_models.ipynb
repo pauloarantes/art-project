{
 "cells": [
  {
   "cell_type": "code",
   "execution_count": 134,
   "metadata": {
    "collapsed": true
   },
   "outputs": [],
   "source": [
    "%matplotlib inline\n",
    "import pandas as pd\n",
    "import numpy as np\n",
    "from sklearn.linear_model import LogisticRegression\n",
    "from sklearn.cross_validation import train_test_split, KFold\n",
    "from sklearn.metrics import f1_score, precision_score, recall_score, accuracy_score, confusion_matrix\n",
    "import matplotlib.pyplot as plt\n",
    "import seaborn as sns\n",
    "from itertools import izip\n",
    "from math import exp, log\n",
    "from unbalanced_dataset.over_sampling import SMOTE\n",
    "from sklearn.ensemble import RandomForestClassifier\n",
    "from sklearn.tree import DecisionTreeClassifier\n",
    "from sklearn.svm import SVC\n",
    "from statsmodels.discrete.discrete_model import Logit\n",
    "from statsmodels.tools import add_constant\n",
    "from sklearn.grid_search import GridSearchCV\n",
    "from sklearn.preprocessing import scale"
   ]
  },
  {
   "cell_type": "code",
   "execution_count": 545,
   "metadata": {
    "collapsed": true
   },
   "outputs": [],
   "source": [
    "def preprocess(dropcols=['last_sign_in_at'] ,today='2016-06-20'):\n",
    "    # Defining today's day for reference\n",
    "    date = pd.to_datetime(today)\n",
    "    \n",
    "    # Loading csv extracted from database into a Pandas DataFrame\n",
    "    df = pd.read_csv('dataset.csv', usecols=range(1,17))\n",
    "    \n",
    "    # Dropping Vango's team ids\n",
    "    vango_ids = [38175, 1, 1326, 587, 736, 45651, 67966, 48516, 84261, 30975, 4260]\n",
    "    for _id in vango_ids:\n",
    "        df = df[df.id != _id]\n",
    "    \n",
    "    # Treating date fields and converting them to datetime timestamp\n",
    "    df.created_at = pd.to_datetime(df['created_at'])\n",
    "    df.last_session = pd.to_datetime(df['last_session'])\n",
    "    df.last_favorited_artwork_date = pd.to_datetime(df['last_favorited_artwork_date'])\n",
    "    df.last_followed_artist_date = pd.to_datetime(df['last_followed_artist_date'])\n",
    "    \n",
    "    # Creating function to extract only the days (int) from TimeDelta objects\n",
    "    def extract_days(x):\n",
    "        try:\n",
    "            return x.days\n",
    "        except:\n",
    "            return 0\n",
    "    \n",
    "    # New feature: Extracting the difference between last session and today\n",
    "    df['days_from_last_session'] = date - df.last_session\n",
    "    df['days_from_last_session'] = df.days_from_last_session.apply(lambda x: extract_days(x))\n",
    "\n",
    "    # New feature: Extracting the difference between last session and when user registered\n",
    "    df['diff_created_to_last'] = df.last_session - df.created_at\n",
    "    df['diff_created_to_last'] = df.diff_created_to_last.apply(lambda x: extract_days(x))\n",
    "\n",
    "    # New feature: Extracting the difference between last favorited artwork and today\n",
    "    df['diff_last_fav_artwork_to_today'] = date - df.last_favorited_artwork_date\n",
    "    df['diff_last_fav_artwork_to_today'] = df.diff_last_fav_artwork_to_today.apply(lambda x: extract_days(x))\n",
    "\n",
    "    # New feature: Extracting the difference between last artists followed and today\n",
    "    df['diff_last_artist_folw_to_today'] = date - df.last_followed_artist_date\n",
    "    df['diff_last_artist_folw_to_today'] = df.diff_last_artist_folw_to_today.apply(lambda x: extract_days(x))\n",
    "    \n",
    "    df = df.set_index('id')\n",
    "\n",
    "    # Dropping columns\n",
    "    df = df.drop(drop_cols, axis=1)\n",
    "    \n",
    "    # Filling NaN values with unknown for categorical variables before dummifying\n",
    "    df.gender.fillna('unknown', inplace=True)\n",
    "    df.user_type.fillna('unknown', inplace=True)\n",
    "    df.os.fillna('unknown', inplace=True)\n",
    "\n",
    "    # Dropping about 100 recent user ids missing all information\n",
    "    df.num_sessions.dropna(inplace=True)\n",
    "\n",
    "    # Dropping 3 records based on gender feature\n",
    "    df = df[(df.gender != 'male (hidden)') & (df.gender != 'female (hidden)')]\n",
    "    \n",
    "    # Dummifying categorical variables (gender, user_type, and os)\n",
    "    df = pd.concat([df, pd.get_dummies(df.gender, prefix='gender', drop_first=True)], axis=1)\n",
    "    df = df.drop('gender', axis=1)\n",
    "\n",
    "#     df = pd.concat([df, pd.get_dummies(df.user_type, prefix='user_type', drop_first=True)], axis=1)\n",
    "    df = df.drop('user_type', axis=1)\n",
    "\n",
    "#     df = pd.concat([df, pd.get_dummies(df.os, prefix='os', drop_first=True)], axis=1)\n",
    "    df = df.drop('os', axis=1)\n",
    "\n",
    "    # Finally dropping off random Na values (101 records)\n",
    "    df.dropna(inplace=True)\n",
    "    \n",
    "    return df\n",
    "\n",
    "def create_label(df, name='label', original_col_name='diff_created_to_last', smaller_than=200):\n",
    "    df[name] = np.where(df[original_col_name] < smaller_than, 1, 0)\n",
    "    \n",
    "    # Dropping date columns due to high relationship and used to create the label:\n",
    "    df.drop('diff_last_fav_artwork_to_today', axis=1, inplace=True)\n",
    "    df.drop('diff_last_artist_folw_to_today', axis=1, inplace=True)\n",
    "    df.drop('diff_created_to_last', axis=1, inplace=True)\n",
    "    df.drop('days_from_last_session', axis=1, inplace=True)"
   ]
  },
  {
   "cell_type": "code",
   "execution_count": 546,
   "metadata": {
    "collapsed": true
   },
   "outputs": [],
   "source": [
    "def standard_confusion_matrix(y_true, y_predict):\n",
    "    [[tn, fp], [fn, tp]] = confusion_matrix(y_true, y_predict)\n",
    "    return np.array([[tp, fp], [fn, tn]])\n",
    "    \n",
    "    \n",
    "def roc_curve(probabilities, labels):\n",
    "    thresholds = np.sort(probabilities)\n",
    "\n",
    "    tprs = []\n",
    "    fprs = []\n",
    "\n",
    "    num_positive_cases = sum(labels)\n",
    "    num_negative_cases = len(labels) - num_positive_cases\n",
    "\n",
    "    for threshold in thresholds:\n",
    "        # With this threshold, give the prediction of each instance\n",
    "        predicted_positive = probabilities >= threshold\n",
    "        # Calculate the number of correctly predicted positive cases\n",
    "        true_positives = np.sum(predicted_positive * labels)\n",
    "        # Calculate the number of incorrectly predicted positive cases\n",
    "        false_positives = np.sum(predicted_positive) - true_positives\n",
    "        # Calculate the True Positive Rate\n",
    "        tpr = true_positives / float(num_positive_cases)\n",
    "        # Calculate the False Positive Rate\n",
    "        fpr = false_positives / float(num_negative_cases)\n",
    "\n",
    "        fprs.append(fpr)\n",
    "        tprs.append(tpr)\n",
    "\n",
    "    return tprs, fprs, thresholds.tolist()\n",
    "\n",
    "\n",
    "def fit_logistic_regression(X, y):\n",
    "    \n",
    "    sm = SMOTE(kind='regular')\n",
    "    X_resampled, y_resampled = sm.fit_transform(X, y)\n",
    "    \n",
    "    # Splitting train and test data\n",
    "    X_train, X_test, y_train, y_test = train_test_split(X_resampled, y_resampled, test_size=0.3)\n",
    "    \n",
    "    # Fitting regression and getting its scores\n",
    "    log_reg = LogisticRegression()\n",
    "    log_reg.fit(X_train, y_train)\n",
    "    predict_log = log_reg.predict(X_test)\n",
    "    print \"\\nLogistic Regression Scores:\\n\"\n",
    "    print \"Accuracy on test set:\", log_reg.score(X_test, y_test)\n",
    "    print \"Precision:\", precision_score(y_test, predict_log)\n",
    "    print \"Recall:\", recall_score(y_test, predict_log)\n",
    "    \n",
    "    # Fitting multiple k-fold cross validations and getting mean scores\n",
    "    kfold = KFold(len(y))\n",
    "\n",
    "    accuracies = []\n",
    "    precisions = []\n",
    "    recalls = []\n",
    "\n",
    "    for train_index, test_index in kfold:\n",
    "        model = LogisticRegression()\n",
    "        model.fit(X[train_index], y[train_index])\n",
    "        y_predict = model.predict(X[test_index])\n",
    "        y_true = y[test_index]\n",
    "        accuracies.append(accuracy_score(y_true, y_predict))\n",
    "        precisions.append(precision_score(y_true, y_predict))\n",
    "        recalls.append(recall_score(y_true, y_predict))\n",
    "\n",
    "    print \"\\nK-Fold Cross Validation on Logistic Regression Scores:\\n\"\n",
    "    print \"accuracy:\", np.average(accuracies)\n",
    "    print \"precision:\", np.average(precisions)\n",
    "    print \"recall:\", np.average(recalls)\n",
    "    \n",
    "    cols = list(df.columns)\n",
    "    \n",
    "    print\n",
    "    print \"Beta scores:\"\n",
    "    for name, coef in izip(df.columns, model.coef_[0]):\n",
    "        print \"%s: %.4f\" % (name, coef)\n",
    "    \n",
    "    y_predict = log_reg.predict(X_test)\n",
    "    y_proba = log_reg.predict_proba(X_test)\n",
    "    cm = standard_confusion_matrix(y_test, y_predict)\n",
    "\n",
    "    tpr, fpr, thres = roc_curve(y_proba[:,0:1].flatten(), y_test)\n",
    "    plt.plot(tpr, fpr)\n",
    "    plt.show()\n",
    "    \n",
    "    fix, ax = plt.subplots(figsize=(10, 7))\n",
    "    sns.heatmap(cm, annot=True,  fmt='', square=True, \\\n",
    "                            xticklabels=['1', '0'], \\\n",
    "                            yticklabels=['1', '0']);\n",
    "    \n",
    "    print\n",
    "    print \"Likelihoods:\"\n",
    "    for i, coef in enumerate(log_reg.coef_[0]):\n",
    "#         print \"beta %s: %.5f\" % (cols[i], exp(coef))\n",
    "        if coef <0:\n",
    "            print \"*Increasing the %s by 1 point decreases the chance of label=1 by a factor of %.4f.*\" % (cols[i], exp(coef))\n",
    "        else:\n",
    "            print \"*Increasing the %s by 1 point increases the chance of label=1 by a factor of %.4f.*\" % (cols[i], exp(coef))\n",
    "        print\n",
    "        \n",
    "    print \"To double:\"\n",
    "    for i, coef in enumerate(model.coef_[0]):\n",
    "#     print \"beta %s: %.5f\" % (cols[i], log(2) / coef)\n",
    "        if coef < 0:\n",
    "            print \"*Decreasing the %s score by %d points doubles the chance of label=1.*\" % (cols[i], log(2) / coef)\n",
    "        else:\n",
    "            print \"*Increasing the %s score by %d points doubles the chance of label=1.*\" % (cols[i], log(2) / coef)\n",
    "        print"
   ]
  },
  {
   "cell_type": "markdown",
   "metadata": {},
   "source": [
    "## Model 1: Logistic Regression with Label = activity in last 200 days"
   ]
  },
  {
   "cell_type": "code",
   "execution_count": 130,
   "metadata": {
    "collapsed": true
   },
   "outputs": [],
   "source": [
    "drop_cols = ['last_sign_in_at', \n",
    "             'created_at', \n",
    "             'last_session', \n",
    "             'last_favorited_artwork_date', \n",
    "             'last_followed_artist_date',\n",
    "             'total_follows',\n",
    "             'total_favorites',\n",
    "             'city']\n",
    "df = preprocess(drop_cols)\n",
    "\n",
    "create_label(df, name='engagement200', original_col_name='diff_created_to_last', smaller_than=200)\n",
    "\n",
    "# Defining y label and X matrix\n",
    "y = df.pop('engagement200').values\n",
    "X = df.values"
   ]
  },
  {
   "cell_type": "code",
   "execution_count": 131,
   "metadata": {
    "collapsed": false
   },
   "outputs": [
    {
     "name": "stdout",
     "output_type": "stream",
     "text": [
      "Determining classes statistics... 2 classes detected: Counter({1: 48224, 0: 9593})\n",
      "Finding the 5 nearest neighbours...\n",
      "done!\n",
      "Creating synthetic samples...Generated 38631 new samples ...\n",
      "done!\n",
      "\n",
      "Logistic Regression Scores:\n",
      "\n",
      "Accuracy on test set: 0.676308968377\n",
      "Precision: 0.641019751952\n",
      "Recall: 0.781902227203\n",
      "\n",
      "K-Fold Cross Validation on Logistic Regression Scores:\n",
      "\n",
      "accuracy: 0.837955342251\n",
      "precision: 0.846670506015\n",
      "recall: 0.984896691247\n",
      "\n",
      "Beta scores:\n",
      "num_sessions: -0.0232\n",
      "total_artists_followed: -0.0455\n",
      "total_artworks_favorited: -0.0119\n",
      "total_artworks_shared: 0.0454\n",
      "gender_male: -0.0694\n",
      "gender_unknown: -0.7078\n"
     ]
    },
    {
     "data": {
      "image/png": "[encoded data removed]",
      "text/plain": [
       "<matplotlib.figure.Figure at 0x115a47710>"
      ]
     },
     "metadata": {},
     "output_type": "display_data"
    },
    {
     "name": "stdout",
     "output_type": "stream",
     "text": [
      "\n",
      "Likelihoods:\n",
      "*Increasing the num_sessions by 1 point decreases the chance of label=1 by a factor of 0.9704.*\n",
      "\n",
      "*Increasing the total_artists_followed by 1 point decreases the chance of label=1 by a factor of 0.9698.*\n",
      "\n",
      "*Increasing the total_artworks_favorited by 1 point decreases the chance of label=1 by a factor of 0.9822.*\n",
      "\n",
      "*Increasing the total_artworks_shared by 1 point increases the chance of label=1 by a factor of 1.0851.*\n",
      "\n",
      "*Increasing the gender_male by 1 point decreases the chance of label=1 by a factor of 0.9413.*\n",
      "\n",
      "*Increasing the gender_unknown by 1 point decreases the chance of label=1 by a factor of 0.4914.*\n",
      "\n",
      "To double:\n",
      "*Decreasing the num_sessions score by -29 points doubles the chance of label=1.*\n",
      "\n",
      "*Decreasing the total_artists_followed score by -15 points doubles the chance of label=1.*\n",
      "\n",
      "*Decreasing the total_artworks_favorited score by -58 points doubles the chance of label=1.*\n",
      "\n",
      "*Increasing the total_artworks_shared score by 15 points doubles the chance of label=1.*\n",
      "\n",
      "*Decreasing the gender_male score by -9 points doubles the chance of label=1.*\n",
      "\n",
      "*Decreasing the gender_unknown score by 0 points doubles the chance of label=1.*\n",
      "\n"
     ]
    },
    {
     "data": {
      "image/png": "[encoded data removed]",
      "text/plain": [
       "<matplotlib.figure.Figure at 0x114db2a10>"
      ]
     },
     "metadata": {},
     "output_type": "display_data"
    }
   ],
   "source": [
    "fit_logistic_regression(X, y)"
   ]
  },
  {
   "cell_type": "markdown",
   "metadata": {},
   "source": [
    "## Model 2: Logistic Regression with Label = activity in last 15 days"
   ]
  },
  {
   "cell_type": "code",
   "execution_count": 9,
   "metadata": {
    "collapsed": false
   },
   "outputs": [],
   "source": [
    "drop_cols = ['last_sign_in_at', \n",
    "             'created_at', \n",
    "             'last_session', \n",
    "             'last_favorited_artwork_date', \n",
    "             'last_followed_artist_date',\n",
    "             'total_follows',\n",
    "             'total_favorites',\n",
    "             'city']\n",
    "df = preprocess(drop_cols)\n",
    "\n",
    "create_label(df, name='engagement15', original_col_name='diff_created_to_last', smaller_than=15)\n",
    "\n",
    "# Defining y label and X matrix\n",
    "y = df.pop('engagement15').values\n",
    "X = df.values"
   ]
  },
  {
   "cell_type": "code",
   "execution_count": 10,
   "metadata": {
    "collapsed": false
   },
   "outputs": [
    {
     "name": "stdout",
     "output_type": "stream",
     "text": [
      "Determining classes statistics... 2 classes detected: Counter({0: 31718, 1: 26109})\n",
      "Finding the 5 nearest neighbours...\n",
      "done!\n",
      "Creating synthetic samples...Generated 5609 new samples ...\n",
      "done!\n",
      "\n",
      "Logistic Regression Scores:\n",
      "\n",
      "Accuracy on test set: 0.739898061058\n",
      "Precision: 0.698328332619\n",
      "Recall: 0.850579513418\n",
      "\n",
      "K-Fold Cross Validation on Logistic Regression Scores:\n",
      "\n",
      "accuracy: 0.735193020637\n",
      "precision: 0.674597078614\n",
      "recall: 0.803656376634\n",
      "\n",
      "Beta scores:\n",
      "num_sessions: -0.1998\n",
      "total_artists_followed: -0.0663\n",
      "total_artworks_favorited: -0.0147\n",
      "total_artworks_shared: 0.0989\n",
      "gender_male: -0.0694\n",
      "gender_unknown: -0.7463\n"
     ]
    },
    {
     "data": {
      "image/png": "[encoded data removed]",
      "text/plain": [
       "<matplotlib.figure.Figure at 0x114db21d0>"
      ]
     },
     "metadata": {},
     "output_type": "display_data"
    },
    {
     "name": "stdout",
     "output_type": "stream",
     "text": [
      "\n",
      "Likelihoods:\n",
      "*Increasing the num_sessions by 1 point decreases the chance of label=1 by a factor of 0.8240.*\n",
      "\n",
      "*Increasing the total_artists_followed by 1 point decreases the chance of label=1 by a factor of 0.9649.*\n",
      "\n",
      "*Increasing the total_artworks_favorited by 1 point decreases the chance of label=1 by a factor of 0.9858.*\n",
      "\n",
      "*Increasing the total_artworks_shared by 1 point increases the chance of label=1 by a factor of 1.0767.*\n",
      "\n",
      "*Increasing the gender_male by 1 point decreases the chance of label=1 by a factor of 0.8928.*\n",
      "\n",
      "*Increasing the gender_unknown by 1 point decreases the chance of label=1 by a factor of 0.5183.*\n",
      "\n",
      "To double:\n",
      "*Decreasing the num_sessions score by -3 points doubles the chance of label=1.*\n",
      "\n",
      "*Decreasing the total_artists_followed score by -10 points doubles the chance of label=1.*\n",
      "\n",
      "*Decreasing the total_artworks_favorited score by -47 points doubles the chance of label=1.*\n",
      "\n",
      "*Increasing the total_artworks_shared score by 7 points doubles the chance of label=1.*\n",
      "\n",
      "*Decreasing the gender_male score by -9 points doubles the chance of label=1.*\n",
      "\n",
      "*Decreasing the gender_unknown score by 0 points doubles the chance of label=1.*\n",
      "\n"
     ]
    },
    {
     "data": {
      "image/png": "[encoded data removed]",
      "text/plain": [
       "<matplotlib.figure.Figure at 0x114bc0a50>"
      ]
     },
     "metadata": {},
     "output_type": "display_data"
    }
   ],
   "source": [
    "fit_logistic_regression(X, y)"
   ]
  },
  {
   "cell_type": "markdown",
   "metadata": {},
   "source": [
    "## Model 3: Logistic Regression with Label = activity in last 30 days (ignoring 0 days of activity -> 17k records dropped)"
   ]
  },
  {
   "cell_type": "code",
   "execution_count": 17,
   "metadata": {
    "collapsed": false
   },
   "outputs": [],
   "source": [
    "drop_cols = ['last_sign_in_at', \n",
    "             'created_at', \n",
    "             'last_session', \n",
    "             'last_favorited_artwork_date', \n",
    "             'last_followed_artist_date',\n",
    "             'total_follows',\n",
    "             'total_favorites',\n",
    "             'city']\n",
    "df = preprocess(drop_cols)\n",
    "\n",
    "def negative_to_zero(x):\n",
    "    if x == -1:\n",
    "        return 0\n",
    "    else:\n",
    "        return x\n",
    "\n",
    "df.diff_created_to_last = df.diff_created_to_last.apply(lambda x: negative_to_zero(x))\n",
    "\n",
    "df = df[df.diff_created_to_last > 0]"
   ]
  },
  {
   "cell_type": "code",
   "execution_count": 18,
   "metadata": {
    "collapsed": true
   },
   "outputs": [],
   "source": [
    "create_label(df, name='engagement30', original_col_name='diff_created_to_last', smaller_than=30)\n",
    "\n",
    "# Defining y label and X matrix\n",
    "y = df.pop('engagement30').values\n",
    "X = df.values"
   ]
  },
  {
   "cell_type": "code",
   "execution_count": 19,
   "metadata": {
    "collapsed": false
   },
   "outputs": [
    {
     "name": "stdout",
     "output_type": "stream",
     "text": [
      "Determining classes statistics... 2 classes detected: Counter({0: 27443, 1: 13224})\n",
      "Finding the 5 nearest neighbours...\n",
      "done!\n",
      "Creating synthetic samples...Generated 14219 new samples ...\n",
      "done!\n",
      "\n",
      "Logistic Regression Scores:\n",
      "\n",
      "Accuracy on test set: 0.652435321268\n",
      "Precision: 0.611503531786\n",
      "Recall: 0.817512877116\n",
      "\n",
      "K-Fold Cross Validation on Logistic Regression Scores:\n",
      "\n",
      "accuracy: 0.681066998172\n",
      "precision: 0.574449831018\n",
      "recall: 0.129059241002\n",
      "\n",
      "Beta scores:\n",
      "num_sessions: -0.0710\n",
      "total_artists_followed: -0.0315\n",
      "total_artworks_favorited: -0.0099\n",
      "total_artworks_shared: 0.0649\n",
      "gender_male: -0.1417\n",
      "gender_unknown: -0.4610\n"
     ]
    },
    {
     "data": {
      "image/png": "[encoded data removed]",
      "text/plain": [
       "<matplotlib.figure.Figure at 0x11573cb50>"
      ]
     },
     "metadata": {},
     "output_type": "display_data"
    },
    {
     "name": "stdout",
     "output_type": "stream",
     "text": [
      "\n",
      "Likelihoods:\n",
      "*Increasing the num_sessions by 1 point decreases the chance of label=1 by a factor of 0.9317.*\n",
      "\n",
      "*Increasing the total_artists_followed by 1 point decreases the chance of label=1 by a factor of 0.9892.*\n",
      "\n",
      "*Increasing the total_artworks_favorited by 1 point decreases the chance of label=1 by a factor of 0.9914.*\n",
      "\n",
      "*Increasing the total_artworks_shared by 1 point increases the chance of label=1 by a factor of 1.0498.*\n",
      "\n",
      "*Increasing the gender_male by 1 point decreases the chance of label=1 by a factor of 0.8608.*\n",
      "\n",
      "*Increasing the gender_unknown by 1 point decreases the chance of label=1 by a factor of 0.6957.*\n",
      "\n",
      "To double:\n",
      "*Decreasing the num_sessions score by -9 points doubles the chance of label=1.*\n",
      "\n",
      "*Decreasing the total_artists_followed score by -21 points doubles the chance of label=1.*\n",
      "\n",
      "*Decreasing the total_artworks_favorited score by -69 points doubles the chance of label=1.*\n",
      "\n",
      "*Increasing the total_artworks_shared score by 10 points doubles the chance of label=1.*\n",
      "\n",
      "*Decreasing the gender_male score by -4 points doubles the chance of label=1.*\n",
      "\n",
      "*Decreasing the gender_unknown score by -1 points doubles the chance of label=1.*\n",
      "\n"
     ]
    },
    {
     "data": {
      "image/png": "[encoded data removed]",
      "text/plain": [
       "<matplotlib.figure.Figure at 0x1155c28d0>"
      ]
     },
     "metadata": {},
     "output_type": "display_data"
    }
   ],
   "source": [
    "fit_logistic_regression(X, y)"
   ]
  },
  {
   "cell_type": "markdown",
   "metadata": {},
   "source": [
    "## Model 4: Logistic Regression with Label = purchased"
   ]
  },
  {
   "cell_type": "code",
   "execution_count": 547,
   "metadata": {
    "collapsed": true
   },
   "outputs": [],
   "source": [
    "def preprocess_purchases_and_join_with(df):\n",
    "    # Loading data\n",
    "    purch = pd.read_csv('purchases.csv', usecols=range(1,5))\n",
    "    \n",
    "    # Dropping purchases from anonymous non-registered users\n",
    "    purch.dropna(inplace=True)\n",
    "    \n",
    "    # Aggregating purchase info per user_id\n",
    "    user_purchs = purch.groupby('user_id').agg({'total_pieces_purchased':np.sum, 'total_spent':np.sum})\n",
    "    \n",
    "    # Merging with original DataFrame\n",
    "    user_merged = df.join(user_purchs)\n",
    "    \n",
    "    # Replacing Na's with 0s\n",
    "    user_merged.total_spent.fillna(0, inplace=True)\n",
    "    user_merged.total_pieces_purchased.fillna(0, inplace=True)\n",
    "    \n",
    "    user_merged.drop('total_pieces_purchased', axis=1, inplace=True)\n",
    "\n",
    "    user_merged['purchased'] = np.where(user_merged.total_spent > 0, 1, 0)\n",
    "    \n",
    "    user_merged.drop('total_spent', axis=1, inplace=True)\n",
    "    \n",
    "    return user_merged"
   ]
  },
  {
   "cell_type": "code",
   "execution_count": 548,
   "metadata": {
    "collapsed": false
   },
   "outputs": [],
   "source": [
    "drop_cols = ['last_sign_in_at', \n",
    "             'created_at', \n",
    "             'last_session', \n",
    "             'last_favorited_artwork_date', \n",
    "             'last_followed_artist_date',\n",
    "             'total_follows',\n",
    "             'total_favorites',\n",
    "             'city']\n",
    "df = preprocess(drop_cols)\n",
    "\n",
    "# Dropping date columns due to high relationship and used to create the label:\n",
    "df.drop('diff_last_fav_artwork_to_today', axis=1, inplace=True)\n",
    "df.drop('diff_last_artist_folw_to_today', axis=1, inplace=True)\n",
    "df.drop('diff_created_to_last', axis=1, inplace=True)\n",
    "df.drop('days_from_last_session', axis=1, inplace=True)\n",
    "\n",
    "merged_df = preprocess_purchases_and_join_with(df)"
   ]
  },
  {
   "cell_type": "markdown",
   "metadata": {},
   "source": [
    "### Testing same model with Statsmodel to see how statistically significant the features are:"
   ]
  },
  {
   "cell_type": "code",
   "execution_count": null,
   "metadata": {
    "collapsed": true
   },
   "outputs": [],
   "source": [
    "sm = SMOTE(kind='regular')\n",
    "X_resampled, y_resampled = sm.fit_transform(X, y)\n",
    "\n",
    "# Splitting train and test data\n",
    "X_train, X_test, y_train, y_test = train_test_split(X_resampled, y_resampled, test_size=0.3)\n",
    "\n",
    "X_const = add_constant(X_train, prepend=True)\n",
    "\n",
    "logit_model = Logit(y_train, X_const).fit()"
   ]
  },
  {
   "cell_type": "code",
   "execution_count": 160,
   "metadata": {
    "collapsed": false
   },
   "outputs": [
    {
     "data": {
      "text/html": [
       "<table class=\"simpletable\">\n",
       "<caption>Logit Regression Results</caption>\n",
       "<tr>\n",
       "  <th>Dep. Variable:</th>         <td>y</td>        <th>  No. Observations:  </th>  <td> 38406</td> \n",
       "</tr>\n",
       "<tr>\n",
       "  <th>Model:</th>               <td>Logit</td>      <th>  Df Residuals:      </th>  <td> 38399</td> \n",
       "</tr>\n",
       "<tr>\n",
       "  <th>Method:</th>               <td>MLE</td>       <th>  Df Model:          </th>  <td>     6</td> \n",
       "</tr>\n",
       "<tr>\n",
       "  <th>Date:</th>          <td>Mon, 27 Jun 2016</td> <th>  Pseudo R-squ.:     </th>  <td>0.1131</td> \n",
       "</tr>\n",
       "<tr>\n",
       "  <th>Time:</th>              <td>15:03:13</td>     <th>  Log-Likelihood:    </th> <td> -23611.</td>\n",
       "</tr>\n",
       "<tr>\n",
       "  <th>converged:</th>           <td>True</td>       <th>  LL-Null:           </th> <td> -26621.</td>\n",
       "</tr>\n",
       "<tr>\n",
       "  <th> </th>                      <td> </td>        <th>  LLR p-value:       </th>  <td> 0.000</td> \n",
       "</tr>\n",
       "</table>\n",
       "<table class=\"simpletable\">\n",
       "<tr>\n",
       "    <td></td>       <th>coef</th>     <th>std err</th>      <th>z</th>      <th>P>|z|</th>  <th>[0.025</th>    <th>0.975]</th>  \n",
       "</tr>\n",
       "<tr>\n",
       "  <th>const</th> <td>    0.9967</td> <td>    0.025</td> <td>   40.486</td> <td> 0.000</td> <td>    0.948</td> <td>    1.045</td>\n",
       "</tr>\n",
       "<tr>\n",
       "  <th>x1</th>    <td>   -0.0729</td> <td>    0.001</td> <td>  -48.924</td> <td> 0.000</td> <td>   -0.076</td> <td>   -0.070</td>\n",
       "</tr>\n",
       "<tr>\n",
       "  <th>x2</th>    <td>   -0.0160</td> <td>    0.005</td> <td>   -3.137</td> <td> 0.002</td> <td>   -0.026</td> <td>   -0.006</td>\n",
       "</tr>\n",
       "<tr>\n",
       "  <th>x3</th>    <td>   -0.0093</td> <td>    0.001</td> <td>  -10.063</td> <td> 0.000</td> <td>   -0.011</td> <td>   -0.007</td>\n",
       "</tr>\n",
       "<tr>\n",
       "  <th>x4</th>    <td>    0.0642</td> <td>    0.013</td> <td>    4.765</td> <td> 0.000</td> <td>    0.038</td> <td>    0.091</td>\n",
       "</tr>\n",
       "<tr>\n",
       "  <th>x5</th>    <td>   -0.1583</td> <td>    0.028</td> <td>   -5.649</td> <td> 0.000</td> <td>   -0.213</td> <td>   -0.103</td>\n",
       "</tr>\n",
       "<tr>\n",
       "  <th>x6</th>    <td>   -0.3460</td> <td>    0.028</td> <td>  -12.257</td> <td> 0.000</td> <td>   -0.401</td> <td>   -0.291</td>\n",
       "</tr>\n",
       "</table>"
      ],
      "text/plain": [
       "<class 'statsmodels.iolib.summary.Summary'>\n",
       "\"\"\"\n",
       "                           Logit Regression Results                           \n",
       "==============================================================================\n",
       "Dep. Variable:                      y   No. Observations:                38406\n",
       "Model:                          Logit   Df Residuals:                    38399\n",
       "Method:                           MLE   Df Model:                            6\n",
       "Date:                Mon, 27 Jun 2016   Pseudo R-squ.:                  0.1131\n",
       "Time:                        15:03:13   Log-Likelihood:                -23611.\n",
       "converged:                       True   LL-Null:                       -26621.\n",
       "                                        LLR p-value:                     0.000\n",
       "==============================================================================\n",
       "                 coef    std err          z      P>|z|      [0.025      0.975]\n",
       "------------------------------------------------------------------------------\n",
       "const          0.9967      0.025     40.486      0.000       0.948       1.045\n",
       "x1            -0.0729      0.001    -48.924      0.000      -0.076      -0.070\n",
       "x2            -0.0160      0.005     -3.137      0.002      -0.026      -0.006\n",
       "x3            -0.0093      0.001    -10.063      0.000      -0.011      -0.007\n",
       "x4             0.0642      0.013      4.765      0.000       0.038       0.091\n",
       "x5            -0.1583      0.028     -5.649      0.000      -0.213      -0.103\n",
       "x6            -0.3460      0.028    -12.257      0.000      -0.401      -0.291\n",
       "==============================================================================\n",
       "\"\"\""
      ]
     },
     "execution_count": 160,
     "metadata": {},
     "output_type": "execute_result"
    }
   ],
   "source": [
    "logit_model.summary()"
   ]
  },
  {
   "cell_type": "code",
   "execution_count": 549,
   "metadata": {
    "collapsed": false
   },
   "outputs": [],
   "source": [
    "# Defining y label and X matrix\n",
    "y = merged_df.pop('purchased').values\n",
    "X = merged_df.values"
   ]
  },
  {
   "cell_type": "code",
   "execution_count": 550,
   "metadata": {
    "collapsed": false
   },
   "outputs": [
    {
     "name": "stdout",
     "output_type": "stream",
     "text": [
      "Determining classes statistics... 2 classes detected: Counter({0: 55649, 1: 2167})\n",
      "Finding the 5 nearest neighbours...\n",
      "done!\n",
      "Creating synthetic samples...Generated 53482 new samples ...\n",
      "done!\n",
      "\n",
      "Logistic Regression Scores:\n",
      "\n",
      "Accuracy on test set: 0.790296495957\n",
      "Precision: 0.853191796649\n",
      "Recall: 0.703944232602\n",
      "\n",
      "K-Fold Cross Validation on Logistic Regression Scores:\n",
      "\n",
      "accuracy: 0.961221807112\n",
      "precision: 0.414696265703\n",
      "recall: 0.0623382873834\n",
      "\n",
      "Beta scores:\n",
      "num_sessions: 0.0049\n",
      "total_artists_followed: 0.0395\n",
      "total_artworks_favorited: 0.0046\n",
      "total_artworks_shared: 0.0286\n",
      "gender_male: 0.4052\n",
      "gender_unknown: 0.8201\n"
     ]
    },
    {
     "data": {
      "image/png": "[encoded data removed]",
      "text/plain": [
       "<matplotlib.figure.Figure at 0x1354ab8d0>"
      ]
     },
     "metadata": {},
     "output_type": "display_data"
    },
    {
     "name": "stdout",
     "output_type": "stream",
     "text": [
      "\n",
      "Likelihoods:\n",
      "*Increasing the num_sessions by 1 point increases the chance of label=1 by a factor of 1.0414.*\n",
      "\n",
      "*Increasing the total_artists_followed by 1 point increases the chance of label=1 by a factor of 1.1143.*\n",
      "\n",
      "*Increasing the total_artworks_favorited by 1 point increases the chance of label=1 by a factor of 1.0095.*\n",
      "\n",
      "*Increasing the total_artworks_shared by 1 point increases the chance of label=1 by a factor of 1.0865.*\n",
      "\n",
      "*Increasing the gender_male by 1 point increases the chance of label=1 by a factor of 1.4752.*\n",
      "\n",
      "*Increasing the gender_unknown by 1 point increases the chance of label=1 by a factor of 2.7088.*\n",
      "\n",
      "To double:\n",
      "*Increasing the num_sessions score by 142 points doubles the chance of label=1.*\n",
      "\n",
      "*Increasing the total_artists_followed score by 17 points doubles the chance of label=1.*\n",
      "\n",
      "*Increasing the total_artworks_favorited score by 149 points doubles the chance of label=1.*\n",
      "\n",
      "*Increasing the total_artworks_shared score by 24 points doubles the chance of label=1.*\n",
      "\n",
      "*Increasing the gender_male score by 1 points doubles the chance of label=1.*\n",
      "\n",
      "*Increasing the gender_unknown score by 0 points doubles the chance of label=1.*\n",
      "\n"
     ]
    },
    {
     "data": {
      "image/png": "[encoded data removed]",
      "text/plain": [
       "<matplotlib.figure.Figure at 0x127d15f10>"
      ]
     },
     "metadata": {},
     "output_type": "display_data"
    }
   ],
   "source": [
    "fit_logistic_regression(X, y)"
   ]
  },
  {
   "cell_type": "markdown",
   "metadata": {},
   "source": [
    "## Confusion matrix notes:\n",
    "\n",
    "##### We want to minimize False Positives (upper right corner), because if we predict that they will make a purchase and they don't is where we spent the most money/effort without results. \n",
    "##### In case of a False Negative (lower left corner), we didn't predict purchase but they bought it anyways, \"free\" profits $$$"
   ]
  },
  {
   "cell_type": "markdown",
   "metadata": {},
   "source": [
    "## Model 5: Random Forests with Label = purchased (with best params after GridSearch)"
   ]
  },
  {
   "cell_type": "code",
   "execution_count": 699,
   "metadata": {
    "collapsed": false
   },
   "outputs": [],
   "source": [
    "def fit_random_forest(X, y):\n",
    "    sm = SMOTE(kind='regular', ratio=0.5)\n",
    "    X_resampled, y_resampled = sm.fit_transform(X, y)\n",
    "    \n",
    "    # Splitting train and test data\n",
    "    X_train, X_test, y_train, y_test = train_test_split(X_resampled, y_resampled, test_size=0.3)\n",
    "    \n",
    "    rf = RandomForestClassifier(oob_score=True, n_jobs=-1, bootstrap=True, min_samples_leaf=2, \n",
    "                                n_estimators=400, min_samples_split=1, random_state=67, \n",
    "                                max_features=None, max_depth=None)\n",
    "    rf.fit(X_train, y_train)\n",
    "    \n",
    "    # Draw a confusion matrix for the results\n",
    "    y_predict = rf.predict(X_test)\n",
    "    y_proba = rf.predict_proba(X_test)\n",
    "    cm = standard_confusion_matrix(y_test, y_predict)\n",
    "    \n",
    "    print \"Random Forest Scores:\\n\"\n",
    "    print \"accuracy:\", rf.score(X_test, y_test)\n",
    "    print \"precision:\", precision_score(y_test, y_predict)\n",
    "    print \"recall:\", recall_score(y_test, y_predict)\n",
    "\n",
    "    tpr, fpr, thres = roc_curve(y_proba[:,0:1].flatten(), y_test)\n",
    "    plt.plot(tpr, fpr)\n",
    "    plt.title(\"ROC Curve\")\n",
    "    plt.xlabel(\"False Positive Rate (1-Specificity)\")\n",
    "    plt.ylabel(\"True Positive Rate (Sensitivity)\")\n",
    "    plt.savefig('images/roc_curve.png')\n",
    "    plt.show()\n",
    "    \n",
    "    fix, ax = plt.subplots(figsize=(10, 7))\n",
    "    sns.heatmap(cm, annot=True,  fmt='', square=True, \\\n",
    "                            xticklabels=['1', '0'], \\\n",
    "                            yticklabels=['1', '0']);\n",
    "    plt.title(\"Confusion Matrix - Random Forests\")\n",
    "    plt.xlabel(\"Truth\")\n",
    "    plt.ylabel(\"Prediction\")\n",
    "    plt.savefig('images/confusion_matrix.png')\n",
    "    plt.show()\n",
    "\n",
    "    cols = list(df.columns)\n",
    "    \n",
    "    print \"Feature Importance: \\n\"\n",
    "    for name, importance in izip(cols, rf.feature_importances_):\n",
    "        print round(importance,4), '\\t\\t', name\n",
    "        \n",
    "    plot_importance(rf, merged_df, max_features=16)\n",
    "    plt.savefig('images/rf_feature_importance.png')\n",
    "    \n",
    "    return rf"
   ]
  },
  {
   "cell_type": "code",
   "execution_count": 700,
   "metadata": {
    "collapsed": false
   },
   "outputs": [],
   "source": [
    "drop_cols = ['last_sign_in_at', \n",
    "             'created_at', \n",
    "             'last_session', \n",
    "             'last_favorited_artwork_date', \n",
    "             'last_followed_artist_date',\n",
    "             'total_follows',\n",
    "             'total_favorites',\n",
    "             'city']\n",
    "df = preprocess(drop_cols)\n",
    "\n",
    "# Dropping date columns due to high relationship and used to create the label:\n",
    "df.drop('diff_last_fav_artwork_to_today', axis=1, inplace=True)\n",
    "df.drop('diff_last_artist_folw_to_today', axis=1, inplace=True)\n",
    "df.drop('diff_created_to_last', axis=1, inplace=True)\n",
    "df.drop('days_from_last_session', axis=1, inplace=True)\n",
    "\n",
    "merged_df = preprocess_purchases_and_join_with(df)"
   ]
  },
  {
   "cell_type": "code",
   "execution_count": 701,
   "metadata": {
    "collapsed": false
   },
   "outputs": [],
   "source": [
    "# Scaling features\n",
    "merged_df.num_sessions = scale(merged_df.num_sessions)\n",
    "merged_df.total_artists_followed = scale(merged_df.total_artists_followed)\n",
    "merged_df.total_artworks_favorited = scale(merged_df.total_artworks_favorited)\n",
    "merged_df.total_artworks_shared = scale(merged_df.total_artworks_shared)\n",
    "\n",
    "# Defining y label and X matrix\n",
    "y = merged_df.pop('purchased').values\n",
    "X = merged_df.values"
   ]
  },
  {
   "cell_type": "code",
   "execution_count": 702,
   "metadata": {
    "collapsed": false
   },
   "outputs": [
    {
     "name": "stdout",
     "output_type": "stream",
     "text": [
      "Determining classes statistics... 2 classes detected: Counter({0: 55649, 1: 2167})\n",
      "Finding the 5 nearest neighbours...\n",
      "done!\n",
      "Creating synthetic samples...Generated 25657 new samples ...\n",
      "done!\n",
      "Random Forest Scores:\n",
      "\n",
      "accuracy: 0.949964060379\n",
      "precision: 0.939326946696\n",
      "recall: 0.909718092066\n"
     ]
    },
    {
     "data": {
      "image/png": "[encoded data removed]",
      "text/plain": [
       "<matplotlib.figure.Figure at 0x12bd2c650>"
      ]
     },
     "metadata": {},
     "output_type": "display_data"
    },
    {
     "data": {
      "image/png": "[encoded data removed]",
      "text/plain": [
       "<matplotlib.figure.Figure at 0x13de34810>"
      ]
     },
     "metadata": {},
     "output_type": "display_data"
    },
    {
     "name": "stdout",
     "output_type": "stream",
     "text": [
      "Feature Importance: \n",
      "\n",
      "0.7046 \t\tnum_sessions\n",
      "0.0573 \t\ttotal_artists_followed\n",
      "0.1871 \t\ttotal_artworks_favorited\n",
      "0.0179 \t\ttotal_artworks_shared\n",
      "0.0096 \t\tgender_male\n",
      "0.0235 \t\tgender_unknown\n"
     ]
    },
    {
     "data": {
      "image/png": "[encoded data removed]",
      "text/plain": [
       "<matplotlib.figure.Figure at 0x1399582d0>"
      ]
     },
     "metadata": {},
     "output_type": "display_data"
    }
   ],
   "source": [
    "model = fit_random_forest(X, y)"
   ]
  },
  {
   "cell_type": "code",
   "execution_count": 485,
   "metadata": {
    "collapsed": false
   },
   "outputs": [
    {
     "name": "stdout",
     "output_type": "stream",
     "text": [
      "Determining classes statistics... 2 classes detected: Counter({0: 55649, 1: 2168})\n",
      "Finding the 5 nearest neighbours...\n",
      "done!\n",
      "Creating synthetic samples...Generated 25656 new samples ...\n",
      "done!\n",
      "Random Forest Scores:\n",
      "\n",
      "accuracy: 0.954396613689\n",
      "precision: 0.945434435296\n",
      "recall: 0.9168156358\n"
     ]
    },
    {
     "data": {
      "image/png": "[encoded data removed]",
      "text/plain": [
       "<matplotlib.figure.Figure at 0x12a2a0310>"
      ]
     },
     "metadata": {},
     "output_type": "display_data"
    },
    {
     "data": {
      "image/png": "[encoded data removed]",
      "text/plain": [
       "<matplotlib.figure.Figure at 0x1256f5550>"
      ]
     },
     "metadata": {},
     "output_type": "display_data"
    },
    {
     "name": "stdout",
     "output_type": "stream",
     "text": [
      "Feature Importance: \n",
      "\n",
      "0.7214 \t\tnum_sessions\n",
      "0.0581 \t\ttotal_artists_followed\n",
      "0.171 \t\ttotal_artworks_favorited\n",
      "0.0176 \t\ttotal_artworks_shared\n",
      "0.0097 \t\tgender_male\n",
      "0.0222 \t\tgender_unknown\n"
     ]
    },
    {
     "data": {
      "image/png": "[encoded data removed]",
      "text/plain": [
       "<matplotlib.figure.Figure at 0x125796d10>"
      ]
     },
     "metadata": {},
     "output_type": "display_data"
    }
   ],
   "source": [
    "model = fit_random_forest(X, y)"
   ]
  },
  {
   "cell_type": "code",
   "execution_count": 517,
   "metadata": {
    "collapsed": false
   },
   "outputs": [],
   "source": [
    "a = np.array([[ 0.18966242,  0.37135351,  0.10676733,  0.56563498,  0.        ,  1.        ], \n",
    "             [ 0.1966242,  0.47135351,  0.19676733,  0.06563498,  1.        ,  0.        ],\n",
    "             [-0.15949266, -0.27305311, -0.23691142, -0.11191526,  0.        , 0.        ]])"
   ]
  },
  {
   "cell_type": "code",
   "execution_count": 519,
   "metadata": {
    "collapsed": false
   },
   "outputs": [
    {
     "data": {
      "text/plain": [
       "numpy.ndarray"
      ]
     },
     "execution_count": 519,
     "metadata": {},
     "output_type": "execute_result"
    }
   ],
   "source": [
    "model.predict_proba(a)"
   ]
  },
  {
   "cell_type": "code",
   "execution_count": null,
   "metadata": {
    "collapsed": false
   },
   "outputs": [],
   "source": [
    "# Price distribution (ticket):"
   ]
  },
  {
   "cell_type": "code",
   "execution_count": 650,
   "metadata": {
    "collapsed": false
   },
   "outputs": [
    {
     "data": {
      "text/plain": [
       "0.29062573661793062"
      ]
     },
     "execution_count": 650,
     "metadata": {},
     "output_type": "execute_result"
    }
   ],
   "source": [
    "# Predicting on entire dataset:\n",
    "probs = model.predict_proba(X)\n",
    "probss = pd.Series([i[1] for i in probs])\n",
    "# probs.plot.kde(normalized=True)\n",
    "probss.quantile(q=0.93)"
   ]
  },
  {
   "cell_type": "code",
   "execution_count": 707,
   "metadata": {
    "collapsed": false
   },
   "outputs": [
    {
     "data": {
      "image/png": "[encoded data removed]",
      "text/plain": [
       "<matplotlib.figure.Figure at 0x140914110>"
      ]
     },
     "metadata": {},
     "output_type": "display_data"
    }
   ],
   "source": [
    "plt.hist([i[1] for i in probs])\n",
    "plt.title(\"Predictions distribution on original dataset\")\n",
    "plt.xlabel(\"Probability of an User making a purchase\")\n",
    "plt.ylabel(\"Number of Users\")\n",
    "plt.savefig('images/probs_of_purchase.png')"
   ]
  },
  {
   "cell_type": "code",
   "execution_count": 704,
   "metadata": {
    "collapsed": false
   },
   "outputs": [
    {
     "data": {
      "image/png": "[encoded data removed]",
      "text/plain": [
       "<matplotlib.figure.Figure at 0x13676c5d0>"
      ]
     },
     "metadata": {},
     "output_type": "display_data"
    }
   ],
   "source": [
    "# Zoomed in for better viz:\n",
    "plt.hist([i[1] for i in probs])\n",
    "plt.ylim(0,3000)\n",
    "plt.title(\"Predictions distribution on original dataset [close-up]\")\n",
    "plt.xlabel(\"Probability of an User making a purchase\")\n",
    "plt.ylabel(\"Number of Users\")\n",
    "plt.savefig('images/probs_of_purchase_zoom.png')"
   ]
  },
  {
   "cell_type": "code",
   "execution_count": null,
   "metadata": {
    "collapsed": true
   },
   "outputs": [],
   "source": []
  },
  {
   "cell_type": "code",
   "execution_count": 698,
   "metadata": {
    "collapsed": false
   },
   "outputs": [
    {
     "name": "stdout",
     "output_type": "stream",
     "text": [
      "\n",
      "Total registered users: 57816\n",
      "\n",
      "Total registered users with 40-95% purchase probability: 2410, or 4.2% of total users. \n",
      "There will be more costs to convert users, but the potential lift considering full conversion would be of $643470.0 - or 61.3% of revenue.\n",
      "\n",
      "Total registered users with 60-95% purchase probability: 1255, or 2.2% of total users. \n",
      "There will be more costs to convert users, but the potential lift considering full conversion would be of $335085.0 - or 31.9% of revenue.\n",
      "\n",
      "Total registered users with 80-95% purchase probability: 564, or 1.0% of total users. \n",
      "There will be more costs to convert users, but the potential lift considering full conversion would be of $150588.0 - or 14.3% of revenue.\n"
     ]
    }
   ],
   "source": [
    "print \"\\nTotal registered users:\", probss.count()\n",
    "\n",
    "def recommender(threshold, ticket=267.):\n",
    "    _1 = probss[(probss>threshold) & (probss<0.95)].count()\n",
    "    _2 = round(probss[(probss>threshold) & (probss<0.95)].count()/float(probss.count())*100, 1)\n",
    "    _3 = ticket * _1\n",
    "    _4 = round(_3 / 1050000. *100, 1)\n",
    "    \n",
    "    print \"\\nTotal registered users with {}-95% purchase probability: {}, or {}% of total users. \\nThere will be more costs \\\n",
    "to convert users, but the potential lift considering full conversion would be of ${} - \\\n",
    "or {}% of revenue.\".format(int(threshold*100),_1, _2, _3, _4)\n",
    "\n",
    "for threshold in [0.4, 0.6, 0.8]:\n",
    "    recommender(threshold)"
   ]
  },
  {
   "cell_type": "code",
   "execution_count": null,
   "metadata": {
    "collapsed": true
   },
   "outputs": [],
   "source": [
    "\n",
    "'''\n",
    "Recommendations: \n",
    "Focus on users with between 30% and 95% of purchase probability (representing 5-6% of users)\n",
    "\n",
    "Average ticket of $515; but distribution tell other story:\n",
    "Average ticket for the biggest chunk (bellow $1,500) is $314\n",
    "\n",
    "Strategies/scenarios\n",
    "1) Agressive:\n",
    " - Target users with probability of purchase between 30% and 95%\n",
    " - \n",
    "\n",
    "With a $120 ticket and about 4850 targeted users, potential lift = $378,000 (going from 30% prob until 95% prob)\n",
    "With the same ticket and about 1450 targeted users, potential lift = $174,000 (going from 50% prob until 95% prob - \n",
    "representing 16.5% increase in revenue)\n",
    "Super conservative (less expenses to convert users): focus on 70-95% probability of purchase\n",
    "(500+300+300+350+250) * 120\n",
    "\n",
    "'''\n"
   ]
  },
  {
   "cell_type": "markdown",
   "metadata": {},
   "source": [
    "### Trying to fit profit curve"
   ]
  },
  {
   "cell_type": "code",
   "execution_count": 533,
   "metadata": {
    "collapsed": true
   },
   "outputs": [],
   "source": [
    "def profit_curve(cost_benefit_matrix, probabilities, y_true):\n",
    "    thresholds = sorted(probabilities)\n",
    "    thresholds.append(1.0)\n",
    "    profits = []\n",
    "    for threshold in thresholds:\n",
    "        y_predict = probabilities >= threshold\n",
    "        confusion_mat = standard_confusion_matrix(y_true, y_predict)\n",
    "        profit = np.sum(confusion_mat * cost_benefit_matrix) / float(len(y_true))\n",
    "        profits.append(profit)\n",
    "    return thresholds, profits\n",
    "\n",
    "\n",
    "def run_profit_curve(model, costbenefit, X_train, X_test, y_train, y_test):\n",
    "    model.fit(X_train, y_train)\n",
    "    probabilities = model.predict_proba(X_test)[:, 1]\n",
    "    thresholds, profits = profit_curve(costbenefit, probabilities, y_test)\n",
    "    return thresholds, profits\n",
    "\n",
    "\n",
    "def plot_profit_models(models, costbenefit, X_train, X_test, y_train, y_test):\n",
    "    percentages = np.linspace(0, 100, len(y_test) + 1)\n",
    "    for model in models:\n",
    "        thresholds, profits = run_profit_curve(model,\n",
    "                                               costbenefit,\n",
    "                                               X_train, X_test,\n",
    "                                               y_train, y_test)\n",
    "        plt.plot(percentages, profits, label=model.__class__.__name__)\n",
    "    plt.title(\"Profit Curves\")\n",
    "    plt.xlabel(\"Percentage of test instances (decreasing by score)\")\n",
    "    plt.ylabel(\"Profit\")\n",
    "    plt.legend(loc='upper left')\n",
    "    plt.savefig('profit_curve.png')\n",
    "    plt.show()\n",
    "\n",
    "\n",
    "def find_best_threshold(models, costbenefit, X_train, X_test, y_train, y_test):\n",
    "    max_model = None\n",
    "    max_threshold = None\n",
    "    max_profit = None\n",
    "    for model in models:\n",
    "        thresholds, profits = run_profit_curve(model, costbenefit,\n",
    "                                               X_train, X_test,\n",
    "                                               y_train, y_test)\n",
    "        max_index = np.argmax(profits)\n",
    "        if not max_model or profits[max_index] > max_profit:\n",
    "            max_model = model.__class__.__name__\n",
    "            max_threshold = thresholds[max_index]\n",
    "            max_profit = profits[max_index]\n",
    "    return max_model, max_threshold, max_profit\n",
    "\n",
    "\n",
    "def main(X, y):\n",
    "    sm = SMOTE(kind='regular', ratio=0.5)\n",
    "    X_resampled, y_resampled = sm.fit_transform(X, y)\n",
    "    \n",
    "    # Splitting train and test data\n",
    "    X_train, X_test, y_train, y_test = train_test_split(X_resampled, y_resampled, test_size=0.3)\n",
    "    \n",
    "    costbenefit = np.array([[0, 120], [-20, 0]])\n",
    "    models = [model]\n",
    "    # plot_profit_models(models, costbenefit,\n",
    "    #                    X_train, X_test, y_train, y_test)\n",
    "    plot_profit_models(models, costbenefit, X_train, X_test, y_train, y_test)\n",
    "    print find_best_threshold(models, costbenefit,\n",
    "                              X_train, X_test, y_train, y_test)"
   ]
  },
  {
   "cell_type": "code",
   "execution_count": 531,
   "metadata": {
    "collapsed": false
   },
   "outputs": [
    {
     "data": {
      "image/png": "[encoded data removed]",
      "text/plain": [
       "<matplotlib.figure.Figure at 0x131176fd0>"
      ]
     },
     "metadata": {},
     "output_type": "display_data"
    },
    {
     "name": "stdout",
     "output_type": "stream",
     "text": [
      "('RandomForestClassifier', 0.0, 85.611603131818768)\n"
     ]
    }
   ],
   "source": [
    "main()"
   ]
  },
  {
   "cell_type": "code",
   "execution_count": 532,
   "metadata": {
    "collapsed": true
   },
   "outputs": [],
   "source": [
    "drop_cols = ['last_sign_in_at', \n",
    "             'created_at', \n",
    "             'last_session', \n",
    "             'last_favorited_artwork_date', \n",
    "             'last_followed_artist_date',\n",
    "             'total_follows',\n",
    "             'total_favorites',\n",
    "             'city']\n",
    "df = preprocess(drop_cols)\n",
    "\n",
    "# Dropping date columns due to high relationship and used to create the label:\n",
    "df.drop('diff_last_fav_artwork_to_today', axis=1, inplace=True)\n",
    "df.drop('diff_last_artist_folw_to_today', axis=1, inplace=True)\n",
    "df.drop('diff_created_to_last', axis=1, inplace=True)\n",
    "df.drop('days_from_last_session', axis=1, inplace=True)\n",
    "\n",
    "merged_df = preprocess_purchases_and_join_with(df)\n",
    "\n",
    "# Scaling features\n",
    "merged_df.num_sessions = scale(merged_df.num_sessions)\n",
    "merged_df.total_artists_followed = scale(merged_df.total_artists_followed)\n",
    "merged_df.total_artworks_favorited = scale(merged_df.total_artworks_favorited)\n",
    "merged_df.total_artworks_shared = scale(merged_df.total_artworks_shared)\n",
    "\n",
    "# Defining y label and X matrix\n",
    "y = merged_df.pop('purchased').values\n",
    "X = merged_df.values"
   ]
  },
  {
   "cell_type": "code",
   "execution_count": null,
   "metadata": {
    "collapsed": true
   },
   "outputs": [],
   "source": [
    "main(X, y)"
   ]
  },
  {
   "cell_type": "code",
   "execution_count": null,
   "metadata": {
    "collapsed": true
   },
   "outputs": [],
   "source": []
  },
  {
   "cell_type": "code",
   "execution_count": null,
   "metadata": {
    "collapsed": true
   },
   "outputs": [],
   "source": []
  },
  {
   "cell_type": "code",
   "execution_count": null,
   "metadata": {
    "collapsed": true
   },
   "outputs": [],
   "source": []
  },
  {
   "cell_type": "markdown",
   "metadata": {},
   "source": [
    "## Model 6: Random Forests with Label = activity in last 30 days (ignoring 0 days of activity -> 17k records dropped)"
   ]
  },
  {
   "cell_type": "code",
   "execution_count": 155,
   "metadata": {
    "collapsed": true
   },
   "outputs": [],
   "source": [
    "drop_cols = ['last_sign_in_at', \n",
    "             'created_at', \n",
    "             'last_session', \n",
    "             'last_favorited_artwork_date', \n",
    "             'last_followed_artist_date',\n",
    "             'total_follows',\n",
    "             'total_favorites',\n",
    "             'city']\n",
    "df = preprocess(drop_cols)\n",
    "\n",
    "def negative_to_zero(x):\n",
    "    if x == -1:\n",
    "        return 0\n",
    "    else:\n",
    "        return x\n",
    "\n",
    "df.diff_created_to_last = df.diff_created_to_last.apply(lambda x: negative_to_zero(x))\n",
    "\n",
    "df = df[df.diff_created_to_last > 0]\n",
    "\n",
    "create_label(df, name='engagement30', original_col_name='diff_created_to_last', smaller_than=30)\n",
    "\n",
    "# Defining y label and X matrix\n",
    "y = df.pop('engagement30').values\n",
    "X = df.values"
   ]
  },
  {
   "cell_type": "code",
   "execution_count": 156,
   "metadata": {
    "collapsed": false
   },
   "outputs": [
    {
     "name": "stdout",
     "output_type": "stream",
     "text": [
      "Determining classes statistics... 2 classes detected: Counter({0: 27433, 1: 13224})\n",
      "Finding the 5 nearest neighbours...\n",
      "done!\n",
      "Creating synthetic samples...Generated 492 new samples ...\n",
      "done!\n",
      "Random Forest Scores:\n",
      "\n",
      "accuracy: 0.675820170109\n",
      "precision: 0.514166418133\n",
      "recall: 0.420795704174\n"
     ]
    },
    {
     "data": {
      "image/png": "[encoded data removed]",
      "text/plain": [
       "<matplotlib.figure.Figure at 0x1157477d0>"
      ]
     },
     "metadata": {},
     "output_type": "display_data"
    },
    {
     "name": "stdout",
     "output_type": "stream",
     "text": [
      "Feature Importance: \n",
      "\n",
      "0.466 \t\tnum_sessions\n",
      "0.1449 \t\ttotal_artists_followed\n",
      "0.2983 \t\ttotal_artworks_favorited\n",
      "0.0457 \t\ttotal_artworks_shared\n",
      "0.0187 \t\tgender_male\n",
      "0.0264 \t\tgender_unknown\n"
     ]
    },
    {
     "data": {
      "image/png": "[encoded data removed]",
      "text/plain": [
       "<matplotlib.figure.Figure at 0x1199c89d0>"
      ]
     },
     "metadata": {},
     "output_type": "display_data"
    }
   ],
   "source": [
    "fit_random_forest(X, y)"
   ]
  },
  {
   "cell_type": "code",
   "execution_count": null,
   "metadata": {
    "collapsed": false
   },
   "outputs": [],
   "source": []
  },
  {
   "cell_type": "markdown",
   "metadata": {},
   "source": [
    "## Refining models by scaling and grid searching"
   ]
  },
  {
   "cell_type": "code",
   "execution_count": 182,
   "metadata": {
    "collapsed": true
   },
   "outputs": [],
   "source": [
    "def plot_importance(clf, X, max_features=10):\n",
    "    '''Plot feature importance'''\n",
    "    feature_importance = clf.feature_importances_\n",
    "    # make importances relative to max importance\n",
    "    feature_importance = 100.0 * (feature_importance / feature_importance.max())\n",
    "    sorted_idx = np.argsort(feature_importance)\n",
    "    pos = np.arange(sorted_idx.shape[0]) + .5\n",
    "    \n",
    "    # Show only top features\n",
    "    pos = pos[-max_features:]\n",
    "    feature_importance = (feature_importance[sorted_idx])[-max_features:]\n",
    "    feature_names = (X.columns[sorted_idx])[-max_features:]\n",
    "    \n",
    "    plt.barh(pos, feature_importance, align='center')\n",
    "    plt.yticks(pos, feature_names)\n",
    "    plt.xlabel('Relative Importance')\n",
    "    plt.title('Variable Importance')\n",
    "    "
   ]
  },
  {
   "cell_type": "code",
   "execution_count": 199,
   "metadata": {
    "collapsed": true
   },
   "outputs": [],
   "source": [
    "drop_cols = ['last_sign_in_at', \n",
    "             'created_at', \n",
    "             'last_session', \n",
    "             'last_favorited_artwork_date', \n",
    "             'last_followed_artist_date',\n",
    "             'total_follows',\n",
    "             'total_favorites',\n",
    "             'city']\n",
    "df = preprocess(drop_cols)\n",
    "\n",
    "# Dropping date columns due to high relationship and used to create the label:\n",
    "df.drop('diff_last_fav_artwork_to_today', axis=1, inplace=True)\n",
    "df.drop('diff_last_artist_folw_to_today', axis=1, inplace=True)\n",
    "df.drop('diff_created_to_last', axis=1, inplace=True)\n",
    "df.drop('days_from_last_session', axis=1, inplace=True)\n",
    "\n",
    "merged_df = preprocess_purchases_and_join_with(df)"
   ]
  },
  {
   "cell_type": "code",
   "execution_count": 200,
   "metadata": {
    "collapsed": true
   },
   "outputs": [],
   "source": [
    "# Defining y label and X matrix\n",
    "y = merged_df.pop('purchased').values"
   ]
  },
  {
   "cell_type": "code",
   "execution_count": 201,
   "metadata": {
    "collapsed": true
   },
   "outputs": [],
   "source": [
    "# Scaling features\n",
    "merged_df.num_sessions = scale(merged_df.num_sessions)\n",
    "merged_df.total_artists_followed = scale(merged_df.total_artists_followed)\n",
    "merged_df.total_artworks_favorited = scale(merged_df.total_artworks_favorited)\n",
    "merged_df.total_artworks_shared = scale(merged_df.total_artworks_shared)"
   ]
  },
  {
   "cell_type": "code",
   "execution_count": 202,
   "metadata": {
    "collapsed": false
   },
   "outputs": [],
   "source": [
    "X = merged_df.values"
   ]
  },
  {
   "cell_type": "markdown",
   "metadata": {},
   "source": [
    "### Grid Searching Random Forests:"
   ]
  },
  {
   "cell_type": "code",
   "execution_count": 203,
   "metadata": {
    "collapsed": false
   },
   "outputs": [
    {
     "name": "stdout",
     "output_type": "stream",
     "text": [
      "Determining classes statistics... 2 classes detected: Counter({0: 55649, 1: 2168})\n",
      "Finding the 5 nearest neighbours...\n",
      "done!\n",
      "Creating synthetic samples...Generated 20091 new samples ...\n",
      "done!\n",
      "Fitting 3 folds for each of 324 candidates, totalling 972 fits\n"
     ]
    },
    {
     "name": "stderr",
     "output_type": "stream",
     "text": [
      "[Parallel(n_jobs=-1)]: Done  42 tasks      | elapsed:   53.0s\n",
      "[Parallel(n_jobs=-1)]: Done 192 tasks      | elapsed:  4.5min\n",
      "[Parallel(n_jobs=-1)]: Done 442 tasks      | elapsed: 12.6min\n",
      "[Parallel(n_jobs=-1)]: Done 792 tasks      | elapsed: 27.8min\n",
      "[Parallel(n_jobs=-1)]: Done 972 out of 972 | elapsed: 38.5min finished\n"
     ]
    },
    {
     "name": "stdout",
     "output_type": "stream",
     "text": [
      "{'oob_score': True, 'n_jobs': -1, 'bootstrap': True, 'min_samples_leaf': 2, 'n_estimators': 400, 'min_samples_split': 1, 'random_state': 67, 'max_features': None, 'max_depth': None}\n",
      "OOB: 0.954121206565\n"
     ]
    },
    {
     "ename": "AttributeError",
     "evalue": "'numpy.ndarray' object has no attribute 'columns'",
     "output_type": "error",
     "traceback": [
      "\u001b[0;31m---------------------------------------------------------------------------\u001b[0m",
      "\u001b[0;31mAttributeError\u001b[0m                            Traceback (most recent call last)",
      "\u001b[0;32m<ipython-input-203-c406e79e7118>\u001b[0m in \u001b[0;36m<module>\u001b[0;34m()\u001b[0m\n\u001b[1;32m     31\u001b[0m \u001b[0;32mprint\u001b[0m \u001b[0;34m\"OOB:\"\u001b[0m\u001b[0;34m,\u001b[0m \u001b[0mbest_model\u001b[0m\u001b[0;34m.\u001b[0m\u001b[0moob_score_\u001b[0m\u001b[0;34m\u001b[0m\u001b[0m\n\u001b[1;32m     32\u001b[0m \u001b[0;34m\u001b[0m\u001b[0m\n\u001b[0;32m---> 33\u001b[0;31m \u001b[0mplot_importance\u001b[0m\u001b[0;34m(\u001b[0m\u001b[0mbest_model\u001b[0m\u001b[0;34m,\u001b[0m \u001b[0mX_train\u001b[0m\u001b[0;34m,\u001b[0m \u001b[0mmax_features\u001b[0m\u001b[0;34m=\u001b[0m\u001b[0;36m16\u001b[0m\u001b[0;34m)\u001b[0m\u001b[0;34m\u001b[0m\u001b[0m\n\u001b[0m",
      "\u001b[0;32m<ipython-input-182-84aa9ca35097>\u001b[0m in \u001b[0;36mplot_importance\u001b[0;34m(clf, X, max_features)\u001b[0m\n\u001b[1;32m     14\u001b[0m     \u001b[0mpos\u001b[0m \u001b[0;34m=\u001b[0m \u001b[0mpos\u001b[0m\u001b[0;34m[\u001b[0m\u001b[0;34m-\u001b[0m\u001b[0mmax_features\u001b[0m\u001b[0;34m:\u001b[0m\u001b[0;34m]\u001b[0m\u001b[0;34m\u001b[0m\u001b[0m\n\u001b[1;32m     15\u001b[0m     \u001b[0mfeature_importance\u001b[0m \u001b[0;34m=\u001b[0m \u001b[0;34m(\u001b[0m\u001b[0mfeature_importance\u001b[0m\u001b[0;34m[\u001b[0m\u001b[0msorted_idx\u001b[0m\u001b[0;34m]\u001b[0m\u001b[0;34m)\u001b[0m\u001b[0;34m[\u001b[0m\u001b[0;34m-\u001b[0m\u001b[0mmax_features\u001b[0m\u001b[0;34m:\u001b[0m\u001b[0;34m]\u001b[0m\u001b[0;34m\u001b[0m\u001b[0m\n\u001b[0;32m---> 16\u001b[0;31m     \u001b[0mfeature_names\u001b[0m \u001b[0;34m=\u001b[0m \u001b[0;34m(\u001b[0m\u001b[0mX\u001b[0m\u001b[0;34m.\u001b[0m\u001b[0mcolumns\u001b[0m\u001b[0;34m[\u001b[0m\u001b[0msorted_idx\u001b[0m\u001b[0;34m]\u001b[0m\u001b[0;34m)\u001b[0m\u001b[0;34m[\u001b[0m\u001b[0;34m-\u001b[0m\u001b[0mmax_features\u001b[0m\u001b[0;34m:\u001b[0m\u001b[0;34m]\u001b[0m\u001b[0;34m\u001b[0m\u001b[0m\n\u001b[0m\u001b[1;32m     17\u001b[0m \u001b[0;34m\u001b[0m\u001b[0m\n\u001b[1;32m     18\u001b[0m     \u001b[0mplt\u001b[0m\u001b[0;34m.\u001b[0m\u001b[0mbarh\u001b[0m\u001b[0;34m(\u001b[0m\u001b[0mpos\u001b[0m\u001b[0;34m,\u001b[0m \u001b[0mfeature_importance\u001b[0m\u001b[0;34m,\u001b[0m \u001b[0malign\u001b[0m\u001b[0;34m=\u001b[0m\u001b[0;34m'center'\u001b[0m\u001b[0;34m)\u001b[0m\u001b[0;34m\u001b[0m\u001b[0m\n",
      "\u001b[0;31mAttributeError\u001b[0m: 'numpy.ndarray' object has no attribute 'columns'"
     ]
    }
   ],
   "source": [
    "rf_grid = {\n",
    "    'max_depth': [4, 8, None],\n",
    "    'max_features': ['sqrt', 'log2', None],\n",
    "    'min_samples_split': [1, 2, 4],\n",
    "    'min_samples_leaf': [1, 2, 4],\n",
    "    'bootstrap': [True], # Mandatory with oob_score=True\n",
    "    'n_estimators': [50, 100, 200, 400],\n",
    "    'random_state': [67],\n",
    "    'oob_score': [True],\n",
    "    'n_jobs': [-1]\n",
    "    }\n",
    "\n",
    "rf_grid_cv = GridSearchCV(RandomForestClassifier(),\n",
    "                             rf_grid,\n",
    "                             n_jobs=-1,\n",
    "                             verbose=True,\n",
    "                             scoring='roc_auc')\n",
    "\n",
    "sm = SMOTE(kind='regular', ratio=0.4)\n",
    "X_resampled, y_resampled = sm.fit_transform(X, y)\n",
    "\n",
    "# Splitting train and test data\n",
    "X_train, X_test, y_train, y_test = train_test_split(X_resampled, y_resampled, test_size=0.3)\n",
    "\n",
    "rf_grid_cv.fit(X_train, y_train)\n",
    "\n",
    "print rf_grid_cv.best_params_\n",
    "\n",
    "best_model = rf_grid_cv.best_estimator_\n",
    "\n",
    "print \"OOB:\", best_model.oob_score_"
   ]
  },
  {
   "cell_type": "code",
   "execution_count": 222,
   "metadata": {
    "collapsed": false
   },
   "outputs": [
    {
     "data": {
      "image/png": "[encoded data removed]",
      "text/plain": [
       "<matplotlib.figure.Figure at 0x115a37e50>"
      ]
     },
     "metadata": {},
     "output_type": "display_data"
    }
   ],
   "source": [
    "plot_importance(best_model, merged_df, max_features=16)"
   ]
  },
  {
   "cell_type": "code",
   "execution_count": null,
   "metadata": {
    "collapsed": true
   },
   "outputs": [],
   "source": []
  },
  {
   "cell_type": "code",
   "execution_count": null,
   "metadata": {
    "collapsed": true
   },
   "outputs": [],
   "source": []
  },
  {
   "cell_type": "code",
   "execution_count": null,
   "metadata": {
    "collapsed": true
   },
   "outputs": [],
   "source": [
    "42"
   ]
  },
  {
   "cell_type": "markdown",
   "metadata": {},
   "source": [
    "## Trying to understand puchase cycles:"
   ]
  },
  {
   "cell_type": "code",
   "execution_count": 722,
   "metadata": {
    "collapsed": false
   },
   "outputs": [
    {
     "name": "stdout",
     "output_type": "stream",
     "text": [
      "After the first purchase, how many days until purchase #2? 108.612149533 days\n"
     ]
    }
   ],
   "source": [
    "# Once a user makes a purchase, how long does it take for him to buy again?\n",
    "\n",
    "pc = pd.read_csv('purchase_cycles.csv')\n",
    "pc.when = pd.to_datetime(pc['when'])\n",
    "\n",
    "# Dropping Vango's team ids\n",
    "vango_ids = [38175, 1, 1326, 587, 736, 45651, 67966, 48516, 84261, 30975, 4260]\n",
    "for _id in vango_ids:\n",
    "    pc = pc[pc.id != _id]\n",
    "\n",
    "pc = pc.sort_values('when', axis=0)\n",
    "pc['diffs'] = pc.groupby('id').when.diff()\n",
    "pc['diffs'] = pc.diffs.apply(lambda x: extract_days(x))\n",
    "pc = pc[pc.diffs != 0]\n",
    "\n",
    "print \"After the first purchase, how many days until purchase #2?\", pc.diffs.mean(), \"days\""
   ]
  },
  {
   "cell_type": "code",
   "execution_count": 569,
   "metadata": {
    "collapsed": false
   },
   "outputs": [
    {
     "data": {
      "text/plain": [
       "103.07000000000001"
      ]
     },
     "execution_count": 569,
     "metadata": {},
     "output_type": "execute_result"
    }
   ],
   "source": [
    "# Average ticket\n",
    "pc.total_spent.mean()\n",
    "515.35*0.20"
   ]
  },
  {
   "cell_type": "code",
   "execution_count": 687,
   "metadata": {
    "collapsed": false
   },
   "outputs": [
    {
     "data": {
      "text/plain": [
       "266.65559932470455"
      ]
     },
     "execution_count": 687,
     "metadata": {},
     "output_type": "execute_result"
    }
   ],
   "source": [
    "pc[pc.total_spent<1000].total_spent.mean()"
   ]
  },
  {
   "cell_type": "code",
   "execution_count": 705,
   "metadata": {
    "collapsed": false
   },
   "outputs": [
    {
     "data": {
      "image/png": "[encoded data removed]",
      "text/plain": [
       "<matplotlib.figure.Figure at 0x1392db550>"
      ]
     },
     "metadata": {},
     "output_type": "display_data"
    }
   ],
   "source": [
    "pc.total_spent.hist(bins=50)\n",
    "plt.xlim(0,5000)\n",
    "plt.title(\"Purchases ticket/price\")\n",
    "plt.xlabel(\"Total spent in purchases\")\n",
    "plt.ylabel(\"Number of Users\")\n",
    "plt.savefig('images/purchases_ticket.png')"
   ]
  },
  {
   "cell_type": "code",
   "execution_count": null,
   "metadata": {
    "collapsed": true
   },
   "outputs": [],
   "source": [
    "#Compute difference between signup and purchase dates.\n",
    "#Extract the number days (don't carea bout precise millisecond)\n",
    "#groupby sum on number of days for num of purchases"
   ]
  },
  {
   "cell_type": "code",
   "execution_count": 558,
   "metadata": {
    "collapsed": false
   },
   "outputs": [
    {
     "data": {
      "image/png": "[encoded data removed]",
      "text/plain": [
       "<matplotlib.figure.Figure at 0x12a2b2650>"
      ]
     },
     "metadata": {},
     "output_type": "display_data"
    }
   ],
   "source": [
    "# Loading csv extracted from database into a Pandas DataFrame\n",
    "df = pd.read_csv('dataset.csv', usecols=range(1,17))\n",
    "\n",
    "# Treating date fields and converting them to datetime timestamp\n",
    "df['acc_created_at'] = pd.to_datetime(df['created_at'])\n",
    "df.drop('created_at', axis=1, inplace=True)\n",
    "df.last_session = pd.to_datetime(df['last_session'])\n",
    "df.last_favorited_artwork_date = pd.to_datetime(df['last_favorited_artwork_date'])\n",
    "df.last_followed_artist_date = pd.to_datetime(df['last_followed_artist_date'])\n",
    "\n",
    "# Creating function to extract only the days (int) from TimeDelta objects\n",
    "def extract_days(x):\n",
    "    try:\n",
    "        return x.days\n",
    "    except:\n",
    "        return 0\n",
    "\n",
    "def negative_to_zero(x):\n",
    "    if x < 0:\n",
    "        return 0\n",
    "    else:\n",
    "        return x    \n",
    "\n",
    "df = df.set_index('id')\n",
    "\n",
    "# Loading data\n",
    "purch = pd.read_csv('purchases.csv', usecols=range(1,5))\n",
    "\n",
    "# Dropping Vango's team ids\n",
    "vango_ids = [38175, 1, 1326, 587, 736, 45651, 67966, 48516, 84261, 30975, 4260]\n",
    "for _id in vango_ids:\n",
    "    purch = purch[purch.user_id != _id]\n",
    "\n",
    "purch = purch.set_index('user_id')\n",
    "\n",
    "# Dropping purchases from anonymous non-registered users\n",
    "purch.dropna(inplace=True)\n",
    "\n",
    "pc = df.join(purch)\n",
    "\n",
    "pc.created_at = pd.to_datetime(pc['created_at'])\n",
    "\n",
    "# New feature: Extracting the difference between last session and today\n",
    "pc['diff_acc_to_purchase'] = pc.created_at - pc.acc_created_at\n",
    "pc['diff_acc_to_purchase'] = pc.diff_acc_to_purchase.apply(lambda x: extract_days(x))\n",
    "pc['diff_acc_to_purchase'] = pc.diff_acc_to_purchase.apply(lambda x: negative_to_zero(x))\n",
    "\n",
    "pc = pc[pc.diff_acc_to_purchase != 0]\n",
    "\n",
    "\n",
    "pc = pc.sort_values('diff_acc_to_purchase')\n",
    "\n",
    "with plt.style.context('fivethirtyeight'):\n",
    "    plt.plot(pc.diff_acc_to_purchase, np.cumsum(pc.total_spent))\n",
    "    plt.xlim(-50)"
   ]
  },
  {
   "cell_type": "code",
   "execution_count": 559,
   "metadata": {
    "collapsed": false
   },
   "outputs": [
    {
     "data": {
      "text/plain": [
       "112.32029702970297"
      ]
     },
     "execution_count": 559,
     "metadata": {},
     "output_type": "execute_result"
    }
   ],
   "source": [
    "pc.diff_acc_to_purchase.mean()"
   ]
  },
  {
   "cell_type": "code",
   "execution_count": 719,
   "metadata": {
    "collapsed": false
   },
   "outputs": [
    {
     "data": {
      "image/png": "[encoded data removed]",
      "text/plain": [
       "<matplotlib.figure.Figure at 0x13df13f10>"
      ]
     },
     "metadata": {},
     "output_type": "display_data"
    }
   ],
   "source": [
    "plt.plot(pc.diff_acc_to_purchase, np.cumsum(pc.total_spent))\n",
    "plt.title(\"Cumulative Revenue centering all\\n users on their Registration Day\")\n",
    "plt.yticks([])\n",
    "plt.xlabel(\"Days since each User registered\")\n",
    "plt.ylabel(\"Cumulative Revenue\")\n",
    "plt.savefig('images/cumulative_revenue_from_registrations.png')"
   ]
  },
  {
   "cell_type": "code",
   "execution_count": 298,
   "metadata": {
    "collapsed": false
   },
   "outputs": [
    {
     "data": {
      "text/plain": [
       "[<matplotlib.lines.Line2D at 0x133877fd0>]"
      ]
     },
     "execution_count": 298,
     "metadata": {},
     "output_type": "execute_result"
    },
    {
     "data": {
      "image/png": "[encoded data removed]",
      "text/plain": [
       "<matplotlib.figure.Figure at 0x124f22110>"
      ]
     },
     "metadata": {},
     "output_type": "display_data"
    }
   ],
   "source": [
    "plt.plot(pc.diff_acc_to_purchase, np.cumsum(pc.total_spent))"
   ]
  },
  {
   "cell_type": "code",
   "execution_count": 299,
   "metadata": {
    "collapsed": false
   },
   "outputs": [
    {
     "data": {
      "text/plain": [
       "112.99273255813954"
      ]
     },
     "execution_count": 299,
     "metadata": {},
     "output_type": "execute_result"
    }
   ],
   "source": [
    "pc.diff_acc_to_purchase.mean()"
   ]
  },
  {
   "cell_type": "code",
   "execution_count": 301,
   "metadata": {
    "collapsed": false
   },
   "outputs": [
    {
     "data": {
      "text/plain": [
       "<matplotlib.axes._subplots.AxesSubplot at 0x12867bb50>"
      ]
     },
     "execution_count": 301,
     "metadata": {},
     "output_type": "execute_result"
    },
    {
     "data": {
      "image/png": "[encoded data removed]",
      "text/plain": [
       "<matplotlib.figure.Figure at 0x12867b9d0>"
      ]
     },
     "metadata": {},
     "output_type": "display_data"
    }
   ],
   "source": [
    "pc.diff_acc_to_purchase.hist(bins=25)"
   ]
  },
  {
   "cell_type": "code",
   "execution_count": 302,
   "metadata": {
    "collapsed": false
   },
   "outputs": [
    {
     "data": {
      "image/png": "[encoded data removed]",
      "text/plain": [
       "<matplotlib.figure.Figure at 0x12867bd10>"
      ]
     },
     "metadata": {},
     "output_type": "display_data"
    }
   ],
   "source": [
    "with plt.style.context('fivethirtyeight'):\n",
    "    plt.plot(pc.diff_acc_to_purchase, np.cumsum(pc.total_spent))"
   ]
  },
  {
   "cell_type": "code",
   "execution_count": 305,
   "metadata": {
    "collapsed": false
   },
   "outputs": [
    {
     "data": {
      "image/png": "[encoded data removed]",
      "text/plain": [
       "<matplotlib.figure.Figure at 0x1274f4090>"
      ]
     },
     "metadata": {},
     "output_type": "display_data"
    }
   ],
   "source": [
    "with plt.style.context('fivethirtyeight'):\n",
    "    pc.diff_acc_to_purchase.hist(bins=25)"
   ]
  },
  {
   "cell_type": "code",
   "execution_count": null,
   "metadata": {
    "collapsed": true
   },
   "outputs": [],
   "source": []
  },
  {
   "cell_type": "code",
   "execution_count": 335,
   "metadata": {
    "collapsed": false
   },
   "outputs": [],
   "source": [
    "tmp = pc[['diff_acc_to_purchase', 'total_spent']]"
   ]
  },
  {
   "cell_type": "code",
   "execution_count": 341,
   "metadata": {
    "collapsed": false
   },
   "outputs": [],
   "source": [
    "def negative_to_zero(x):\n",
    "    if x < 0:\n",
    "        return 0\n",
    "    else:\n",
    "        return x"
   ]
  },
  {
   "cell_type": "code",
   "execution_count": 342,
   "metadata": {
    "collapsed": false
   },
   "outputs": [],
   "source": [
    "tmp.diff_acc_to_purchase = tmp.diff_acc_to_purchase.apply(lambda x: negative_to_zero(x))"
   ]
  },
  {
   "cell_type": "code",
   "execution_count": 366,
   "metadata": {
    "collapsed": false
   },
   "outputs": [
    {
     "name": "stdout",
     "output_type": "stream",
     "text": [
      "Average time since registration for an user to make the first purchase: 103.324216524 days\n"
     ]
    }
   ],
   "source": [
    "tmp = tmp.groupby(tmp.index).agg({'diff_acc_to_purchase': np.min})\n",
    "print \"Average time since registration for an user to make the first purchase:\", tmp.diff_acc_to_purchase.mean(), \"days\""
   ]
  },
  {
   "cell_type": "code",
   "execution_count": 723,
   "metadata": {
    "collapsed": false
   },
   "outputs": [
    {
     "data": {
      "image/png": "[encoded data removed]",
      "text/plain": [
       "<matplotlib.figure.Figure at 0x1363e8b10>"
      ]
     },
     "metadata": {},
     "output_type": "display_data"
    }
   ],
   "source": [
    "tmp.diff_acc_to_purchase.hist(bins=25)\n",
    "plt.title(\"Days since Registration to make First Purchase\")\n",
    "plt.xlabel(\"Days between Registration and Purchase\")\n",
    "plt.ylabel(\"Number of Users\")\n",
    "plt.savefig('images/days_from_reg_to_purch.png')"
   ]
  },
  {
   "cell_type": "code",
   "execution_count": null,
   "metadata": {
    "collapsed": true
   },
   "outputs": [],
   "source": []
  }
 ],
 "metadata": {
  "kernelspec": {
   "display_name": "Python 2",
   "language": "python",
   "name": "python2"
  },
  "language_info": {
   "codemirror_mode": {
    "name": "ipython",
    "version": 2
   },
   "file_extension": ".py",
   "mimetype": "text/x-python",
   "name": "python",
   "nbconvert_exporter": "python",
   "pygments_lexer": "ipython2",
   "version": "2.7.11"
  }
 },
 "nbformat": 4,
 "nbformat_minor": 0
}
