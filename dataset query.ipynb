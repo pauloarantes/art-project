{
 "cells": [
  {
   "cell_type": "code",
   "execution_count": 1,
   "metadata": {
    "collapsed": true
   },
   "outputs": [],
   "source": [
    "import psycopg2\n",
    "from datetime import datetime\n",
    "import pandas as pd\n",
    "import numpy as np\n",
    "\n",
    "conn = psycopg2.connect(dbname='test_data', user='pauloarantes', host='/tmp')\n",
    "c = conn.cursor()"
   ]
  },
  {
   "cell_type": "code",
   "execution_count": 26,
   "metadata": {
    "collapsed": false
   },
   "outputs": [],
   "source": [
    "c.execute(\n",
    "    '''\n",
    "SELECT\n",
    "u.id,\n",
    "u.last_sign_in_at::date,\n",
    "u.created_at::date,\n",
    "to_timestamp(CAST(bs.max_time as int))::date as last_session,\n",
    "bs.num_sessions,\n",
    "bs.total_artists_followed,\n",
    "bs.total_artworks_favorited,\n",
    "bs.total_artworks_shared,\n",
    "bs.total_follows,\n",
    "bs.total_favorites,\n",
    "bs.last_favorited_artwork_date,\n",
    "bs.last_followed_artist_date,\n",
    "city.city,\n",
    "gender.gender,\n",
    "user_type.user_type,\n",
    "os.os\n",
    "\n",
    "FROM users u\n",
    "\n",
    "JOIN (SELECT CAST(data->'properties'->>'user id' AS int) as user_id,\n",
    "             COUNT(data->'properties'->>'user id') as num_sessions,\n",
    "             MAX(data->'properties'->>'time') as max_time,\n",
    "             MAX(data->'properties'->>'total artists followed') as total_artists_followed,\n",
    "             MAX(data->'properties'->>'total artworks favorited')as total_artworks_favorited,\n",
    "             MAX(data->'properties'->>'total artworks shared')as total_artworks_shared,\n",
    "             MAX(data->'properties'->>'last favorited artwork date') as last_favorited_artwork_date,\n",
    "             MAX(data->'properties'->>'last followed artist date') as last_followed_artist_date,\n",
    "             MAX(data->'properties'->>'total follows') as total_follows,\n",
    "             MAX(data->'properties'->>'total favorites') as total_favorites\n",
    "        FROM mp_began_session\n",
    "        GROUP BY data->'properties'->>'user id') bs\n",
    "ON bs.user_id=u.id\n",
    "\n",
    "FULL OUTER JOIN user_city city\n",
    "ON u.id=city.user_id\n",
    "\n",
    "FULL OUTER JOIN user_gender gender\n",
    "ON u.id=gender.user_id\n",
    "\n",
    "FULL OUTER JOIN user_os os\n",
    "ON u.id=os.user_id\n",
    "\n",
    "FULL OUTER JOIN user_type\n",
    "ON u.id=user_type.user_id\n",
    "\n",
    "'''\n",
    ")"
   ]
  },
  {
   "cell_type": "code",
   "execution_count": 27,
   "metadata": {
    "collapsed": false
   },
   "outputs": [
    {
     "name": "stdout",
     "output_type": "stream",
     "text": [
      "57931\n"
     ]
    }
   ],
   "source": [
    "data = c.fetchall()\n",
    "print len(data)"
   ]
  },
  {
   "cell_type": "code",
   "execution_count": 28,
   "metadata": {
    "collapsed": true
   },
   "outputs": [],
   "source": [
    "cols = ['id',\n",
    "'last_sign_in_at',\n",
    "'created_at',\n",
    "'last_session',\n",
    "'num_sessions',\n",
    "'total_artists_followed',\n",
    "'total_artworks_favorited',\n",
    "'total_artworks_shared',\n",
    "'total_follows',\n",
    "'total_favorites',\n",
    "'last_favorited_artwork_date',\n",
    "'last_followed_artist_date',\n",
    "'city',\n",
    "'gender',\n",
    "'user_type',\n",
    "'os']"
   ]
  },
  {
   "cell_type": "code",
   "execution_count": 29,
   "metadata": {
    "collapsed": true
   },
   "outputs": [],
   "source": [
    "df = pd.DataFrame(data, columns=cols)"
   ]
  },
  {
   "cell_type": "code",
   "execution_count": 45,
   "metadata": {
    "collapsed": false
   },
   "outputs": [],
   "source": [
    "df.created_at = pd.to_datetime(df.created_at).dt.date\n",
    "df.last_favorited_artwork_date = pd.to_datetime(df.last_favorited_artwork_date, errors='coerce').dt.date\n",
    "df.last_followed_artist_date = pd.to_datetime(df.last_followed_artist_date, errors='coerce').dt.date"
   ]
  },
  {
   "cell_type": "code",
   "execution_count": 46,
   "metadata": {
    "collapsed": false
   },
   "outputs": [
    {
     "data": {
      "text/html": [
       "<div>\n",
       "<table border=\"1\" class=\"dataframe\">\n",
       "  <thead>\n",
       "    <tr style=\"text-align: right;\">\n",
       "      <th></th>\n",
       "      <th>id</th>\n",
       "      <th>last_sign_in_at</th>\n",
       "      <th>created_at</th>\n",
       "      <th>last_session</th>\n",
       "      <th>num_sessions</th>\n",
       "      <th>total_artists_followed</th>\n",
       "      <th>total_artworks_favorited</th>\n",
       "      <th>total_artworks_shared</th>\n",
       "      <th>total_follows</th>\n",
       "      <th>total_favorites</th>\n",
       "      <th>last_favorited_artwork_date</th>\n",
       "      <th>last_followed_artist_date</th>\n",
       "      <th>city</th>\n",
       "      <th>gender</th>\n",
       "      <th>user_type</th>\n",
       "      <th>os</th>\n",
       "    </tr>\n",
       "  </thead>\n",
       "  <tbody>\n",
       "    <tr>\n",
       "      <th>0</th>\n",
       "      <td>10002.0</td>\n",
       "      <td>2014-05-11</td>\n",
       "      <td>2014-05-11</td>\n",
       "      <td>2015-08-01</td>\n",
       "      <td>1.0</td>\n",
       "      <td>0</td>\n",
       "      <td>2</td>\n",
       "      <td>0</td>\n",
       "      <td>0</td>\n",
       "      <td>2</td>\n",
       "      <td>NaN</td>\n",
       "      <td>NaN</td>\n",
       "      <td>Arlington Heights</td>\n",
       "      <td>None</td>\n",
       "      <td>None</td>\n",
       "      <td>iPhone OS</td>\n",
       "    </tr>\n",
       "    <tr>\n",
       "      <th>1</th>\n",
       "      <td>10006.0</td>\n",
       "      <td>None</td>\n",
       "      <td>2014-05-11</td>\n",
       "      <td>2016-02-28</td>\n",
       "      <td>9.0</td>\n",
       "      <td>0</td>\n",
       "      <td>3</td>\n",
       "      <td>0</td>\n",
       "      <td>0</td>\n",
       "      <td>3</td>\n",
       "      <td>NaN</td>\n",
       "      <td>NaN</td>\n",
       "      <td>Elizabeth</td>\n",
       "      <td>male</td>\n",
       "      <td>None</td>\n",
       "      <td>iPhone OS</td>\n",
       "    </tr>\n",
       "    <tr>\n",
       "      <th>2</th>\n",
       "      <td>10013.0</td>\n",
       "      <td>None</td>\n",
       "      <td>2014-05-11</td>\n",
       "      <td>2015-06-06</td>\n",
       "      <td>2.0</td>\n",
       "      <td>0</td>\n",
       "      <td>1</td>\n",
       "      <td>0</td>\n",
       "      <td>None</td>\n",
       "      <td>None</td>\n",
       "      <td>NaN</td>\n",
       "      <td>NaN</td>\n",
       "      <td>Philadelphia</td>\n",
       "      <td>None</td>\n",
       "      <td>Logged in with FB</td>\n",
       "      <td>iPhone OS</td>\n",
       "    </tr>\n",
       "    <tr>\n",
       "      <th>3</th>\n",
       "      <td>10045.0</td>\n",
       "      <td>2014-05-11</td>\n",
       "      <td>2014-05-11</td>\n",
       "      <td>2016-03-16</td>\n",
       "      <td>49.0</td>\n",
       "      <td>0</td>\n",
       "      <td>13</td>\n",
       "      <td>0</td>\n",
       "      <td>None</td>\n",
       "      <td>None</td>\n",
       "      <td>NaN</td>\n",
       "      <td>NaN</td>\n",
       "      <td>Jersey City</td>\n",
       "      <td>None</td>\n",
       "      <td>None</td>\n",
       "      <td>iPhone OS</td>\n",
       "    </tr>\n",
       "    <tr>\n",
       "      <th>4</th>\n",
       "      <td>10071.0</td>\n",
       "      <td>2014-05-11</td>\n",
       "      <td>2014-05-11</td>\n",
       "      <td>2016-04-17</td>\n",
       "      <td>2.0</td>\n",
       "      <td>0</td>\n",
       "      <td>2</td>\n",
       "      <td>0</td>\n",
       "      <td>None</td>\n",
       "      <td>None</td>\n",
       "      <td>NaN</td>\n",
       "      <td>NaN</td>\n",
       "      <td>San Antonio</td>\n",
       "      <td>None</td>\n",
       "      <td>Organic</td>\n",
       "      <td>iPhone OS</td>\n",
       "    </tr>\n",
       "  </tbody>\n",
       "</table>\n",
       "</div>"
      ],
      "text/plain": [
       "        id last_sign_in_at  created_at last_session  num_sessions  \\\n",
       "0  10002.0      2014-05-11  2014-05-11   2015-08-01           1.0   \n",
       "1  10006.0            None  2014-05-11   2016-02-28           9.0   \n",
       "2  10013.0            None  2014-05-11   2015-06-06           2.0   \n",
       "3  10045.0      2014-05-11  2014-05-11   2016-03-16          49.0   \n",
       "4  10071.0      2014-05-11  2014-05-11   2016-04-17           2.0   \n",
       "\n",
       "  total_artists_followed total_artworks_favorited total_artworks_shared  \\\n",
       "0                      0                        2                     0   \n",
       "1                      0                        3                     0   \n",
       "2                      0                        1                     0   \n",
       "3                      0                       13                     0   \n",
       "4                      0                        2                     0   \n",
       "\n",
       "  total_follows total_favorites last_favorited_artwork_date  \\\n",
       "0             0               2                         NaN   \n",
       "1             0               3                         NaN   \n",
       "2          None            None                         NaN   \n",
       "3          None            None                         NaN   \n",
       "4          None            None                         NaN   \n",
       "\n",
       "  last_followed_artist_date               city gender          user_type  \\\n",
       "0                       NaN  Arlington Heights   None               None   \n",
       "1                       NaN          Elizabeth   male               None   \n",
       "2                       NaN       Philadelphia   None  Logged in with FB   \n",
       "3                       NaN        Jersey City   None               None   \n",
       "4                       NaN        San Antonio   None            Organic   \n",
       "\n",
       "          os  \n",
       "0  iPhone OS  \n",
       "1  iPhone OS  \n",
       "2  iPhone OS  \n",
       "3  iPhone OS  \n",
       "4  iPhone OS  "
      ]
     },
     "execution_count": 46,
     "metadata": {},
     "output_type": "execute_result"
    }
   ],
   "source": [
    "df.head()"
   ]
  },
  {
   "cell_type": "code",
   "execution_count": null,
   "metadata": {
    "collapsed": false
   },
   "outputs": [],
   "source": []
  },
  {
   "cell_type": "code",
   "execution_count": null,
   "metadata": {
    "collapsed": true
   },
   "outputs": [],
   "source": []
  },
  {
   "cell_type": "code",
   "execution_count": 52,
   "metadata": {
    "collapsed": false
   },
   "outputs": [],
   "source": [
    "df.to_csv('dataset.csv')"
   ]
  },
  {
   "cell_type": "code",
   "execution_count": null,
   "metadata": {
    "collapsed": false
   },
   "outputs": [],
   "source": [
    "c.execute(\n",
    "'''\n",
    "CREATE TABLE cities AS\n",
    "SELECT data->'properties'->>'user id' as user_id, \n",
    "       MAX(data->'properties'->>'time') as max_time\n",
    "FROM mp_began_session \n",
    "WHERE data->'properties'->>'$city' IS NOT NULL \n",
    "GROUP BY data->'properties'->>'user id'\n",
    ";\n",
    "'''\n",
    ")"
   ]
  },
  {
   "cell_type": "code",
   "execution_count": null,
   "metadata": {
    "collapsed": true
   },
   "outputs": [],
   "source": []
  },
  {
   "cell_type": "code",
   "execution_count": null,
   "metadata": {
    "collapsed": false
   },
   "outputs": [],
   "source": []
  },
  {
   "cell_type": "code",
   "execution_count": null,
   "metadata": {
    "collapsed": false
   },
   "outputs": [],
   "source": [
    "c.execute('''\n",
    "WITH genders AS(\n",
    "        SELECT data->'properties'->>'user id' as user_id, \n",
    "               MAX(data->'properties'->>'time') as max_time\n",
    "        FROM mp_began_session \n",
    "        WHERE data->'properties'->>'gender' IS NOT NULL \n",
    "        GROUP BY data->'properties'->>'user id'\n",
    "        )\n",
    "                SELECT  CAST(mp.data->'properties'->>'user id' AS int) as user_id,\n",
    "                             mp.data->'properties'->>'gender' as gender\n",
    "                FROM mp_began_session mp\n",
    "                JOIN genders\n",
    "                ON genders.user_id=mp.data->'properties'->>'user id' \n",
    "                AND genders.max_time=mp.data->'properties'->>'time'\n",
    "''')"
   ]
  },
  {
   "cell_type": "code",
   "execution_count": null,
   "metadata": {
    "collapsed": false
   },
   "outputs": [],
   "source": [
    "SELECT\n",
    "u.id,\n",
    "u.last_sign_in_at::date,\n",
    "u.created_at::date,\n",
    "to_timestamp(CAST(bs.max_time as int)) as last_session,\n",
    "bs.num_sessions,\n",
    "bs.total_artists_followed,\n",
    "bs.total_artworks_favorited,\n",
    "bs.total_artworks_shared,\n",
    "bs.total_follows,\n",
    "bs.total_favorites,\n",
    "bs.last_favorited_artwork_date::date,\n",
    "bs.last_followed_artist_date::date,\n",
    "city.city \n",
    "\n",
    "INTO test_city\n",
    "\n",
    "FROM users u\n",
    "\n",
    "JOIN (SELECT CAST(data->'properties'->>'user id' AS int) as user_id,\n",
    "             COUNT(data->'properties'->>'user id') as num_sessions,\n",
    "             MAX(data->'properties'->>'time') as max_time,\n",
    "             MAX(data->'properties'->>'total artists followed') as total_artists_followed,\n",
    "             MAX(data->'properties'->>'total artworks favorited')as total_artworks_favorited,\n",
    "             MAX(data->'properties'->>'total artworks shared')as total_artworks_shared,\n",
    "             MAX(data->'properties'->>'last favorited artwork date') as last_favorited_artwork_date,\n",
    "             MAX(data->'properties'->>'last followed artist date') as last_followed_artist_date,\n",
    "             MAX(data->'properties'->>'total follows') as total_follows,\n",
    "             MAX(data->'properties'->>'total favorites') as total_favorites\n",
    "        FROM mp_began_session\n",
    "        GROUP BY data->'properties'->>'user id') bs\n",
    "ON bs.user_id=u.id\n",
    "\n",
    "JOIN (SELECT  CAST(mp.data->'properties'->>'user id' AS int) as user_id,\n",
    "                   mp.data->'properties'->>'$city' as city\n",
    "                FROM mp_began_session mp\n",
    "                JOIN user_cities_time\n",
    "                ON user_cities_time.user_id=mp.data->'properties'->>'user id' \n",
    "                AND user_cities_time.max_time=mp.data->'properties'->>'time') city\n",
    "ON city.user_id=u.id;\n"
   ]
  },
  {
   "cell_type": "code",
   "execution_count": null,
   "metadata": {
    "collapsed": false
   },
   "outputs": [],
   "source": [
    "c.execute(\n",
    "    '''\n",
    "SELECT\n",
    "u.id,\n",
    "u.last_sign_in_at::date,\n",
    "u.created_at::date,\n",
    "to_timestamp(CAST(bs.max_time as int)) as last_session,\n",
    "bs.num_sessions,\n",
    "bs.total_artists_followed,\n",
    "bs.total_artworks_favorited,\n",
    "bs.total_artworks_shared,\n",
    "bs.total_follows,\n",
    "bs.total_favorites,\n",
    "bs.last_favorited_artwork_date::date,\n",
    "bs.last_followed_artist_date::date,\n",
    "city.city \n",
    "\n",
    "FROM users u\n",
    "\n",
    "JOIN (SELECT CAST(data->'properties'->>'user id' AS int) as user_id,\n",
    "             COUNT(data->'properties'->>'user id') as num_sessions,\n",
    "             MAX(data->'properties'->>'time') as max_time,\n",
    "             MAX(data->'properties'->>'total artists followed') as total_artists_followed,\n",
    "             MAX(data->'properties'->>'total artworks favorited')as total_artworks_favorited,\n",
    "             MAX(data->'properties'->>'total artworks shared')as total_artworks_shared,\n",
    "             MAX(data->'properties'->>'last favorited artwork date') as last_favorited_artwork_date,\n",
    "             MAX(data->'properties'->>'last followed artist date') as last_followed_artist_date,\n",
    "             MAX(data->'properties'->>'total follows') as total_follows,\n",
    "             MAX(data->'properties'->>'total favorites') as total_favorites\n",
    "        FROM mp_began_session\n",
    "        GROUP BY data->'properties'->>'user id') bs\n",
    "ON bs.user_id=u.id\n",
    "\n",
    "JOIN (SELECT  CAST(mp.data->'properties'->>'user id' AS int) as user_id,\n",
    "                   mp.data->'properties'->>'$city' as city\n",
    "                FROM mp_began_session mp\n",
    "                JOIN user_cities_time\n",
    "                ON user_cities_time.user_id=mp.data->'properties'->>'user id' \n",
    "                AND user_cities_time.max_time=mp.data->'properties'->>'time') city\n",
    "ON city.user_id=u.id;\n",
    "'''\n",
    ")"
   ]
  },
  {
   "cell_type": "code",
   "execution_count": null,
   "metadata": {
    "collapsed": false
   },
   "outputs": [],
   "source": [
    "data = c.fetchall()\n",
    "print len(data)"
   ]
  },
  {
   "cell_type": "code",
   "execution_count": null,
   "metadata": {
    "collapsed": false
   },
   "outputs": [],
   "source": [
    "type(data)"
   ]
  },
  {
   "cell_type": "code",
   "execution_count": null,
   "metadata": {
    "collapsed": true
   },
   "outputs": [],
   "source": [
    "df = pd.DataFrame(data)"
   ]
  },
  {
   "cell_type": "code",
   "execution_count": null,
   "metadata": {
    "collapsed": false
   },
   "outputs": [],
   "source": [
    "df.head()"
   ]
  },
  {
   "cell_type": "code",
   "execution_count": null,
   "metadata": {
    "collapsed": false
   },
   "outputs": [],
   "source": []
  },
  {
   "cell_type": "code",
   "execution_count": null,
   "metadata": {
    "collapsed": true
   },
   "outputs": [],
   "source": [
    "WITH cities AS(\n",
    "        SELECT data->'properties'->>'user id' as user_id, \n",
    "               MAX(data->'properties'->>'time') as max_time\n",
    "        FROM mp_began_session \n",
    "        WHERE data->'properties'->>'$city' IS NOT NULL \n",
    "        GROUP BY data->'properties'->>'user id'\n",
    "        )\n",
    "                SELECT  CAST(mp.data->'properties'->>'user id' AS int) as user_id,\n",
    "                             mp.data->'properties'->>'$city' as city\n",
    "                INTO user_city\n",
    "                FROM mp_began_session mp\n",
    "                JOIN user_cities_time c\n",
    "                ON c.user_id=mp.data->'properties'->>'user id' \n",
    "                AND c.max_time=mp.data->'properties'->>'time'"
   ]
  }
 ],
 "metadata": {
  "kernelspec": {
   "display_name": "Python 2",
   "language": "python",
   "name": "python2"
  },
  "language_info": {
   "codemirror_mode": {
    "name": "ipython",
    "version": 2
   },
   "file_extension": ".py",
   "mimetype": "text/x-python",
   "name": "python",
   "nbconvert_exporter": "python",
   "pygments_lexer": "ipython2",
   "version": "2.7.11"
  }
 },
 "nbformat": 4,
 "nbformat_minor": 0
}
