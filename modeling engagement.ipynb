{
 "cells": [
  {
   "cell_type": "code",
   "execution_count": 58,
   "metadata": {
    "collapsed": true
   },
   "outputs": [],
   "source": [
    "%matplotlib inline\n",
    "import pandas as pd\n",
    "import numpy as np\n",
    "from sklearn.linear_model import LogisticRegression\n",
    "from sklearn.cross_validation import train_test_split, KFold\n",
    "from sklearn.metrics import f1_score, precision_score, recall_score, accuracy_score, confusion_matrix\n",
    "import matplotlib.pyplot as plt\n",
    "import seaborn as sns\n",
    "from itertools import izip\n",
    "from math import exp, log\n",
    "from unbalanced_dataset.over_sampling import SMOTE"
   ]
  },
  {
   "cell_type": "code",
   "execution_count": 54,
   "metadata": {
    "collapsed": false
   },
   "outputs": [],
   "source": [
    "def preprocess(dropcols=['last_sign_in_at'] ,today='2016-06-20'):\n",
    "    # Defining today's day for reference\n",
    "    date = pd.to_datetime(today)\n",
    "    \n",
    "    # Loading csv extracted from database into a Pandas DataFrame\n",
    "    df = pd.read_csv('dataset.csv', usecols=range(1,17))\n",
    "    \n",
    "    # Treating date fields and converting them to datetime timestamp\n",
    "    df.created_at = pd.to_datetime(df['created_at'])\n",
    "    df.last_session = pd.to_datetime(df['last_session'])\n",
    "    df.last_favorited_artwork_date = pd.to_datetime(df['last_favorited_artwork_date'])\n",
    "    df.last_followed_artist_date = pd.to_datetime(df['last_followed_artist_date'])\n",
    "    \n",
    "    # Creating function to extract only the days (int) from TimeDelta objects\n",
    "    def extract_days(x):\n",
    "        try:\n",
    "            return x.days\n",
    "        except:\n",
    "            return 0\n",
    "        \n",
    "    # New feature: Extracting the difference between last session and today\n",
    "    df['days_from_last_session'] = date - df.last_session\n",
    "    df['days_from_last_session'] = df.days_from_last_session.apply(lambda x: extract_days(x))\n",
    "\n",
    "    # New feature: Extracting the difference between last session and when user registered\n",
    "    df['diff_created_to_last'] = df.last_session - df.created_at\n",
    "    df['diff_created_to_last'] = df.diff_created_to_last.apply(lambda x: extract_days(x))\n",
    "\n",
    "    # New feature: Extracting the difference between last favorited artwork and today\n",
    "    df['diff_last_fav_artwork_to_today'] = date - df.last_favorited_artwork_date\n",
    "    df['diff_last_fav_artwork_to_today'] = df.diff_last_fav_artwork_to_today.apply(lambda x: extract_days(x))\n",
    "\n",
    "    # New feature: Extracting the difference between last artists followed and today\n",
    "    df['diff_last_artist_folw_to_today'] = date - df.last_followed_artist_date\n",
    "    df['diff_last_artist_folw_to_today'] = df.diff_last_artist_folw_to_today.apply(lambda x: extract_days(x))\n",
    "    \n",
    "    df = df.set_index('id')\n",
    "\n",
    "    # Dropping columns\n",
    "    df = df.drop(drop_cols, axis=1)\n",
    "    \n",
    "    # Filling NaN values with unknown for categorical variables before dummifying\n",
    "    df.gender.fillna('unknown', inplace=True)\n",
    "    df.user_type.fillna('unknown', inplace=True)\n",
    "    df.os.fillna('unknown', inplace=True)\n",
    "\n",
    "    # Dropping about 100 recent user ids missing all information\n",
    "    df.num_sessions.dropna(inplace=True)\n",
    "\n",
    "    # Dropping 3 records based on gender feature\n",
    "    df = df[(df.gender != 'male (hidden)') & (df.gender != 'female (hidden)')]\n",
    "    \n",
    "    # Dummifying categorical variables (gender, user_type, and os)\n",
    "    df = pd.concat([df, pd.get_dummies(df.gender, prefix='gender', drop_first=True)], axis=1)\n",
    "    df = df.drop('gender', axis=1)\n",
    "\n",
    "#     df = pd.concat([df, pd.get_dummies(df.user_type, prefix='user_type', drop_first=True)], axis=1)\n",
    "    df = df.drop('user_type', axis=1)\n",
    "\n",
    "#     df = pd.concat([df, pd.get_dummies(df.os, prefix='os', drop_first=True)], axis=1)\n",
    "    df = df.drop('os', axis=1)\n",
    "\n",
    "    # Finally dropping off random Na values (101 records)\n",
    "    df.dropna(inplace=True)\n",
    "    \n",
    "    return df\n",
    "\n",
    "def create_label(df, name='label', original_col_name='diff_created_to_last', smaller_than=200):\n",
    "    df[name] = np.where(df[original_col_name] < smaller_than, 1, 0)\n",
    "    \n",
    "    # Dropping date columns due to high relationship and used to create the label:\n",
    "    df.drop('diff_last_fav_artwork_to_today', axis=1, inplace=True)\n",
    "    df.drop('diff_last_artist_folw_to_today', axis=1, inplace=True)\n",
    "    df.drop('diff_created_to_last', axis=1, inplace=True)\n",
    "    df.drop('days_from_last_session', axis=1, inplace=True)"
   ]
  },
  {
   "cell_type": "code",
   "execution_count": 55,
   "metadata": {
    "collapsed": false
   },
   "outputs": [],
   "source": [
    "drop_cols = ['last_sign_in_at', \n",
    "             'created_at', \n",
    "             'last_session', \n",
    "             'last_favorited_artwork_date', \n",
    "             'last_followed_artist_date',\n",
    "             'total_follows',\n",
    "             'total_favorites',\n",
    "             'city']\n",
    "df = preprocess(drop_cols)\n",
    "\n",
    "create_label(df, name='engagement200', original_col_name='diff_created_to_last', smaller_than=200)"
   ]
  },
  {
   "cell_type": "code",
   "execution_count": 28,
   "metadata": {
    "collapsed": false
   },
   "outputs": [
    {
     "data": {
      "text/html": [
       "<div>\n",
       "<table border=\"1\" class=\"dataframe\">\n",
       "  <thead>\n",
       "    <tr style=\"text-align: right;\">\n",
       "      <th></th>\n",
       "      <th>num_sessions</th>\n",
       "      <th>total_artists_followed</th>\n",
       "      <th>total_artworks_favorited</th>\n",
       "      <th>total_artworks_shared</th>\n",
       "      <th>gender_male</th>\n",
       "      <th>gender_unknown</th>\n",
       "      <th>user_type_Logged in with FB</th>\n",
       "      <th>user_type_Logged in with email</th>\n",
       "      <th>user_type_Not logged in</th>\n",
       "      <th>user_type_Organic</th>\n",
       "      <th>user_type_Referred</th>\n",
       "      <th>user_type_unknown</th>\n",
       "      <th>engagement200</th>\n",
       "    </tr>\n",
       "    <tr>\n",
       "      <th>id</th>\n",
       "      <th></th>\n",
       "      <th></th>\n",
       "      <th></th>\n",
       "      <th></th>\n",
       "      <th></th>\n",
       "      <th></th>\n",
       "      <th></th>\n",
       "      <th></th>\n",
       "      <th></th>\n",
       "      <th></th>\n",
       "      <th></th>\n",
       "      <th></th>\n",
       "      <th></th>\n",
       "    </tr>\n",
       "  </thead>\n",
       "  <tbody>\n",
       "    <tr>\n",
       "      <th>10002.0</th>\n",
       "      <td>1.0</td>\n",
       "      <td>0.0</td>\n",
       "      <td>2.0</td>\n",
       "      <td>0.0</td>\n",
       "      <td>0.0</td>\n",
       "      <td>1.0</td>\n",
       "      <td>0.0</td>\n",
       "      <td>0.0</td>\n",
       "      <td>0.0</td>\n",
       "      <td>0.0</td>\n",
       "      <td>0.0</td>\n",
       "      <td>1.0</td>\n",
       "      <td>0</td>\n",
       "    </tr>\n",
       "    <tr>\n",
       "      <th>10006.0</th>\n",
       "      <td>9.0</td>\n",
       "      <td>0.0</td>\n",
       "      <td>3.0</td>\n",
       "      <td>0.0</td>\n",
       "      <td>1.0</td>\n",
       "      <td>0.0</td>\n",
       "      <td>0.0</td>\n",
       "      <td>0.0</td>\n",
       "      <td>0.0</td>\n",
       "      <td>0.0</td>\n",
       "      <td>0.0</td>\n",
       "      <td>1.0</td>\n",
       "      <td>0</td>\n",
       "    </tr>\n",
       "    <tr>\n",
       "      <th>10013.0</th>\n",
       "      <td>2.0</td>\n",
       "      <td>0.0</td>\n",
       "      <td>1.0</td>\n",
       "      <td>0.0</td>\n",
       "      <td>0.0</td>\n",
       "      <td>1.0</td>\n",
       "      <td>1.0</td>\n",
       "      <td>0.0</td>\n",
       "      <td>0.0</td>\n",
       "      <td>0.0</td>\n",
       "      <td>0.0</td>\n",
       "      <td>0.0</td>\n",
       "      <td>0</td>\n",
       "    </tr>\n",
       "    <tr>\n",
       "      <th>10045.0</th>\n",
       "      <td>49.0</td>\n",
       "      <td>0.0</td>\n",
       "      <td>13.0</td>\n",
       "      <td>0.0</td>\n",
       "      <td>0.0</td>\n",
       "      <td>1.0</td>\n",
       "      <td>0.0</td>\n",
       "      <td>0.0</td>\n",
       "      <td>0.0</td>\n",
       "      <td>0.0</td>\n",
       "      <td>0.0</td>\n",
       "      <td>1.0</td>\n",
       "      <td>0</td>\n",
       "    </tr>\n",
       "    <tr>\n",
       "      <th>10071.0</th>\n",
       "      <td>2.0</td>\n",
       "      <td>0.0</td>\n",
       "      <td>2.0</td>\n",
       "      <td>0.0</td>\n",
       "      <td>0.0</td>\n",
       "      <td>1.0</td>\n",
       "      <td>0.0</td>\n",
       "      <td>0.0</td>\n",
       "      <td>0.0</td>\n",
       "      <td>1.0</td>\n",
       "      <td>0.0</td>\n",
       "      <td>0.0</td>\n",
       "      <td>0</td>\n",
       "    </tr>\n",
       "  </tbody>\n",
       "</table>\n",
       "</div>"
      ],
      "text/plain": [
       "         num_sessions  total_artists_followed  total_artworks_favorited  \\\n",
       "id                                                                        \n",
       "10002.0           1.0                     0.0                       2.0   \n",
       "10006.0           9.0                     0.0                       3.0   \n",
       "10013.0           2.0                     0.0                       1.0   \n",
       "10045.0          49.0                     0.0                      13.0   \n",
       "10071.0           2.0                     0.0                       2.0   \n",
       "\n",
       "         total_artworks_shared  gender_male  gender_unknown  \\\n",
       "id                                                            \n",
       "10002.0                    0.0          0.0             1.0   \n",
       "10006.0                    0.0          1.0             0.0   \n",
       "10013.0                    0.0          0.0             1.0   \n",
       "10045.0                    0.0          0.0             1.0   \n",
       "10071.0                    0.0          0.0             1.0   \n",
       "\n",
       "         user_type_Logged in with FB  user_type_Logged in with email  \\\n",
       "id                                                                     \n",
       "10002.0                          0.0                             0.0   \n",
       "10006.0                          0.0                             0.0   \n",
       "10013.0                          1.0                             0.0   \n",
       "10045.0                          0.0                             0.0   \n",
       "10071.0                          0.0                             0.0   \n",
       "\n",
       "         user_type_Not logged in  user_type_Organic  user_type_Referred  \\\n",
       "id                                                                        \n",
       "10002.0                      0.0                0.0                 0.0   \n",
       "10006.0                      0.0                0.0                 0.0   \n",
       "10013.0                      0.0                0.0                 0.0   \n",
       "10045.0                      0.0                0.0                 0.0   \n",
       "10071.0                      0.0                1.0                 0.0   \n",
       "\n",
       "         user_type_unknown  engagement200  \n",
       "id                                         \n",
       "10002.0                1.0              0  \n",
       "10006.0                1.0              0  \n",
       "10013.0                0.0              0  \n",
       "10045.0                1.0              0  \n",
       "10071.0                0.0              0  "
      ]
     },
     "execution_count": 28,
     "metadata": {},
     "output_type": "execute_result"
    }
   ],
   "source": [
    "df.head()"
   ]
  },
  {
   "cell_type": "code",
   "execution_count": 274,
   "metadata": {
    "collapsed": false
   },
   "outputs": [],
   "source": [
    "# Defining today's day for reference\n",
    "today = '2016-06-20'\n",
    "date = pd.to_datetime(today)\n",
    "\n",
    "# Loading csv extracted from database into a Pandas DataFrame\n",
    "df = pd.read_csv('dataset.csv', usecols=range(1,17))\n",
    "\n",
    "# Treating date fields and converting them to datetime timestamp\n",
    "df.created_at = pd.to_datetime(df['created_at'])\n",
    "df.last_session = pd.to_datetime(df['last_session'])\n",
    "df.last_favorited_artwork_date = pd.to_datetime(df['last_favorited_artwork_date'])\n",
    "df.last_followed_artist_date = pd.to_datetime(df['last_followed_artist_date'])\n",
    "\n",
    "# Creating function to extract only the days (int) from TimeDelta objects\n",
    "def extract_days(x):\n",
    "    try:\n",
    "        return x.days\n",
    "    except:\n",
    "        return 0\n",
    "    \n",
    "# New feature: Extracting the difference between last session and today\n",
    "df['days_from_last_session'] = date - df.last_session\n",
    "df['days_from_last_session'] = df.days_from_last_session.apply(lambda x: extract_days(x))\n",
    "\n",
    "# New feature: Extracting the difference between last session and when user registered\n",
    "df['diff_created_to_last'] = df.last_session - df.created_at\n",
    "df['diff_created_to_last'] = df.diff_created_to_last.apply(lambda x: extract_days(x))\n",
    "\n",
    "# New feature: Extracting the difference between last favorited artwork and today\n",
    "df['diff_last_fav_artwork_to_today'] = date - df.last_favorited_artwork_date\n",
    "df['diff_last_fav_artwork_to_today'] = df.diff_last_fav_artwork_to_today.apply(lambda x: extract_days(x))\n",
    "\n",
    "# New feature: Extracting the difference between last artists followed and today\n",
    "df['diff_last_artist_folw_to_today'] = date - df.last_followed_artist_date\n",
    "df['diff_last_artist_folw_to_today'] = df.diff_last_artist_folw_to_today.apply(lambda x: extract_days(x))\n",
    "\n",
    "drop_cols = ['last_sign_in_at', \n",
    "             'created_at', \n",
    "             'last_session', \n",
    "             'last_favorited_artwork_date', \n",
    "             'last_followed_artist_date',\n",
    "             'total_follows',\n",
    "             'total_favorites',\n",
    "             'city']\n",
    "\n",
    "df = df.set_index('id')\n",
    "\n",
    "# Dropping columns\n",
    "df = df.drop(drop_cols, axis=1)\n",
    "\n",
    "# Filling NaN values with unknown for categorical variables before dummifying\n",
    "df.gender.fillna('unknown', inplace=True)\n",
    "df.user_type.fillna('unknown', inplace=True)\n",
    "df.os.fillna('unknown', inplace=True)\n",
    "\n",
    "# Dropping about 100 recent user ids missing all information\n",
    "df.num_sessions.dropna(inplace=True)\n",
    "\n",
    "# Dropping 3 records based on gender feature\n",
    "df = df[(df.gender != 'male (hidden)') & (df.gender != 'female (hidden)')]\n",
    "\n",
    "# Defining some labels for engagement\n",
    "df['engagement200'] = np.where(df.diff_created_to_last < 200, 1, 0)\n",
    "# df['engagement15'] = np.where(df.diff_created_to_last < 15, 1, 0)\n",
    "# df['engagement_now15'] = np.where(df.days_from_last_session < 15, 1, 0)\n",
    "\n",
    "# Dummifying categorical variables (gender, user_type, and os)\n",
    "df = pd.concat([df, pd.get_dummies(df.gender, prefix='gender', drop_first=True)], axis=1)\n",
    "df = df.drop('gender', axis=1)\n",
    "\n",
    "# df = pd.concat([df, pd.get_dummies(df.user_type, prefix='user_type', drop_first=True)], axis=1)\n",
    "df = df.drop('user_type', axis=1)\n",
    "\n",
    "# df = pd.concat([df, pd.get_dummies(df.os, prefix='os', drop_first=True)], axis=1)\n",
    "df = df.drop('os', axis=1)\n",
    "\n",
    "# Finally dropping off random Na values (101 records)\n",
    "df.dropna(inplace=True)\n",
    "\n",
    "# Dropping column used to create the label:\n",
    "df.drop('days_from_last_session', axis=1, inplace=True)"
   ]
  },
  {
   "cell_type": "code",
   "execution_count": 275,
   "metadata": {
    "collapsed": false
   },
   "outputs": [
    {
     "data": {
      "text/plain": [
       "['num_sessions',\n",
       " 'total_artists_followed',\n",
       " 'total_artworks_favorited',\n",
       " 'total_artworks_shared',\n",
       " 'diff_created_to_last',\n",
       " 'diff_last_fav_artwork_to_today',\n",
       " 'diff_last_artist_folw_to_today',\n",
       " 'engagement200',\n",
       " 'gender_male',\n",
       " 'gender_unknown']"
      ]
     },
     "execution_count": 275,
     "metadata": {},
     "output_type": "execute_result"
    }
   ],
   "source": [
    "list(df.columns)"
   ]
  },
  {
   "cell_type": "code",
   "execution_count": 276,
   "metadata": {
    "collapsed": false
   },
   "outputs": [
    {
     "data": {
      "text/html": [
       "<div>\n",
       "<table border=\"1\" class=\"dataframe\">\n",
       "  <thead>\n",
       "    <tr style=\"text-align: right;\">\n",
       "      <th></th>\n",
       "      <th>num_sessions</th>\n",
       "      <th>total_artists_followed</th>\n",
       "      <th>total_artworks_favorited</th>\n",
       "      <th>total_artworks_shared</th>\n",
       "      <th>diff_created_to_last</th>\n",
       "      <th>diff_last_fav_artwork_to_today</th>\n",
       "      <th>diff_last_artist_folw_to_today</th>\n",
       "      <th>engagement200</th>\n",
       "      <th>gender_male</th>\n",
       "      <th>gender_unknown</th>\n",
       "    </tr>\n",
       "    <tr>\n",
       "      <th>id</th>\n",
       "      <th></th>\n",
       "      <th></th>\n",
       "      <th></th>\n",
       "      <th></th>\n",
       "      <th></th>\n",
       "      <th></th>\n",
       "      <th></th>\n",
       "      <th></th>\n",
       "      <th></th>\n",
       "      <th></th>\n",
       "    </tr>\n",
       "  </thead>\n",
       "  <tbody>\n",
       "    <tr>\n",
       "      <th>10002.0</th>\n",
       "      <td>1.0</td>\n",
       "      <td>0.0</td>\n",
       "      <td>2.0</td>\n",
       "      <td>0.0</td>\n",
       "      <td>447</td>\n",
       "      <td>0</td>\n",
       "      <td>0</td>\n",
       "      <td>0</td>\n",
       "      <td>0.0</td>\n",
       "      <td>1.0</td>\n",
       "    </tr>\n",
       "    <tr>\n",
       "      <th>10006.0</th>\n",
       "      <td>9.0</td>\n",
       "      <td>0.0</td>\n",
       "      <td>3.0</td>\n",
       "      <td>0.0</td>\n",
       "      <td>658</td>\n",
       "      <td>0</td>\n",
       "      <td>0</td>\n",
       "      <td>0</td>\n",
       "      <td>1.0</td>\n",
       "      <td>0.0</td>\n",
       "    </tr>\n",
       "    <tr>\n",
       "      <th>10013.0</th>\n",
       "      <td>2.0</td>\n",
       "      <td>0.0</td>\n",
       "      <td>1.0</td>\n",
       "      <td>0.0</td>\n",
       "      <td>391</td>\n",
       "      <td>0</td>\n",
       "      <td>0</td>\n",
       "      <td>0</td>\n",
       "      <td>0.0</td>\n",
       "      <td>1.0</td>\n",
       "    </tr>\n",
       "    <tr>\n",
       "      <th>10045.0</th>\n",
       "      <td>49.0</td>\n",
       "      <td>0.0</td>\n",
       "      <td>13.0</td>\n",
       "      <td>0.0</td>\n",
       "      <td>675</td>\n",
       "      <td>0</td>\n",
       "      <td>0</td>\n",
       "      <td>0</td>\n",
       "      <td>0.0</td>\n",
       "      <td>1.0</td>\n",
       "    </tr>\n",
       "    <tr>\n",
       "      <th>10071.0</th>\n",
       "      <td>2.0</td>\n",
       "      <td>0.0</td>\n",
       "      <td>2.0</td>\n",
       "      <td>0.0</td>\n",
       "      <td>707</td>\n",
       "      <td>0</td>\n",
       "      <td>0</td>\n",
       "      <td>0</td>\n",
       "      <td>0.0</td>\n",
       "      <td>1.0</td>\n",
       "    </tr>\n",
       "  </tbody>\n",
       "</table>\n",
       "</div>"
      ],
      "text/plain": [
       "         num_sessions  total_artists_followed  total_artworks_favorited  \\\n",
       "id                                                                        \n",
       "10002.0           1.0                     0.0                       2.0   \n",
       "10006.0           9.0                     0.0                       3.0   \n",
       "10013.0           2.0                     0.0                       1.0   \n",
       "10045.0          49.0                     0.0                      13.0   \n",
       "10071.0           2.0                     0.0                       2.0   \n",
       "\n",
       "         total_artworks_shared  diff_created_to_last  \\\n",
       "id                                                     \n",
       "10002.0                    0.0                   447   \n",
       "10006.0                    0.0                   658   \n",
       "10013.0                    0.0                   391   \n",
       "10045.0                    0.0                   675   \n",
       "10071.0                    0.0                   707   \n",
       "\n",
       "         diff_last_fav_artwork_to_today  diff_last_artist_folw_to_today  \\\n",
       "id                                                                        \n",
       "10002.0                               0                               0   \n",
       "10006.0                               0                               0   \n",
       "10013.0                               0                               0   \n",
       "10045.0                               0                               0   \n",
       "10071.0                               0                               0   \n",
       "\n",
       "         engagement200  gender_male  gender_unknown  \n",
       "id                                                   \n",
       "10002.0              0          0.0             1.0  \n",
       "10006.0              0          1.0             0.0  \n",
       "10013.0              0          0.0             1.0  \n",
       "10045.0              0          0.0             1.0  \n",
       "10071.0              0          0.0             1.0  "
      ]
     },
     "execution_count": 276,
     "metadata": {},
     "output_type": "execute_result"
    }
   ],
   "source": [
    "df.head()"
   ]
  },
  {
   "cell_type": "code",
   "execution_count": 277,
   "metadata": {
    "collapsed": true
   },
   "outputs": [],
   "source": [
    "df.drop('diff_last_fav_artwork_to_today', axis=1, inplace=True)\n",
    "df.drop('diff_last_artist_folw_to_today', axis=1, inplace=True)\n",
    "df.drop('diff_created_to_last', axis=1, inplace=True)\n",
    "df.drop('days_from_last_session', axis=1, inplace=True)"
   ]
  },
  {
   "cell_type": "markdown",
   "metadata": {},
   "source": [
    "## Logistic Regression"
   ]
  },
  {
   "cell_type": "code",
   "execution_count": 59,
   "metadata": {
    "collapsed": false
   },
   "outputs": [],
   "source": [
    "def fit_logistic_regression(X, y):\n",
    "    \n",
    "    sm = SMOTE(kind='regular')\n",
    "    X_resampled, y_resampled = sm.fit_transform(X, y)\n",
    "    \n",
    "    # Splitting train and test data\n",
    "    X_train, X_test, y_train, y_test = train_test_split(X_resampled, y_resampled, test_size=0.3)\n",
    "    \n",
    "    # Fitting regression and getting its scores\n",
    "    log_reg = LogisticRegression()\n",
    "    log_reg.fit(X_train, y_train)\n",
    "    predict_log = log_reg.predict(X_test)\n",
    "    print \"\\nLogistic Regression Scores:\\n\"\n",
    "    print \"Accuracy on test set:\", log_reg.score(X_test, y_test)\n",
    "    print \"Precision:\", precision_score(y_test, predict_log)\n",
    "    print \"Recall:\", recall_score(y_test, predict_log)\n",
    "    \n",
    "    # Fitting multiple k-fold cross validations and getting mean scores\n",
    "    kfold = KFold(len(y))\n",
    "\n",
    "    accuracies = []\n",
    "    precisions = []\n",
    "    recalls = []\n",
    "\n",
    "    for train_index, test_index in kfold:\n",
    "        model = LogisticRegression()\n",
    "        model.fit(X[train_index], y[train_index])\n",
    "        y_predict = model.predict(X[test_index])\n",
    "        y_true = y[test_index]\n",
    "        accuracies.append(accuracy_score(y_true, y_predict))\n",
    "        precisions.append(precision_score(y_true, y_predict))\n",
    "        recalls.append(recall_score(y_true, y_predict))\n",
    "\n",
    "    print \"\\nK-Fold Cross Validation on Logistic Regression Scores:\\n\"\n",
    "    print \"accuracy:\", np.average(accuracies)\n",
    "    print \"precision:\", np.average(precisions)\n",
    "    print \"recall:\", np.average(recalls)\n",
    "    \n",
    "    cols = list(df.columns)\n",
    "    \n",
    "    print\n",
    "    print \"Beta scores:\"\n",
    "    for name, coef in izip(df.columns, model.coef_[0]):\n",
    "        print \"%s: %.4f\" % (name, coef)\n",
    "        \n",
    "    def standard_confusion_matrix(y_true, y_predict):\n",
    "        [[tn, fp], [fn, tp]] = confusion_matrix(y_true, y_predict)\n",
    "        return np.array([[tp, fp], [fn, tn]])\n",
    "    \n",
    "    def roc_curve(probabilities, labels):\n",
    "        thresholds = np.sort(probabilities)\n",
    "\n",
    "        tprs = []\n",
    "        fprs = []\n",
    "\n",
    "        num_positive_cases = sum(labels)\n",
    "        num_negative_cases = len(labels) - num_positive_cases\n",
    "\n",
    "        for threshold in thresholds:\n",
    "            # With this threshold, give the prediction of each instance\n",
    "            predicted_positive = probabilities >= threshold\n",
    "            # Calculate the number of correctly predicted positive cases\n",
    "            true_positives = np.sum(predicted_positive * labels)\n",
    "            # Calculate the number of incorrectly predicted positive cases\n",
    "            false_positives = np.sum(predicted_positive) - true_positives\n",
    "            # Calculate the True Positive Rate\n",
    "            tpr = true_positives / float(num_positive_cases)\n",
    "            # Calculate the False Positive Rate\n",
    "            fpr = false_positives / float(num_negative_cases)\n",
    "\n",
    "            fprs.append(fpr)\n",
    "            tprs.append(tpr)\n",
    "\n",
    "        return tprs, fprs, thresholds.tolist()\n",
    "        \n",
    "    y_predict = log_reg.predict(X_test)\n",
    "    y_proba = log_reg.predict_proba(X_test)\n",
    "    cm = standard_confusion_matrix(y_test, y_predict)\n",
    "\n",
    "    tpr, fpr, thres = roc_curve(y_proba[:,0:1].flatten(), y_test)\n",
    "    plt.plot(tpr, fpr)\n",
    "    plt.show()\n",
    "    \n",
    "    fix, ax = plt.subplots(figsize=(10, 7))\n",
    "    sns.heatmap(cm, annot=True,  fmt='', square=True, \\\n",
    "                            xticklabels=['1', '0'], \\\n",
    "                            yticklabels=['1', '0']);\n",
    "    \n",
    "    print\n",
    "    print \"Likelihoods:\"\n",
    "    for i, coef in enumerate(log_reg.coef_[0]):\n",
    "#         print \"beta %s: %.5f\" % (cols[i], exp(coef))\n",
    "        if coef <0:\n",
    "            print \"*Increasing the %s by 1 point decreases the chance of label=1 by a factor of %.4f.*\" % (cols[i], exp(coef))\n",
    "        else:\n",
    "            print \"*Increasing the %s by 1 point increases the chance of label=1 by a factor of %.4f.*\" % (cols[i], exp(coef))\n",
    "        print\n",
    "        \n",
    "    print \"To double:\"\n",
    "    for i, coef in enumerate(model.coef_[0]):\n",
    "#     print \"beta %s: %.5f\" % (cols[i], log(2) / coef)\n",
    "        if coef < 0:\n",
    "            print \"*Decreasing the %s score by %d points doubles the chance of label=1.*\" % (cols[i], log(2) / coef)\n",
    "        else:\n",
    "            print \"*Increasing the %s score by %d points doubles the chance of label=1.*\" % (cols[i], log(2) / coef)\n",
    "        print"
   ]
  },
  {
   "cell_type": "code",
   "execution_count": 61,
   "metadata": {
    "collapsed": false
   },
   "outputs": [
    {
     "ename": "KeyError",
     "evalue": "'engagement200'",
     "output_type": "error",
     "traceback": [
      "\u001b[0;31m---------------------------------------------------------------------------\u001b[0m",
      "\u001b[0;31mKeyError\u001b[0m                                  Traceback (most recent call last)",
      "\u001b[0;32m<ipython-input-61-fb7d95e27172>\u001b[0m in \u001b[0;36m<module>\u001b[0;34m()\u001b[0m\n\u001b[1;32m      1\u001b[0m \u001b[0;31m# Defining y label and X matrix\u001b[0m\u001b[0;34m\u001b[0m\u001b[0;34m\u001b[0m\u001b[0m\n\u001b[0;32m----> 2\u001b[0;31m \u001b[0my\u001b[0m \u001b[0;34m=\u001b[0m \u001b[0mdf\u001b[0m\u001b[0;34m.\u001b[0m\u001b[0mpop\u001b[0m\u001b[0;34m(\u001b[0m\u001b[0;34m'engagement200'\u001b[0m\u001b[0;34m)\u001b[0m\u001b[0;34m.\u001b[0m\u001b[0mvalues\u001b[0m\u001b[0;34m\u001b[0m\u001b[0m\n\u001b[0m\u001b[1;32m      3\u001b[0m \u001b[0mX\u001b[0m \u001b[0;34m=\u001b[0m \u001b[0mdf\u001b[0m\u001b[0;34m.\u001b[0m\u001b[0mvalues\u001b[0m\u001b[0;34m\u001b[0m\u001b[0m\n",
      "\u001b[0;32m/Users/pauloarantes/anaconda/lib/python2.7/site-packages/pandas/core/generic.pyc\u001b[0m in \u001b[0;36mpop\u001b[0;34m(self, item)\u001b[0m\n\u001b[1;32m    503\u001b[0m         \u001b[0mReturn\u001b[0m \u001b[0mitem\u001b[0m \u001b[0;32mand\u001b[0m \u001b[0mdrop\u001b[0m \u001b[0;32mfrom\u001b[0m \u001b[0mframe\u001b[0m\u001b[0;34m.\u001b[0m \u001b[0mRaise\u001b[0m \u001b[0mKeyError\u001b[0m \u001b[0;32mif\u001b[0m \u001b[0;32mnot\u001b[0m \u001b[0mfound\u001b[0m\u001b[0;34m.\u001b[0m\u001b[0;34m\u001b[0m\u001b[0m\n\u001b[1;32m    504\u001b[0m         \"\"\"\n\u001b[0;32m--> 505\u001b[0;31m         \u001b[0mresult\u001b[0m \u001b[0;34m=\u001b[0m \u001b[0mself\u001b[0m\u001b[0;34m[\u001b[0m\u001b[0mitem\u001b[0m\u001b[0;34m]\u001b[0m\u001b[0;34m\u001b[0m\u001b[0m\n\u001b[0m\u001b[1;32m    506\u001b[0m         \u001b[0;32mdel\u001b[0m \u001b[0mself\u001b[0m\u001b[0;34m[\u001b[0m\u001b[0mitem\u001b[0m\u001b[0;34m]\u001b[0m\u001b[0;34m\u001b[0m\u001b[0m\n\u001b[1;32m    507\u001b[0m         \u001b[0;32mtry\u001b[0m\u001b[0;34m:\u001b[0m\u001b[0;34m\u001b[0m\u001b[0m\n",
      "\u001b[0;32m/Users/pauloarantes/anaconda/lib/python2.7/site-packages/pandas/core/frame.pyc\u001b[0m in \u001b[0;36m__getitem__\u001b[0;34m(self, key)\u001b[0m\n\u001b[1;32m   1995\u001b[0m             \u001b[0;32mreturn\u001b[0m \u001b[0mself\u001b[0m\u001b[0;34m.\u001b[0m\u001b[0m_getitem_multilevel\u001b[0m\u001b[0;34m(\u001b[0m\u001b[0mkey\u001b[0m\u001b[0;34m)\u001b[0m\u001b[0;34m\u001b[0m\u001b[0m\n\u001b[1;32m   1996\u001b[0m         \u001b[0;32melse\u001b[0m\u001b[0;34m:\u001b[0m\u001b[0;34m\u001b[0m\u001b[0m\n\u001b[0;32m-> 1997\u001b[0;31m             \u001b[0;32mreturn\u001b[0m \u001b[0mself\u001b[0m\u001b[0;34m.\u001b[0m\u001b[0m_getitem_column\u001b[0m\u001b[0;34m(\u001b[0m\u001b[0mkey\u001b[0m\u001b[0;34m)\u001b[0m\u001b[0;34m\u001b[0m\u001b[0m\n\u001b[0m\u001b[1;32m   1998\u001b[0m \u001b[0;34m\u001b[0m\u001b[0m\n\u001b[1;32m   1999\u001b[0m     \u001b[0;32mdef\u001b[0m \u001b[0m_getitem_column\u001b[0m\u001b[0;34m(\u001b[0m\u001b[0mself\u001b[0m\u001b[0;34m,\u001b[0m \u001b[0mkey\u001b[0m\u001b[0;34m)\u001b[0m\u001b[0;34m:\u001b[0m\u001b[0;34m\u001b[0m\u001b[0m\n",
      "\u001b[0;32m/Users/pauloarantes/anaconda/lib/python2.7/site-packages/pandas/core/frame.pyc\u001b[0m in \u001b[0;36m_getitem_column\u001b[0;34m(self, key)\u001b[0m\n\u001b[1;32m   2002\u001b[0m         \u001b[0;31m# get column\u001b[0m\u001b[0;34m\u001b[0m\u001b[0;34m\u001b[0m\u001b[0m\n\u001b[1;32m   2003\u001b[0m         \u001b[0;32mif\u001b[0m \u001b[0mself\u001b[0m\u001b[0;34m.\u001b[0m\u001b[0mcolumns\u001b[0m\u001b[0;34m.\u001b[0m\u001b[0mis_unique\u001b[0m\u001b[0;34m:\u001b[0m\u001b[0;34m\u001b[0m\u001b[0m\n\u001b[0;32m-> 2004\u001b[0;31m             \u001b[0;32mreturn\u001b[0m \u001b[0mself\u001b[0m\u001b[0;34m.\u001b[0m\u001b[0m_get_item_cache\u001b[0m\u001b[0;34m(\u001b[0m\u001b[0mkey\u001b[0m\u001b[0;34m)\u001b[0m\u001b[0;34m\u001b[0m\u001b[0m\n\u001b[0m\u001b[1;32m   2005\u001b[0m \u001b[0;34m\u001b[0m\u001b[0m\n\u001b[1;32m   2006\u001b[0m         \u001b[0;31m# duplicate columns & possible reduce dimensionality\u001b[0m\u001b[0;34m\u001b[0m\u001b[0;34m\u001b[0m\u001b[0m\n",
      "\u001b[0;32m/Users/pauloarantes/anaconda/lib/python2.7/site-packages/pandas/core/generic.pyc\u001b[0m in \u001b[0;36m_get_item_cache\u001b[0;34m(self, item)\u001b[0m\n\u001b[1;32m   1348\u001b[0m         \u001b[0mres\u001b[0m \u001b[0;34m=\u001b[0m \u001b[0mcache\u001b[0m\u001b[0;34m.\u001b[0m\u001b[0mget\u001b[0m\u001b[0;34m(\u001b[0m\u001b[0mitem\u001b[0m\u001b[0;34m)\u001b[0m\u001b[0;34m\u001b[0m\u001b[0m\n\u001b[1;32m   1349\u001b[0m         \u001b[0;32mif\u001b[0m \u001b[0mres\u001b[0m \u001b[0;32mis\u001b[0m \u001b[0mNone\u001b[0m\u001b[0;34m:\u001b[0m\u001b[0;34m\u001b[0m\u001b[0m\n\u001b[0;32m-> 1350\u001b[0;31m             \u001b[0mvalues\u001b[0m \u001b[0;34m=\u001b[0m \u001b[0mself\u001b[0m\u001b[0;34m.\u001b[0m\u001b[0m_data\u001b[0m\u001b[0;34m.\u001b[0m\u001b[0mget\u001b[0m\u001b[0;34m(\u001b[0m\u001b[0mitem\u001b[0m\u001b[0;34m)\u001b[0m\u001b[0;34m\u001b[0m\u001b[0m\n\u001b[0m\u001b[1;32m   1351\u001b[0m             \u001b[0mres\u001b[0m \u001b[0;34m=\u001b[0m \u001b[0mself\u001b[0m\u001b[0;34m.\u001b[0m\u001b[0m_box_item_values\u001b[0m\u001b[0;34m(\u001b[0m\u001b[0mitem\u001b[0m\u001b[0;34m,\u001b[0m \u001b[0mvalues\u001b[0m\u001b[0;34m)\u001b[0m\u001b[0;34m\u001b[0m\u001b[0m\n\u001b[1;32m   1352\u001b[0m             \u001b[0mcache\u001b[0m\u001b[0;34m[\u001b[0m\u001b[0mitem\u001b[0m\u001b[0;34m]\u001b[0m \u001b[0;34m=\u001b[0m \u001b[0mres\u001b[0m\u001b[0;34m\u001b[0m\u001b[0m\n",
      "\u001b[0;32m/Users/pauloarantes/anaconda/lib/python2.7/site-packages/pandas/core/internals.pyc\u001b[0m in \u001b[0;36mget\u001b[0;34m(self, item, fastpath)\u001b[0m\n\u001b[1;32m   3288\u001b[0m \u001b[0;34m\u001b[0m\u001b[0m\n\u001b[1;32m   3289\u001b[0m             \u001b[0;32mif\u001b[0m \u001b[0;32mnot\u001b[0m \u001b[0misnull\u001b[0m\u001b[0;34m(\u001b[0m\u001b[0mitem\u001b[0m\u001b[0;34m)\u001b[0m\u001b[0;34m:\u001b[0m\u001b[0;34m\u001b[0m\u001b[0m\n\u001b[0;32m-> 3290\u001b[0;31m                 \u001b[0mloc\u001b[0m \u001b[0;34m=\u001b[0m \u001b[0mself\u001b[0m\u001b[0;34m.\u001b[0m\u001b[0mitems\u001b[0m\u001b[0;34m.\u001b[0m\u001b[0mget_loc\u001b[0m\u001b[0;34m(\u001b[0m\u001b[0mitem\u001b[0m\u001b[0;34m)\u001b[0m\u001b[0;34m\u001b[0m\u001b[0m\n\u001b[0m\u001b[1;32m   3291\u001b[0m             \u001b[0;32melse\u001b[0m\u001b[0;34m:\u001b[0m\u001b[0;34m\u001b[0m\u001b[0m\n\u001b[1;32m   3292\u001b[0m                 \u001b[0mindexer\u001b[0m \u001b[0;34m=\u001b[0m \u001b[0mnp\u001b[0m\u001b[0;34m.\u001b[0m\u001b[0marange\u001b[0m\u001b[0;34m(\u001b[0m\u001b[0mlen\u001b[0m\u001b[0;34m(\u001b[0m\u001b[0mself\u001b[0m\u001b[0;34m.\u001b[0m\u001b[0mitems\u001b[0m\u001b[0;34m)\u001b[0m\u001b[0;34m)\u001b[0m\u001b[0;34m[\u001b[0m\u001b[0misnull\u001b[0m\u001b[0;34m(\u001b[0m\u001b[0mself\u001b[0m\u001b[0;34m.\u001b[0m\u001b[0mitems\u001b[0m\u001b[0;34m)\u001b[0m\u001b[0;34m]\u001b[0m\u001b[0;34m\u001b[0m\u001b[0m\n",
      "\u001b[0;32m/Users/pauloarantes/anaconda/lib/python2.7/site-packages/pandas/indexes/base.pyc\u001b[0m in \u001b[0;36mget_loc\u001b[0;34m(self, key, method, tolerance)\u001b[0m\n\u001b[1;32m   1945\u001b[0m                 \u001b[0;32mreturn\u001b[0m \u001b[0mself\u001b[0m\u001b[0;34m.\u001b[0m\u001b[0m_engine\u001b[0m\u001b[0;34m.\u001b[0m\u001b[0mget_loc\u001b[0m\u001b[0;34m(\u001b[0m\u001b[0mkey\u001b[0m\u001b[0;34m)\u001b[0m\u001b[0;34m\u001b[0m\u001b[0m\n\u001b[1;32m   1946\u001b[0m             \u001b[0;32mexcept\u001b[0m \u001b[0mKeyError\u001b[0m\u001b[0;34m:\u001b[0m\u001b[0;34m\u001b[0m\u001b[0m\n\u001b[0;32m-> 1947\u001b[0;31m                 \u001b[0;32mreturn\u001b[0m \u001b[0mself\u001b[0m\u001b[0;34m.\u001b[0m\u001b[0m_engine\u001b[0m\u001b[0;34m.\u001b[0m\u001b[0mget_loc\u001b[0m\u001b[0;34m(\u001b[0m\u001b[0mself\u001b[0m\u001b[0;34m.\u001b[0m\u001b[0m_maybe_cast_indexer\u001b[0m\u001b[0;34m(\u001b[0m\u001b[0mkey\u001b[0m\u001b[0;34m)\u001b[0m\u001b[0;34m)\u001b[0m\u001b[0;34m\u001b[0m\u001b[0m\n\u001b[0m\u001b[1;32m   1948\u001b[0m \u001b[0;34m\u001b[0m\u001b[0m\n\u001b[1;32m   1949\u001b[0m         \u001b[0mindexer\u001b[0m \u001b[0;34m=\u001b[0m \u001b[0mself\u001b[0m\u001b[0;34m.\u001b[0m\u001b[0mget_indexer\u001b[0m\u001b[0;34m(\u001b[0m\u001b[0;34m[\u001b[0m\u001b[0mkey\u001b[0m\u001b[0;34m]\u001b[0m\u001b[0;34m,\u001b[0m \u001b[0mmethod\u001b[0m\u001b[0;34m=\u001b[0m\u001b[0mmethod\u001b[0m\u001b[0;34m,\u001b[0m \u001b[0mtolerance\u001b[0m\u001b[0;34m=\u001b[0m\u001b[0mtolerance\u001b[0m\u001b[0;34m)\u001b[0m\u001b[0;34m\u001b[0m\u001b[0m\n",
      "\u001b[0;32mpandas/index.pyx\u001b[0m in \u001b[0;36mpandas.index.IndexEngine.get_loc (pandas/index.c:4154)\u001b[0;34m()\u001b[0m\n",
      "\u001b[0;32mpandas/index.pyx\u001b[0m in \u001b[0;36mpandas.index.IndexEngine.get_loc (pandas/index.c:4018)\u001b[0;34m()\u001b[0m\n",
      "\u001b[0;32mpandas/hashtable.pyx\u001b[0m in \u001b[0;36mpandas.hashtable.PyObjectHashTable.get_item (pandas/hashtable.c:12368)\u001b[0;34m()\u001b[0m\n",
      "\u001b[0;32mpandas/hashtable.pyx\u001b[0m in \u001b[0;36mpandas.hashtable.PyObjectHashTable.get_item (pandas/hashtable.c:12322)\u001b[0;34m()\u001b[0m\n",
      "\u001b[0;31mKeyError\u001b[0m: 'engagement200'"
     ]
    }
   ],
   "source": [
    "# Defining y label and X matrix\n",
    "y = df.pop('engagement200').values\n",
    "X = df.values"
   ]
  },
  {
   "cell_type": "code",
   "execution_count": 60,
   "metadata": {
    "collapsed": false,
    "scrolled": false
   },
   "outputs": [
    {
     "name": "stdout",
     "output_type": "stream",
     "text": [
      "Determining classes statistics... 2 classes detected: Counter({1: 48225, 0: 9602})\n",
      "Finding the 5 nearest neighbours...\n",
      "done!\n",
      "Creating synthetic samples...Generated 38623 new samples ...\n",
      "done!\n",
      "\n",
      "Logistic Regression Scores:\n",
      "\n",
      "Accuracy on test set: 0.677484015898\n",
      "Precision: 0.650192106182\n",
      "Recall: 0.770701076456\n",
      "\n",
      "K-Fold Cross Validation on Logistic Regression Scores:\n",
      "\n",
      "accuracy: 0.837983390433\n",
      "precision: 0.846671986904\n",
      "recall: 0.984899219655\n",
      "\n",
      "Beta scores:\n",
      "num_sessions: -0.0232\n",
      "total_artists_followed: -0.0455\n",
      "total_artworks_favorited: -0.0119\n",
      "total_artworks_shared: 0.0455\n",
      "gender_male: -0.0694\n",
      "gender_unknown: -0.7078\n"
     ]
    },
    {
     "data": {
      "image/png": "[encoded data removed]",
      "text/plain": [
       "<matplotlib.figure.Figure at 0x1159b0150>"
      ]
     },
     "metadata": {},
     "output_type": "display_data"
    },
    {
     "name": "stdout",
     "output_type": "stream",
     "text": [
      "\n",
      "Likelihoods:\n",
      "*Increasing the num_sessions by 1 point decreases the chance of label=1 by a factor of 0.9702.*\n",
      "\n",
      "*Increasing the total_artists_followed by 1 point decreases the chance of label=1 by a factor of 0.9626.*\n",
      "\n",
      "*Increasing the total_artworks_favorited by 1 point decreases the chance of label=1 by a factor of 0.9821.*\n",
      "\n",
      "*Increasing the total_artworks_shared by 1 point increases the chance of label=1 by a factor of 1.0626.*\n",
      "\n",
      "*Increasing the gender_male by 1 point decreases the chance of label=1 by a factor of 0.9001.*\n",
      "\n",
      "*Increasing the gender_unknown by 1 point decreases the chance of label=1 by a factor of 0.4656.*\n",
      "\n",
      "To double:\n",
      "*Decreasing the num_sessions score by -29 points doubles the chance of label=1.*\n",
      "\n",
      "*Decreasing the total_artists_followed score by -15 points doubles the chance of label=1.*\n",
      "\n",
      "*Decreasing the total_artworks_favorited score by -58 points doubles the chance of label=1.*\n",
      "\n",
      "*Increasing the total_artworks_shared score by 15 points doubles the chance of label=1.*\n",
      "\n",
      "*Decreasing the gender_male score by -9 points doubles the chance of label=1.*\n",
      "\n",
      "*Decreasing the gender_unknown score by 0 points doubles the chance of label=1.*\n",
      "\n"
     ]
    },
    {
     "data": {
      "image/png": "[encoded data removed]",
      "text/plain": [
       "<matplotlib.figure.Figure at 0x114f57990>"
      ]
     },
     "metadata": {},
     "output_type": "display_data"
    }
   ],
   "source": [
    "fit_logistic_regression(X, y)"
   ]
  },
  {
   "cell_type": "code",
   "execution_count": 240,
   "metadata": {
    "collapsed": false
   },
   "outputs": [],
   "source": [
    "y = df.pop('engagement200').values"
   ]
  },
  {
   "cell_type": "code",
   "execution_count": 241,
   "metadata": {
    "collapsed": true
   },
   "outputs": [],
   "source": [
    "X = df.values"
   ]
  },
  {
   "cell_type": "code",
   "execution_count": 242,
   "metadata": {
    "collapsed": false
   },
   "outputs": [],
   "source": [
    "X_train, X_test, y_train, y_test = train_test_split(X, y, test_size=0.3)"
   ]
  },
  {
   "cell_type": "code",
   "execution_count": 243,
   "metadata": {
    "collapsed": false
   },
   "outputs": [
    {
     "name": "stdout",
     "output_type": "stream",
     "text": [
      "\n",
      "Logistic Regression Scores:\n",
      "\n",
      "Accuracy on test set: 0.844486713932\n",
      "Precision: 0.849632091146\n",
      "Recall: 0.988675597293\n"
     ]
    }
   ],
   "source": [
    "log_reg = LogisticRegression()\n",
    "log_reg.fit(X_train, y_train)\n",
    "predict_log = log_reg.predict(X_test)\n",
    "print \"\\nLogistic Regression Scores:\\n\"\n",
    "print \"Accuracy on test set:\", log_reg.score(X_test, y_test)\n",
    "print \"Precision:\", precision_score(y_test, predict_log)\n",
    "print \"Recall:\", recall_score(y_test, predict_log)"
   ]
  },
  {
   "cell_type": "code",
   "execution_count": 186,
   "metadata": {
    "collapsed": false
   },
   "outputs": [
    {
     "name": "stdout",
     "output_type": "stream",
     "text": [
      "accuracy: 0.837983390433\n",
      "precision: 0.846671986904\n",
      "recall: 0.984899219655\n"
     ]
    }
   ],
   "source": [
    "kfold = KFold(len(y))\n",
    "\n",
    "accuracies = []\n",
    "precisions = []\n",
    "recalls = []\n",
    "\n",
    "for train_index, test_index in kfold:\n",
    "    model = LogisticRegression()\n",
    "    model.fit(X[train_index], y[train_index])\n",
    "    y_predict = model.predict(X[test_index])\n",
    "    y_true = y[test_index]\n",
    "    accuracies.append(accuracy_score(y_true, y_predict))\n",
    "    precisions.append(precision_score(y_true, y_predict))\n",
    "    recalls.append(recall_score(y_true, y_predict))\n",
    "\n",
    "print \"accuracy:\", np.average(accuracies)\n",
    "print \"precision:\", np.average(precisions)\n",
    "print \"recall:\", np.average(recalls)"
   ]
  },
  {
   "cell_type": "code",
   "execution_count": 187,
   "metadata": {
    "collapsed": false
   },
   "outputs": [],
   "source": [
    "from itertools import izip"
   ]
  },
  {
   "cell_type": "code",
   "execution_count": 188,
   "metadata": {
    "collapsed": false
   },
   "outputs": [],
   "source": [
    "cols = list(df.columns)"
   ]
  },
  {
   "cell_type": "code",
   "execution_count": 248,
   "metadata": {
    "collapsed": false
   },
   "outputs": [
    {
     "name": "stdout",
     "output_type": "stream",
     "text": [
      "num_sessions: -0.0232\n",
      "total_artists_followed: -0.0455\n",
      "total_artworks_favorited: -0.0119\n",
      "total_artworks_shared: 0.0455\n",
      "gender_male: -0.0694\n",
      "gender_unknown: -0.7078\n"
     ]
    }
   ],
   "source": [
    "for name, coef in izip(df.columns, model.coef_[0]):\n",
    "    print \"%s: %.4f\" % (name, coef)"
   ]
  },
  {
   "cell_type": "code",
   "execution_count": 190,
   "metadata": {
    "collapsed": false
   },
   "outputs": [
    {
     "name": "stdout",
     "output_type": "stream",
     "text": [
      "beta num_sessions: 0.97896\n",
      "*Increasing the num_sessions by 1 point decreases the chance of being active in 200 days by a factor of 0.9790.*\n",
      "\n",
      "beta total_artists_followed: 0.96737\n",
      "*Increasing the total_artists_followed by 1 point decreases the chance of being active in 200 days by a factor of 0.9674.*\n",
      "\n",
      "beta total_artworks_favorited: 0.98649\n",
      "*Increasing the total_artworks_favorited by 1 point decreases the chance of being active in 200 days by a factor of 0.9865.*\n",
      "\n",
      "beta total_artworks_shared: 1.03355\n",
      "*Increasing the total_artworks_shared by 1 point increases the chance of being active in 200 days by a factor of 1.0335.*\n",
      "\n",
      "beta gender_male: 0.94715\n",
      "*Increasing the gender_male by 1 point decreases the chance of being active in 200 days by a factor of 0.9471.*\n",
      "\n",
      "beta gender_unknown: 0.53543\n",
      "*Increasing the gender_unknown by 1 point decreases the chance of being active in 200 days by a factor of 0.5354.*\n",
      "\n"
     ]
    }
   ],
   "source": [
    "from math import exp\n",
    "\n",
    "for i, coef in enumerate(log_reg.coef_[0]):\n",
    "    print \"beta %s: %.5f\" % (cols[i], exp(coef))\n",
    "    if coef <0:\n",
    "        print \"*Increasing the %s by 1 point decreases the chance of being active in 200 days by a factor of %.4f.*\" % (cols[i], exp(coef))\n",
    "    else:\n",
    "        print \"*Increasing the %s by 1 point increases the chance of being active in 200 days by a factor of %.4f.*\" % (cols[i], exp(coef))\n",
    "    print"
   ]
  },
  {
   "cell_type": "code",
   "execution_count": 191,
   "metadata": {
    "collapsed": false,
    "scrolled": true
   },
   "outputs": [
    {
     "name": "stdout",
     "output_type": "stream",
     "text": [
      "*Decreasing the num_sessions score by -29 points doubles the chance of an user being active in the first 200 days.*\n",
      "\n",
      "*Decreasing the total_artists_followed score by -15 points doubles the chance of an user being active in the first 200 days.*\n",
      "\n",
      "*Decreasing the total_artworks_favorited score by -58 points doubles the chance of an user being active in the first 200 days.*\n",
      "\n",
      "*Increasing the total_artworks_shared score by 15 points doubles the chance of an user being active in the first 200 days.*\n",
      "\n",
      "*Decreasing the gender_male score by -9 points doubles the chance of an user being active in the first 200 days.*\n",
      "\n",
      "*Decreasing the gender_unknown score by 0 points doubles the chance of an user being active in the first 200 days.*\n",
      "\n"
     ]
    }
   ],
   "source": [
    "from math import log\n",
    "\n",
    "for i, coef in enumerate(model.coef_[0]):\n",
    "#     print \"beta %s: %.5f\" % (cols[i], log(2) / coef)\n",
    "    if coef < 0:\n",
    "        print \"*Decreasing the %s score by %d points doubles the chance of an user being active in the first 200 days.*\" % (cols[i], log(2) / coef)\n",
    "    else:\n",
    "        print \"*Increasing the %s score by %d points doubles the chance of an user being active in the first 200 days.*\" % (cols[i], log(2) / coef)\n",
    "    print"
   ]
  },
  {
   "cell_type": "code",
   "execution_count": null,
   "metadata": {
    "collapsed": false
   },
   "outputs": [],
   "source": []
  },
  {
   "cell_type": "code",
   "execution_count": null,
   "metadata": {
    "collapsed": true
   },
   "outputs": [],
   "source": []
  },
  {
   "cell_type": "markdown",
   "metadata": {},
   "source": [
    "## Logit from Statsmodel"
   ]
  },
  {
   "cell_type": "code",
   "execution_count": 244,
   "metadata": {
    "collapsed": true
   },
   "outputs": [],
   "source": [
    "from statsmodels.discrete.discrete_model import Logit\n",
    "from statsmodels.tools import add_constant\n",
    "X_const = add_constant(X_train, prepend=True)\n",
    "\n",
    "logit_model = Logit(y_train, X_const).fit()"
   ]
  },
  {
   "cell_type": "code",
   "execution_count": 245,
   "metadata": {
    "collapsed": false
   },
   "outputs": [
    {
     "data": {
      "text/plain": [
       "(40478, 7)"
      ]
     },
     "execution_count": 245,
     "metadata": {},
     "output_type": "execute_result"
    }
   ],
   "source": [
    "X_const.shape"
   ]
  },
  {
   "cell_type": "code",
   "execution_count": 246,
   "metadata": {
    "collapsed": false
   },
   "outputs": [
    {
     "data": {
      "text/plain": [
       "7"
      ]
     },
     "execution_count": 246,
     "metadata": {},
     "output_type": "execute_result"
    }
   ],
   "source": [
    "np.linalg.matrix_rank(X_const)"
   ]
  },
  {
   "cell_type": "code",
   "execution_count": 247,
   "metadata": {
    "collapsed": false
   },
   "outputs": [
    {
     "name": "stdout",
     "output_type": "stream",
     "text": [
      "Optimization terminated successfully.\n",
      "         Current function value: 0.408024\n",
      "         Iterations 7\n"
     ]
    }
   ],
   "source": [
    "logit_model = Logit(y_train, X_const).fit()"
   ]
  },
  {
   "cell_type": "code",
   "execution_count": 196,
   "metadata": {
    "collapsed": false,
    "scrolled": false
   },
   "outputs": [
    {
     "data": {
      "text/html": [
       "<table class=\"simpletable\">\n",
       "<caption>Logit Regression Results</caption>\n",
       "<tr>\n",
       "  <th>Dep. Variable:</th>         <td>y</td>        <th>  No. Observations:  </th>  <td> 40478</td> \n",
       "</tr>\n",
       "<tr>\n",
       "  <th>Model:</th>               <td>Logit</td>      <th>  Df Residuals:      </th>  <td> 40471</td> \n",
       "</tr>\n",
       "<tr>\n",
       "  <th>Method:</th>               <td>MLE</td>       <th>  Df Model:          </th>  <td>     6</td> \n",
       "</tr>\n",
       "<tr>\n",
       "  <th>Date:</th>          <td>Thu, 23 Jun 2016</td> <th>  Pseudo R-squ.:     </th>  <td>0.1014</td> \n",
       "</tr>\n",
       "<tr>\n",
       "  <th>Time:</th>              <td>18:30:20</td>     <th>  Log-Likelihood:    </th> <td> -16360.</td>\n",
       "</tr>\n",
       "<tr>\n",
       "  <th>converged:</th>           <td>True</td>       <th>  LL-Null:           </th> <td> -18207.</td>\n",
       "</tr>\n",
       "<tr>\n",
       "  <th> </th>                      <td> </td>        <th>  LLR p-value:       </th>  <td> 0.000</td> \n",
       "</tr>\n",
       "</table>\n",
       "<table class=\"simpletable\">\n",
       "<tr>\n",
       "    <td></td>       <th>coef</th>     <th>std err</th>      <th>z</th>      <th>P>|z|</th>  <th>[0.025</th>    <th>0.975]</th>  \n",
       "</tr>\n",
       "<tr>\n",
       "  <th>const</th> <td>    2.3328</td> <td>    0.031</td> <td>   75.433</td> <td> 0.000</td> <td>    2.272</td> <td>    2.393</td>\n",
       "</tr>\n",
       "<tr>\n",
       "  <th>x1</th>    <td>   -0.0213</td> <td>    0.001</td> <td>  -31.731</td> <td> 0.000</td> <td>   -0.023</td> <td>   -0.020</td>\n",
       "</tr>\n",
       "<tr>\n",
       "  <th>x2</th>    <td>   -0.0332</td> <td>    0.005</td> <td>   -7.030</td> <td> 0.000</td> <td>   -0.042</td> <td>   -0.024</td>\n",
       "</tr>\n",
       "<tr>\n",
       "  <th>x3</th>    <td>   -0.0136</td> <td>    0.001</td> <td>  -16.531</td> <td> 0.000</td> <td>   -0.015</td> <td>   -0.012</td>\n",
       "</tr>\n",
       "<tr>\n",
       "  <th>x4</th>    <td>    0.0330</td> <td>    0.010</td> <td>    3.344</td> <td> 0.001</td> <td>    0.014</td> <td>    0.052</td>\n",
       "</tr>\n",
       "<tr>\n",
       "  <th>x5</th>    <td>   -0.0574</td> <td>    0.039</td> <td>   -1.490</td> <td> 0.136</td> <td>   -0.133</td> <td>    0.018</td>\n",
       "</tr>\n",
       "<tr>\n",
       "  <th>x6</th>    <td>   -0.6280</td> <td>    0.037</td> <td>  -17.201</td> <td> 0.000</td> <td>   -0.700</td> <td>   -0.556</td>\n",
       "</tr>\n",
       "</table>"
      ],
      "text/plain": [
       "<class 'statsmodels.iolib.summary.Summary'>\n",
       "\"\"\"\n",
       "                           Logit Regression Results                           \n",
       "==============================================================================\n",
       "Dep. Variable:                      y   No. Observations:                40478\n",
       "Model:                          Logit   Df Residuals:                    40471\n",
       "Method:                           MLE   Df Model:                            6\n",
       "Date:                Thu, 23 Jun 2016   Pseudo R-squ.:                  0.1014\n",
       "Time:                        18:30:20   Log-Likelihood:                -16360.\n",
       "converged:                       True   LL-Null:                       -18207.\n",
       "                                        LLR p-value:                     0.000\n",
       "==============================================================================\n",
       "                 coef    std err          z      P>|z|      [0.025      0.975]\n",
       "------------------------------------------------------------------------------\n",
       "const          2.3328      0.031     75.433      0.000       2.272       2.393\n",
       "x1            -0.0213      0.001    -31.731      0.000      -0.023      -0.020\n",
       "x2            -0.0332      0.005     -7.030      0.000      -0.042      -0.024\n",
       "x3            -0.0136      0.001    -16.531      0.000      -0.015      -0.012\n",
       "x4             0.0330      0.010      3.344      0.001       0.014       0.052\n",
       "x5            -0.0574      0.039     -1.490      0.136      -0.133       0.018\n",
       "x6            -0.6280      0.037    -17.201      0.000      -0.700      -0.556\n",
       "==============================================================================\n",
       "\"\"\""
      ]
     },
     "execution_count": 196,
     "metadata": {},
     "output_type": "execute_result"
    }
   ],
   "source": [
    "logit_model.summary()"
   ]
  },
  {
   "cell_type": "code",
   "execution_count": null,
   "metadata": {
    "collapsed": true
   },
   "outputs": [],
   "source": []
  },
  {
   "cell_type": "markdown",
   "metadata": {},
   "source": [
    "## Random Forests"
   ]
  },
  {
   "cell_type": "code",
   "execution_count": 197,
   "metadata": {
    "collapsed": true
   },
   "outputs": [],
   "source": [
    "from sklearn.ensemble import RandomForestClassifier\n",
    "from sklearn.tree import DecisionTreeClassifier\n",
    "from sklearn.svm import SVC"
   ]
  },
  {
   "cell_type": "code",
   "execution_count": null,
   "metadata": {
    "collapsed": false
   },
   "outputs": [],
   "source": []
  },
  {
   "cell_type": "code",
   "execution_count": 198,
   "metadata": {
    "collapsed": false
   },
   "outputs": [
    {
     "data": {
      "text/plain": [
       "RandomForestClassifier(bootstrap=True, class_weight=None, criterion='gini',\n",
       "            max_depth=None, max_features='auto', max_leaf_nodes=None,\n",
       "            min_samples_leaf=1, min_samples_split=2,\n",
       "            min_weight_fraction_leaf=0.0, n_estimators=10, n_jobs=1,\n",
       "            oob_score=False, random_state=None, verbose=0,\n",
       "            warm_start=False)"
      ]
     },
     "execution_count": 198,
     "metadata": {},
     "output_type": "execute_result"
    }
   ],
   "source": [
    "rf = RandomForestClassifier()\n",
    "rf.fit(X_train, y_train)"
   ]
  },
  {
   "cell_type": "code",
   "execution_count": 199,
   "metadata": {
    "collapsed": false
   },
   "outputs": [
    {
     "data": {
      "text/plain": [
       "0.82252579399389014"
      ]
     },
     "execution_count": 199,
     "metadata": {},
     "output_type": "execute_result"
    }
   ],
   "source": [
    "# What is the accuracy score on the test data?\n",
    "rf.score(X_test, y_test)"
   ]
  },
  {
   "cell_type": "code",
   "execution_count": 219,
   "metadata": {
    "collapsed": false
   },
   "outputs": [
    {
     "data": {
      "image/png": "[encoded data removed]",
      "text/plain": [
       "<matplotlib.figure.Figure at 0x11aaf50d0>"
      ]
     },
     "metadata": {},
     "output_type": "display_data"
    }
   ],
   "source": [
    "# creating standard confusion matrix\n",
    "def standard_confusion_matrix(y_true, y_predict):\n",
    "    [[tn, fp], [fn, tp]] = confusion_matrix(y_true, y_predict)\n",
    "    return np.array([[tp, fp], [fn, tn]])\n",
    "\n",
    "# Draw a confusion matrix for the results\n",
    "y_predict = rf.predict(X_test)\n",
    "y_proba = rf.predict_proba(X_test)\n",
    "cm = standard_confusion_matrix(y_test, y_predict)\n",
    "\n",
    "conf_matrix = {\n",
    "                1: {\n",
    "                    'matrix': cm,\n",
    "                    'title': 'Random Forest',\n",
    "                   }\n",
    "}\n",
    "\n",
    "# Plotting confusion matrix\n",
    "fix, ax = plt.subplots(figsize=(10, 7))\n",
    "# plt.suptitle('Confusion Matrix of Various Classifiers')\n",
    "for ii, values in conf_matrix.items():\n",
    "    matrix = values['matrix']\n",
    "    title = values['title']\n",
    "    plt.subplot(1, 1, ii) # starts from 1\n",
    "    plt.title(title);\n",
    "    sns.heatmap(matrix, annot=True,  fmt='', square=True, \\\n",
    "                            xticklabels=['1', '0'], \\\n",
    "                            yticklabels=['1', '0']);\n",
    "plt.savefig('Confusion Matrix of Various Classifiers', dpi=None, facecolor='w', edgecolor='w',\n",
    "        orientation='portrait', papertype=None, format=None,\n",
    "        transparent=False, bbox_inches=None, pad_inches=0.1,\n",
    "        frameon=None)\n",
    "plt.show()\n"
   ]
  },
  {
   "cell_type": "code",
   "execution_count": 212,
   "metadata": {
    "collapsed": false
   },
   "outputs": [
    {
     "name": "stdout",
     "output_type": "stream",
     "text": [
      "precision: 0.863987733981\n",
      "recall: 0.934365068399\n"
     ]
    }
   ],
   "source": [
    "print \"precision:\", precision_score(y_test, y_predict)\n",
    "print \"recall:\", recall_score(y_test, y_predict)"
   ]
  },
  {
   "cell_type": "code",
   "execution_count": 217,
   "metadata": {
    "collapsed": false
   },
   "outputs": [
    {
     "data": {
      "image/png": "[encoded data removed]",
      "text/plain": [
       "<matplotlib.figure.Figure at 0x1162acc50>"
      ]
     },
     "metadata": {},
     "output_type": "display_data"
    }
   ],
   "source": [
    "def roc_curve(probabilities, labels):\n",
    "    thresholds = np.sort(probabilities)\n",
    "\n",
    "    tprs = []\n",
    "    fprs = []\n",
    "\n",
    "    num_positive_cases = sum(labels)\n",
    "    num_negative_cases = len(labels) - num_positive_cases\n",
    "\n",
    "    for threshold in thresholds:\n",
    "        # With this threshold, give the prediction of each instance\n",
    "        predicted_positive = probabilities >= threshold\n",
    "        # Calculate the number of correctly predicted positive cases\n",
    "        true_positives = np.sum(predicted_positive * labels)\n",
    "        # Calculate the number of incorrectly predicted positive cases\n",
    "        false_positives = np.sum(predicted_positive) - true_positives\n",
    "        # Calculate the True Positive Rate\n",
    "        tpr = true_positives / float(num_positive_cases)\n",
    "        # Calculate the False Positive Rate\n",
    "        fpr = false_positives / float(num_negative_cases)\n",
    "\n",
    "        fprs.append(fpr)\n",
    "        tprs.append(tpr)\n",
    "\n",
    "    return tprs, fprs, thresholds.tolist()\n",
    "\n",
    "\n",
    "\n",
    "# Getting true positive and false positive rates\n",
    "tpr, fpr, thres = roc_curve(y_proba[:,0:1].flatten(), y_test)\n",
    "# rfcru_tpr, rfcru_fpr, rfcru_thres = roc_curve(rfcru_proba[:,0:1].flatten(), y_test)\n",
    "# rfcb_tpr, rfcb_fpr, rfcb_thres = roc_curve(rfcb_proba[:,0:1].flatten(), y_test)\n",
    "\n",
    "# Plotting ROC curve\n",
    "plt.plot(tpr, fpr)\n",
    "# plt.savefig('ROC Curve - Random Forest with Random Under Sample', dpi=None, facecolor='w', edgecolor='w',\n",
    "#         orientation='portrait', papertype=None, format=None,\n",
    "#         transparent=False, bbox_inches=None, pad_inches=0.1,\n",
    "#         frameon=None)\n",
    "plt.show()\n"
   ]
  },
  {
   "cell_type": "code",
   "execution_count": 220,
   "metadata": {
    "collapsed": false
   },
   "outputs": [
    {
     "data": {
      "text/plain": [
       "array([ 0.46367516,  0.14531787,  0.29650332,  0.04572318,  0.01652191,\n",
       "        0.03225855])"
      ]
     },
     "execution_count": 220,
     "metadata": {},
     "output_type": "execute_result"
    }
   ],
   "source": [
    "rf.feature_importances_"
   ]
  },
  {
   "cell_type": "code",
   "execution_count": 234,
   "metadata": {
    "collapsed": false
   },
   "outputs": [
    {
     "name": "stdout",
     "output_type": "stream",
     "text": [
      "0.4637 \t\tnum_sessions\n",
      "0.1453 \t\ttotal_artists_followed\n",
      "0.2965 \t\ttotal_artworks_favorited\n",
      "0.0457 \t\ttotal_artworks_shared\n",
      "0.0165 \t\tgender_male\n",
      "0.0323 \t\tgender_unknown\n"
     ]
    }
   ],
   "source": [
    "for name, importance in izip(cols, rf.feature_importances_):\n",
    "    print round(importance,4), '\\t\\t', name"
   ]
  },
  {
   "cell_type": "code",
   "execution_count": null,
   "metadata": {
    "collapsed": true
   },
   "outputs": [],
   "source": []
  },
  {
   "cell_type": "code",
   "execution_count": null,
   "metadata": {
    "collapsed": true
   },
   "outputs": [],
   "source": []
  },
  {
   "cell_type": "markdown",
   "metadata": {},
   "source": [
    "## Labels = purchase (predicting engagement - defined as purchasing)"
   ]
  },
  {
   "cell_type": "code",
   "execution_count": 20,
   "metadata": {
    "collapsed": false
   },
   "outputs": [],
   "source": [
    "purch = pd.read_csv('purchases.csv', usecols=range(1,5))"
   ]
  },
  {
   "cell_type": "code",
   "execution_count": 21,
   "metadata": {
    "collapsed": false
   },
   "outputs": [],
   "source": [
    "purch.dropna(inplace=True)"
   ]
  },
  {
   "cell_type": "code",
   "execution_count": 22,
   "metadata": {
    "collapsed": false
   },
   "outputs": [
    {
     "data": {
      "text/html": [
       "<div>\n",
       "<table border=\"1\" class=\"dataframe\">\n",
       "  <thead>\n",
       "    <tr style=\"text-align: right;\">\n",
       "      <th></th>\n",
       "      <th>user_id</th>\n",
       "      <th>total_pieces_purchased</th>\n",
       "      <th>total_spent</th>\n",
       "      <th>created_at</th>\n",
       "    </tr>\n",
       "  </thead>\n",
       "  <tbody>\n",
       "    <tr>\n",
       "      <th>24</th>\n",
       "      <td>71663.0</td>\n",
       "      <td>1</td>\n",
       "      <td>100</td>\n",
       "      <td>2015-12-01</td>\n",
       "    </tr>\n",
       "    <tr>\n",
       "      <th>25</th>\n",
       "      <td>74070.0</td>\n",
       "      <td>1</td>\n",
       "      <td>200</td>\n",
       "      <td>2015-12-10</td>\n",
       "    </tr>\n",
       "    <tr>\n",
       "      <th>31</th>\n",
       "      <td>18657.0</td>\n",
       "      <td>1</td>\n",
       "      <td>300</td>\n",
       "      <td>2016-01-10</td>\n",
       "    </tr>\n",
       "    <tr>\n",
       "      <th>32</th>\n",
       "      <td>73862.0</td>\n",
       "      <td>1</td>\n",
       "      <td>200</td>\n",
       "      <td>2016-01-20</td>\n",
       "    </tr>\n",
       "    <tr>\n",
       "      <th>36</th>\n",
       "      <td>83617.0</td>\n",
       "      <td>1</td>\n",
       "      <td>200</td>\n",
       "      <td>2016-02-12</td>\n",
       "    </tr>\n",
       "  </tbody>\n",
       "</table>\n",
       "</div>"
      ],
      "text/plain": [
       "    user_id  total_pieces_purchased  total_spent  created_at\n",
       "24  71663.0                       1          100  2015-12-01\n",
       "25  74070.0                       1          200  2015-12-10\n",
       "31  18657.0                       1          300  2016-01-10\n",
       "32  73862.0                       1          200  2016-01-20\n",
       "36  83617.0                       1          200  2016-02-12"
      ]
     },
     "execution_count": 22,
     "metadata": {},
     "output_type": "execute_result"
    }
   ],
   "source": [
    "purch.head()"
   ]
  },
  {
   "cell_type": "code",
   "execution_count": 23,
   "metadata": {
    "collapsed": false
   },
   "outputs": [
    {
     "data": {
      "text/plain": [
       "567.248719824433"
      ]
     },
     "execution_count": 23,
     "metadata": {},
     "output_type": "execute_result"
    }
   ],
   "source": [
    "purch.total_spent.mean()"
   ]
  },
  {
   "cell_type": "code",
   "execution_count": 366,
   "metadata": {
    "collapsed": false
   },
   "outputs": [],
   "source": [
    "# Aggregating purchase info per user_id\n",
    "user_purchs = purch.groupby('user_id').agg({'total_pieces_purchased':np.sum, 'total_spent':np.sum})"
   ]
  },
  {
   "cell_type": "code",
   "execution_count": 367,
   "metadata": {
    "collapsed": false
   },
   "outputs": [],
   "source": [
    "user_merged = df.join(user_purchs)"
   ]
  },
  {
   "cell_type": "code",
   "execution_count": 368,
   "metadata": {
    "collapsed": true
   },
   "outputs": [],
   "source": [
    "user_merged.total_spent.fillna(0, inplace=True)\n",
    "user_merged.total_pieces_purchased.fillna(0, inplace=True)"
   ]
  },
  {
   "cell_type": "code",
   "execution_count": 369,
   "metadata": {
    "collapsed": false
   },
   "outputs": [],
   "source": [
    "user_merged.drop('engagement200', axis=1, inplace=True)\n",
    "user_merged.drop('total_spent', axis=1, inplace=True)"
   ]
  },
  {
   "cell_type": "code",
   "execution_count": 370,
   "metadata": {
    "collapsed": true
   },
   "outputs": [],
   "source": [
    "# Creating label of purchase or not, and dropping original data to avoid collinearity or Singular Matrix issues\n",
    "user_merged['purchased'] = np.where(user_merged.total_pieces_purchased > 0, 1, 0)\n",
    "user_merged.drop('total_pieces_purchased', axis=1, inplace=True)"
   ]
  },
  {
   "cell_type": "code",
   "execution_count": 371,
   "metadata": {
    "collapsed": false
   },
   "outputs": [
    {
     "data": {
      "text/html": [
       "<div>\n",
       "<table border=\"1\" class=\"dataframe\">\n",
       "  <thead>\n",
       "    <tr style=\"text-align: right;\">\n",
       "      <th></th>\n",
       "      <th>num_sessions</th>\n",
       "      <th>total_artists_followed</th>\n",
       "      <th>total_artworks_favorited</th>\n",
       "      <th>total_artworks_shared</th>\n",
       "      <th>gender_male</th>\n",
       "      <th>gender_unknown</th>\n",
       "      <th>purchased</th>\n",
       "    </tr>\n",
       "  </thead>\n",
       "  <tbody>\n",
       "    <tr>\n",
       "      <th>1.0</th>\n",
       "      <td>4198.0</td>\n",
       "      <td>98.0</td>\n",
       "      <td>2389.0</td>\n",
       "      <td>8.0</td>\n",
       "      <td>1.0</td>\n",
       "      <td>0.0</td>\n",
       "      <td>1</td>\n",
       "    </tr>\n",
       "    <tr>\n",
       "      <th>3.0</th>\n",
       "      <td>33.0</td>\n",
       "      <td>8.0</td>\n",
       "      <td>7.0</td>\n",
       "      <td>1.0</td>\n",
       "      <td>1.0</td>\n",
       "      <td>0.0</td>\n",
       "      <td>0</td>\n",
       "    </tr>\n",
       "    <tr>\n",
       "      <th>13.0</th>\n",
       "      <td>26.0</td>\n",
       "      <td>1.0</td>\n",
       "      <td>37.0</td>\n",
       "      <td>2.0</td>\n",
       "      <td>1.0</td>\n",
       "      <td>0.0</td>\n",
       "      <td>0</td>\n",
       "    </tr>\n",
       "    <tr>\n",
       "      <th>23.0</th>\n",
       "      <td>7.0</td>\n",
       "      <td>0.0</td>\n",
       "      <td>19.0</td>\n",
       "      <td>0.0</td>\n",
       "      <td>1.0</td>\n",
       "      <td>0.0</td>\n",
       "      <td>0</td>\n",
       "    </tr>\n",
       "    <tr>\n",
       "      <th>28.0</th>\n",
       "      <td>1821.0</td>\n",
       "      <td>9.0</td>\n",
       "      <td>308.0</td>\n",
       "      <td>0.0</td>\n",
       "      <td>0.0</td>\n",
       "      <td>1.0</td>\n",
       "      <td>1</td>\n",
       "    </tr>\n",
       "  </tbody>\n",
       "</table>\n",
       "</div>"
      ],
      "text/plain": [
       "      num_sessions  total_artists_followed  total_artworks_favorited  \\\n",
       "1.0         4198.0                    98.0                    2389.0   \n",
       "3.0           33.0                     8.0                       7.0   \n",
       "13.0          26.0                     1.0                      37.0   \n",
       "23.0           7.0                     0.0                      19.0   \n",
       "28.0        1821.0                     9.0                     308.0   \n",
       "\n",
       "      total_artworks_shared  gender_male  gender_unknown  purchased  \n",
       "1.0                     8.0          1.0             0.0          1  \n",
       "3.0                     1.0          1.0             0.0          0  \n",
       "13.0                    2.0          1.0             0.0          0  \n",
       "23.0                    0.0          1.0             0.0          0  \n",
       "28.0                    0.0          0.0             1.0          1  "
      ]
     },
     "execution_count": 371,
     "metadata": {},
     "output_type": "execute_result"
    }
   ],
   "source": [
    "user_merged.head()"
   ]
  },
  {
   "cell_type": "code",
   "execution_count": 372,
   "metadata": {
    "collapsed": false
   },
   "outputs": [],
   "source": [
    "y = user_merged.pop('purchased').values\n",
    "X = user_merged.values"
   ]
  },
  {
   "cell_type": "code",
   "execution_count": 373,
   "metadata": {
    "collapsed": true
   },
   "outputs": [],
   "source": [
    "from unbalanced_dataset.over_sampling import SMOTE"
   ]
  },
  {
   "cell_type": "code",
   "execution_count": 374,
   "metadata": {
    "collapsed": false
   },
   "outputs": [
    {
     "name": "stdout",
     "output_type": "stream",
     "text": [
      "Determining classes statistics... 2 classes detected: Counter({0: 55668, 1: 2159})\n",
      "Finding the 5 nearest neighbours...\n",
      "done!\n",
      "Creating synthetic samples...Generated 53509 new samples ...\n",
      "done!\n"
     ]
    }
   ],
   "source": [
    "sm = SMOTE(kind='regular')\n",
    "X_resampled, y_resampled = sm.fit_transform(X, y)"
   ]
  },
  {
   "cell_type": "code",
   "execution_count": null,
   "metadata": {
    "collapsed": true
   },
   "outputs": [],
   "source": []
  },
  {
   "cell_type": "code",
   "execution_count": 376,
   "metadata": {
    "collapsed": false
   },
   "outputs": [
    {
     "name": "stdout",
     "output_type": "stream",
     "text": [
      "0.5 0.0373355007177\n"
     ]
    }
   ],
   "source": [
    "print np.mean(y_resampled), np.mean(y)"
   ]
  },
  {
   "cell_type": "code",
   "execution_count": 377,
   "metadata": {
    "collapsed": false
   },
   "outputs": [
    {
     "name": "stdout",
     "output_type": "stream",
     "text": [
      "\n",
      "Logistic Regression Scores:\n",
      "\n",
      "Accuracy on test set: 0.792610999671\n",
      "Precision: 0.850036258158\n",
      "Recall: 0.706953742235\n"
     ]
    }
   ],
   "source": [
    "X_train, X_test, y_train, y_test = train_test_split(X_resampled, y_resampled, test_size=0.3)\n",
    "log_reg = LogisticRegression()\n",
    "log_reg.fit(X_train, y_train)\n",
    "predict_log = log_reg.predict(X_test)\n",
    "print \"\\nLogistic Regression Scores:\\n\"\n",
    "print \"Accuracy on test set:\", log_reg.score(X_test, y_test)\n",
    "print \"Precision:\", precision_score(y_test, predict_log)\n",
    "print \"Recall:\", recall_score(y_test, predict_log)"
   ]
  },
  {
   "cell_type": "code",
   "execution_count": 378,
   "metadata": {
    "collapsed": false
   },
   "outputs": [
    {
     "data": {
      "image/png": "[encoded data removed]",
      "text/plain": [
       "<matplotlib.figure.Figure at 0x1163fb8d0>"
      ]
     },
     "metadata": {},
     "output_type": "display_data"
    }
   ],
   "source": [
    "y_predict = log_reg.predict(X_test)\n",
    "y_proba = log_reg.predict_proba(X_test)\n",
    "cm = standard_confusion_matrix(y_test, y_predict)\n",
    "\n",
    "tpr, fpr, thres = roc_curve(y_proba[:,0:1].flatten(), y_test)\n",
    "plt.plot(tpr, fpr)\n",
    "plt.show()"
   ]
  },
  {
   "cell_type": "code",
   "execution_count": 379,
   "metadata": {
    "collapsed": false
   },
   "outputs": [
    {
     "data": {
      "text/plain": [
       "array([[11722,  2068],\n",
       "       [ 4859, 14752]])"
      ]
     },
     "execution_count": 379,
     "metadata": {},
     "output_type": "execute_result"
    }
   ],
   "source": [
    "cm"
   ]
  },
  {
   "cell_type": "code",
   "execution_count": 380,
   "metadata": {
    "collapsed": false
   },
   "outputs": [
    {
     "name": "stdout",
     "output_type": "stream",
     "text": [
      "num_sessions: 0.0400\n",
      "total_artists_followed: 0.1081\n",
      "total_artworks_favorited: 0.0092\n",
      "total_artworks_shared: 0.0727\n",
      "gender_male: 0.3418\n",
      "gender_unknown: 0.9723\n"
     ]
    }
   ],
   "source": [
    "for name, coef in izip(user_merged.columns, log_reg.coef_[0]):\n",
    "    print \"%s: %.4f\" % (name, coef)"
   ]
  },
  {
   "cell_type": "code",
   "execution_count": 383,
   "metadata": {
    "collapsed": false
   },
   "outputs": [
    {
     "name": "stdout",
     "output_type": "stream",
     "text": [
      "*Increasing the num_sessions score by 17 points doubles the chance of an user making a purchase.*\n",
      "\n",
      "*Increasing the total_artists_followed score by 6 points doubles the chance of an user making a purchase.*\n",
      "\n",
      "*Increasing the total_artworks_favorited score by 74 points doubles the chance of an user making a purchase.*\n",
      "\n",
      "*Increasing the total_artworks_shared score by 9 points doubles the chance of an user making a purchase.*\n",
      "\n",
      "*Increasing the gender_male score by 2 points doubles the chance of an user making a purchase.*\n",
      "\n",
      "*Increasing the gender_unknown score by 0 points doubles the chance of an user making a purchase.*\n",
      "\n"
     ]
    }
   ],
   "source": [
    "from math import log\n",
    "\n",
    "for i, coef in enumerate(log_reg.coef_[0]):\n",
    "#     print \"beta %s: %.5f\" % (cols[i], log(2) / coef)\n",
    "    if coef < 0:\n",
    "        print \"*Decreasing the %s score by %d points doubles the chance of an user making a purchase.*\" % (cols[i], log(2) / coef)\n",
    "    else:\n",
    "        print \"*Increasing the %s score by %d points doubles the chance of an user making a purchase.*\" % (cols[i], log(2) / coef)\n",
    "    print"
   ]
  },
  {
   "cell_type": "code",
   "execution_count": null,
   "metadata": {
    "collapsed": true
   },
   "outputs": [],
   "source": []
  },
  {
   "cell_type": "code",
   "execution_count": null,
   "metadata": {
    "collapsed": true
   },
   "outputs": [],
   "source": []
  },
  {
   "cell_type": "code",
   "execution_count": null,
   "metadata": {
    "collapsed": true
   },
   "outputs": [],
   "source": []
  },
  {
   "cell_type": "code",
   "execution_count": null,
   "metadata": {
    "collapsed": true
   },
   "outputs": [],
   "source": []
  },
  {
   "cell_type": "markdown",
   "metadata": {},
   "source": [
    "### Dataframe for plotting purchase cycle distribution later on"
   ]
  },
  {
   "cell_type": "code",
   "execution_count": 278,
   "metadata": {
    "collapsed": true
   },
   "outputs": [],
   "source": [
    "purch = purch.set_index('user_id')"
   ]
  },
  {
   "cell_type": "code",
   "execution_count": 279,
   "metadata": {
    "collapsed": false
   },
   "outputs": [
    {
     "data": {
      "text/html": [
       "<div>\n",
       "<table border=\"1\" class=\"dataframe\">\n",
       "  <thead>\n",
       "    <tr style=\"text-align: right;\">\n",
       "      <th></th>\n",
       "      <th>total_pieces_purchased</th>\n",
       "      <th>total_spent</th>\n",
       "      <th>created_at</th>\n",
       "    </tr>\n",
       "    <tr>\n",
       "      <th>user_id</th>\n",
       "      <th></th>\n",
       "      <th></th>\n",
       "      <th></th>\n",
       "    </tr>\n",
       "  </thead>\n",
       "  <tbody>\n",
       "    <tr>\n",
       "      <th>71663.0</th>\n",
       "      <td>1</td>\n",
       "      <td>100</td>\n",
       "      <td>2015-12-01</td>\n",
       "    </tr>\n",
       "    <tr>\n",
       "      <th>74070.0</th>\n",
       "      <td>1</td>\n",
       "      <td>200</td>\n",
       "      <td>2015-12-10</td>\n",
       "    </tr>\n",
       "    <tr>\n",
       "      <th>18657.0</th>\n",
       "      <td>1</td>\n",
       "      <td>300</td>\n",
       "      <td>2016-01-10</td>\n",
       "    </tr>\n",
       "    <tr>\n",
       "      <th>73862.0</th>\n",
       "      <td>1</td>\n",
       "      <td>200</td>\n",
       "      <td>2016-01-20</td>\n",
       "    </tr>\n",
       "    <tr>\n",
       "      <th>83617.0</th>\n",
       "      <td>1</td>\n",
       "      <td>200</td>\n",
       "      <td>2016-02-12</td>\n",
       "    </tr>\n",
       "  </tbody>\n",
       "</table>\n",
       "</div>"
      ],
      "text/plain": [
       "         total_pieces_purchased  total_spent  created_at\n",
       "user_id                                                 \n",
       "71663.0                       1          100  2015-12-01\n",
       "74070.0                       1          200  2015-12-10\n",
       "18657.0                       1          300  2016-01-10\n",
       "73862.0                       1          200  2016-01-20\n",
       "83617.0                       1          200  2016-02-12"
      ]
     },
     "execution_count": 279,
     "metadata": {},
     "output_type": "execute_result"
    }
   ],
   "source": [
    "purch.head()"
   ]
  },
  {
   "cell_type": "code",
   "execution_count": 284,
   "metadata": {
    "collapsed": false
   },
   "outputs": [],
   "source": [
    "# Dataframe with all repetitive purchases\n",
    "merged = df.join(purch)"
   ]
  },
  {
   "cell_type": "code",
   "execution_count": 289,
   "metadata": {
    "collapsed": false
   },
   "outputs": [
    {
     "data": {
      "text/html": [
       "<div>\n",
       "<table border=\"1\" class=\"dataframe\">\n",
       "  <thead>\n",
       "    <tr style=\"text-align: right;\">\n",
       "      <th></th>\n",
       "      <th>num_sessions</th>\n",
       "      <th>total_artists_followed</th>\n",
       "      <th>total_artworks_favorited</th>\n",
       "      <th>total_artworks_shared</th>\n",
       "      <th>engagement200</th>\n",
       "      <th>gender_male</th>\n",
       "      <th>gender_unknown</th>\n",
       "      <th>total_pieces_purchased</th>\n",
       "      <th>total_spent</th>\n",
       "      <th>created_at</th>\n",
       "    </tr>\n",
       "  </thead>\n",
       "  <tbody>\n",
       "    <tr>\n",
       "      <th>1.0</th>\n",
       "      <td>4198.0</td>\n",
       "      <td>98.0</td>\n",
       "      <td>2389.0</td>\n",
       "      <td>8.0</td>\n",
       "      <td>0</td>\n",
       "      <td>1.0</td>\n",
       "      <td>0.0</td>\n",
       "      <td>0.0</td>\n",
       "      <td>0.0</td>\n",
       "      <td>2014-12-23</td>\n",
       "    </tr>\n",
       "    <tr>\n",
       "      <th>1.0</th>\n",
       "      <td>4198.0</td>\n",
       "      <td>98.0</td>\n",
       "      <td>2389.0</td>\n",
       "      <td>8.0</td>\n",
       "      <td>0</td>\n",
       "      <td>1.0</td>\n",
       "      <td>0.0</td>\n",
       "      <td>2.0</td>\n",
       "      <td>200.0</td>\n",
       "      <td>2014-10-28</td>\n",
       "    </tr>\n",
       "    <tr>\n",
       "      <th>1.0</th>\n",
       "      <td>4198.0</td>\n",
       "      <td>98.0</td>\n",
       "      <td>2389.0</td>\n",
       "      <td>8.0</td>\n",
       "      <td>0</td>\n",
       "      <td>1.0</td>\n",
       "      <td>0.0</td>\n",
       "      <td>1.0</td>\n",
       "      <td>2600.0</td>\n",
       "      <td>2015-01-03</td>\n",
       "    </tr>\n",
       "    <tr>\n",
       "      <th>1.0</th>\n",
       "      <td>4198.0</td>\n",
       "      <td>98.0</td>\n",
       "      <td>2389.0</td>\n",
       "      <td>8.0</td>\n",
       "      <td>0</td>\n",
       "      <td>1.0</td>\n",
       "      <td>0.0</td>\n",
       "      <td>7.0</td>\n",
       "      <td>1450.0</td>\n",
       "      <td>2015-05-13</td>\n",
       "    </tr>\n",
       "    <tr>\n",
       "      <th>1.0</th>\n",
       "      <td>4198.0</td>\n",
       "      <td>98.0</td>\n",
       "      <td>2389.0</td>\n",
       "      <td>8.0</td>\n",
       "      <td>0</td>\n",
       "      <td>1.0</td>\n",
       "      <td>0.0</td>\n",
       "      <td>1.0</td>\n",
       "      <td>500.0</td>\n",
       "      <td>2015-07-18</td>\n",
       "    </tr>\n",
       "    <tr>\n",
       "      <th>1.0</th>\n",
       "      <td>4198.0</td>\n",
       "      <td>98.0</td>\n",
       "      <td>2389.0</td>\n",
       "      <td>8.0</td>\n",
       "      <td>0</td>\n",
       "      <td>1.0</td>\n",
       "      <td>0.0</td>\n",
       "      <td>2.0</td>\n",
       "      <td>1650.0</td>\n",
       "      <td>2015-08-22</td>\n",
       "    </tr>\n",
       "    <tr>\n",
       "      <th>3.0</th>\n",
       "      <td>33.0</td>\n",
       "      <td>8.0</td>\n",
       "      <td>7.0</td>\n",
       "      <td>1.0</td>\n",
       "      <td>0</td>\n",
       "      <td>1.0</td>\n",
       "      <td>0.0</td>\n",
       "      <td>0.0</td>\n",
       "      <td>0.0</td>\n",
       "      <td>2015-08-07</td>\n",
       "    </tr>\n",
       "    <tr>\n",
       "      <th>13.0</th>\n",
       "      <td>26.0</td>\n",
       "      <td>1.0</td>\n",
       "      <td>37.0</td>\n",
       "      <td>2.0</td>\n",
       "      <td>0</td>\n",
       "      <td>1.0</td>\n",
       "      <td>0.0</td>\n",
       "      <td>NaN</td>\n",
       "      <td>NaN</td>\n",
       "      <td>NaN</td>\n",
       "    </tr>\n",
       "    <tr>\n",
       "      <th>23.0</th>\n",
       "      <td>7.0</td>\n",
       "      <td>0.0</td>\n",
       "      <td>19.0</td>\n",
       "      <td>0.0</td>\n",
       "      <td>0</td>\n",
       "      <td>1.0</td>\n",
       "      <td>0.0</td>\n",
       "      <td>NaN</td>\n",
       "      <td>NaN</td>\n",
       "      <td>NaN</td>\n",
       "    </tr>\n",
       "    <tr>\n",
       "      <th>28.0</th>\n",
       "      <td>1821.0</td>\n",
       "      <td>9.0</td>\n",
       "      <td>308.0</td>\n",
       "      <td>0.0</td>\n",
       "      <td>0</td>\n",
       "      <td>0.0</td>\n",
       "      <td>1.0</td>\n",
       "      <td>1.0</td>\n",
       "      <td>100.0</td>\n",
       "      <td>2016-04-17</td>\n",
       "    </tr>\n",
       "  </tbody>\n",
       "</table>\n",
       "</div>"
      ],
      "text/plain": [
       "      num_sessions  total_artists_followed  total_artworks_favorited  \\\n",
       "1.0         4198.0                    98.0                    2389.0   \n",
       "1.0         4198.0                    98.0                    2389.0   \n",
       "1.0         4198.0                    98.0                    2389.0   \n",
       "1.0         4198.0                    98.0                    2389.0   \n",
       "1.0         4198.0                    98.0                    2389.0   \n",
       "1.0         4198.0                    98.0                    2389.0   \n",
       "3.0           33.0                     8.0                       7.0   \n",
       "13.0          26.0                     1.0                      37.0   \n",
       "23.0           7.0                     0.0                      19.0   \n",
       "28.0        1821.0                     9.0                     308.0   \n",
       "\n",
       "      total_artworks_shared  engagement200  gender_male  gender_unknown  \\\n",
       "1.0                     8.0              0          1.0             0.0   \n",
       "1.0                     8.0              0          1.0             0.0   \n",
       "1.0                     8.0              0          1.0             0.0   \n",
       "1.0                     8.0              0          1.0             0.0   \n",
       "1.0                     8.0              0          1.0             0.0   \n",
       "1.0                     8.0              0          1.0             0.0   \n",
       "3.0                     1.0              0          1.0             0.0   \n",
       "13.0                    2.0              0          1.0             0.0   \n",
       "23.0                    0.0              0          1.0             0.0   \n",
       "28.0                    0.0              0          0.0             1.0   \n",
       "\n",
       "      total_pieces_purchased  total_spent  created_at  \n",
       "1.0                      0.0          0.0  2014-12-23  \n",
       "1.0                      2.0        200.0  2014-10-28  \n",
       "1.0                      1.0       2600.0  2015-01-03  \n",
       "1.0                      7.0       1450.0  2015-05-13  \n",
       "1.0                      1.0        500.0  2015-07-18  \n",
       "1.0                      2.0       1650.0  2015-08-22  \n",
       "3.0                      0.0          0.0  2015-08-07  \n",
       "13.0                     NaN          NaN         NaN  \n",
       "23.0                     NaN          NaN         NaN  \n",
       "28.0                     1.0        100.0  2016-04-17  "
      ]
     },
     "execution_count": 289,
     "metadata": {},
     "output_type": "execute_result"
    }
   ],
   "source": [
    "merged.head(10)"
   ]
  },
  {
   "cell_type": "code",
   "execution_count": null,
   "metadata": {
    "collapsed": false
   },
   "outputs": [],
   "source": []
  },
  {
   "cell_type": "code",
   "execution_count": null,
   "metadata": {
    "collapsed": true
   },
   "outputs": [],
   "source": []
  }
 ],
 "metadata": {
  "kernelspec": {
   "display_name": "Python 2",
   "language": "python",
   "name": "python2"
  },
  "language_info": {
   "codemirror_mode": {
    "name": "ipython",
    "version": 2
   },
   "file_extension": ".py",
   "mimetype": "text/x-python",
   "name": "python",
   "nbconvert_exporter": "python",
   "pygments_lexer": "ipython2",
   "version": "2.7.11"
  }
 },
 "nbformat": 4,
 "nbformat_minor": 0
}
