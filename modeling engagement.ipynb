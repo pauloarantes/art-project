{
 "cells": [
  {
   "cell_type": "code",
   "execution_count": 207,
   "metadata": {
    "collapsed": true
   },
   "outputs": [],
   "source": [
    "%matplotlib inline\n",
    "import pandas as pd\n",
    "import numpy as np\n",
    "from sklearn.linear_model import LogisticRegression\n",
    "from sklearn.cross_validation import train_test_split, KFold\n",
    "from sklearn.metrics import f1_score, precision_score, recall_score, accuracy_score, confusion_matrix\n",
    "import matplotlib.pyplot as plt\n",
    "import seaborn as sns"
   ]
  },
  {
   "cell_type": "code",
   "execution_count": 179,
   "metadata": {
    "collapsed": false
   },
   "outputs": [],
   "source": [
    "# Defining today's day for reference\n",
    "today = '2016-06-20'\n",
    "date = pd.to_datetime(today)\n",
    "\n",
    "# Loading csv extracted from database into a Pandas DataFrame\n",
    "df = pd.read_csv('dataset.csv', usecols=range(1,17))\n",
    "\n",
    "# Treating date fields and converting them to datetime timestamp\n",
    "df.created_at = pd.to_datetime(df['created_at'])\n",
    "df.last_session = pd.to_datetime(df['last_session'])\n",
    "df.last_favorited_artwork_date = pd.to_datetime(df['last_favorited_artwork_date'])\n",
    "df.last_followed_artist_date = pd.to_datetime(df['last_followed_artist_date'])\n",
    "\n",
    "# Creating function to extract only the days (int) from TimeDelta objects\n",
    "def extract_days(x):\n",
    "    try:\n",
    "        return x.days\n",
    "    except:\n",
    "        return 0\n",
    "    \n",
    "# New feature: Extracting the difference between last session and today\n",
    "df['days_from_last_session'] = date - df.last_session\n",
    "df['days_from_last_session'] = df.days_from_last_session.apply(lambda x: extract_days(x))\n",
    "\n",
    "# New feature: Extracting the difference between last session and when user registered\n",
    "df['diff_created_to_last'] = df.last_session - df.created_at\n",
    "df['diff_created_to_last'] = df.diff_created_to_last.apply(lambda x: extract_days(x))\n",
    "\n",
    "# New feature: Extracting the difference between last favorited artwork and today\n",
    "df['diff_last_fav_artwork_to_today'] = date - df.last_favorited_artwork_date\n",
    "df['diff_last_fav_artwork_to_today'] = df.diff_last_fav_artwork_to_today.apply(lambda x: extract_days(x))\n",
    "\n",
    "# New feature: Extracting the difference between last artists followed and today\n",
    "df['diff_last_artist_folw_to_today'] = date - df.last_followed_artist_date\n",
    "df['diff_last_artist_folw_to_today'] = df.diff_last_artist_folw_to_today.apply(lambda x: extract_days(x))\n",
    "\n",
    "drop_cols = ['id', \n",
    "             'last_sign_in_at', \n",
    "             'created_at', \n",
    "             'last_session', \n",
    "             'last_favorited_artwork_date', \n",
    "             'last_followed_artist_date',\n",
    "             'total_follows',\n",
    "             'total_favorites',\n",
    "             'city']\n",
    "\n",
    "# Dropping columns\n",
    "df = df.drop(drop_cols, axis=1)\n",
    "\n",
    "# Filling NaN values with unknown for categorical variables before dummifying\n",
    "df.gender.fillna('unknown', inplace=True)\n",
    "df.user_type.fillna('unknown', inplace=True)\n",
    "df.os.fillna('unknown', inplace=True)\n",
    "\n",
    "# Dropping about 100 recent user ids missing all information\n",
    "df.num_sessions.dropna(inplace=True)\n",
    "\n",
    "# Dropping 3 records based on gender feature\n",
    "df = df[(df.gender != 'male (hidden)') & (df.gender != 'female (hidden)')]\n",
    "\n",
    "# Defining some labels for engagement\n",
    "df['engagement200'] = np.where(df.diff_created_to_last < 200, 1, 0)\n",
    "# df['engagement15'] = np.where(df.diff_created_to_last < 15, 1, 0)\n",
    "# df['engagement_now15'] = np.where(df.days_from_last_session < 15, 1, 0)\n",
    "\n",
    "# Dummifying categorical variables (gender, user_type, and os)\n",
    "df = pd.concat([df, pd.get_dummies(df.gender, prefix='gender', drop_first=True)], axis=1)\n",
    "df = df.drop('gender', axis=1)\n",
    "\n",
    "# df = pd.concat([df, pd.get_dummies(df.user_type, prefix='user_type', drop_first=True)], axis=1)\n",
    "df = df.drop('user_type', axis=1)\n",
    "\n",
    "# df = pd.concat([df, pd.get_dummies(df.os, prefix='os', drop_first=True)], axis=1)\n",
    "df = df.drop('os', axis=1)\n",
    "\n",
    "# Finally dropping off random Na values (101 records)\n",
    "df.dropna(inplace=True)\n",
    "\n",
    "# Dropping column used to create the label:\n",
    "df.drop('days_from_last_session', axis=1, inplace=True)"
   ]
  },
  {
   "cell_type": "code",
   "execution_count": 180,
   "metadata": {
    "collapsed": false
   },
   "outputs": [
    {
     "data": {
      "text/plain": [
       "['num_sessions',\n",
       " 'total_artists_followed',\n",
       " 'total_artworks_favorited',\n",
       " 'total_artworks_shared',\n",
       " 'diff_created_to_last',\n",
       " 'diff_last_fav_artwork_to_today',\n",
       " 'diff_last_artist_folw_to_today',\n",
       " 'engagement200',\n",
       " 'gender_male',\n",
       " 'gender_unknown']"
      ]
     },
     "execution_count": 180,
     "metadata": {},
     "output_type": "execute_result"
    }
   ],
   "source": [
    "list(df.columns)"
   ]
  },
  {
   "cell_type": "code",
   "execution_count": 181,
   "metadata": {
    "collapsed": true
   },
   "outputs": [],
   "source": [
    "df.drop('diff_last_fav_artwork_to_today', axis=1, inplace=True)\n",
    "df.drop('diff_last_artist_folw_to_today', axis=1, inplace=True)\n",
    "df.drop('diff_created_to_last', axis=1, inplace=True)"
   ]
  },
  {
   "cell_type": "markdown",
   "metadata": {},
   "source": [
    "## Logistic Regression"
   ]
  },
  {
   "cell_type": "code",
   "execution_count": 182,
   "metadata": {
    "collapsed": false
   },
   "outputs": [],
   "source": [
    "y = df.pop('engagement200').values"
   ]
  },
  {
   "cell_type": "code",
   "execution_count": 183,
   "metadata": {
    "collapsed": true
   },
   "outputs": [],
   "source": [
    "X = df.values"
   ]
  },
  {
   "cell_type": "code",
   "execution_count": 184,
   "metadata": {
    "collapsed": false
   },
   "outputs": [],
   "source": [
    "X_train, X_test, y_train, y_test = train_test_split(X, y, test_size=0.3)"
   ]
  },
  {
   "cell_type": "code",
   "execution_count": 185,
   "metadata": {
    "collapsed": false
   },
   "outputs": [
    {
     "name": "stdout",
     "output_type": "stream",
     "text": [
      "\n",
      "Logistic Regression Scores:\n",
      "\n",
      "Accuracy on test set: 0.840855380714\n",
      "Precision: 0.847959123047\n",
      "Recall: 0.986043940859\n"
     ]
    }
   ],
   "source": [
    "log_reg = LogisticRegression()\n",
    "log_reg.fit(X_train, y_train)\n",
    "predict_log = log_reg.predict(X_test)\n",
    "print \"\\nLogistic Regression Scores:\\n\"\n",
    "print \"Accuracy on test set:\", log_reg.score(X_test, y_test)\n",
    "print \"Precision:\", precision_score(y_test, predict_log)\n",
    "print \"Recall:\", recall_score(y_test, predict_log)"
   ]
  },
  {
   "cell_type": "code",
   "execution_count": 186,
   "metadata": {
    "collapsed": false
   },
   "outputs": [
    {
     "name": "stdout",
     "output_type": "stream",
     "text": [
      "accuracy: 0.837983390433\n",
      "precision: 0.846671986904\n",
      "recall: 0.984899219655\n"
     ]
    }
   ],
   "source": [
    "kfold = KFold(len(y))\n",
    "\n",
    "accuracies = []\n",
    "precisions = []\n",
    "recalls = []\n",
    "\n",
    "for train_index, test_index in kfold:\n",
    "    model = LogisticRegression()\n",
    "    model.fit(X[train_index], y[train_index])\n",
    "    y_predict = model.predict(X[test_index])\n",
    "    y_true = y[test_index]\n",
    "    accuracies.append(accuracy_score(y_true, y_predict))\n",
    "    precisions.append(precision_score(y_true, y_predict))\n",
    "    recalls.append(recall_score(y_true, y_predict))\n",
    "\n",
    "print \"accuracy:\", np.average(accuracies)\n",
    "print \"precision:\", np.average(precisions)\n",
    "print \"recall:\", np.average(recalls)"
   ]
  },
  {
   "cell_type": "code",
   "execution_count": 187,
   "metadata": {
    "collapsed": false
   },
   "outputs": [],
   "source": [
    "from itertools import izip"
   ]
  },
  {
   "cell_type": "code",
   "execution_count": 188,
   "metadata": {
    "collapsed": false
   },
   "outputs": [],
   "source": [
    "cols = list(df.columns)"
   ]
  },
  {
   "cell_type": "code",
   "execution_count": 189,
   "metadata": {
    "collapsed": false
   },
   "outputs": [
    {
     "name": "stdout",
     "output_type": "stream",
     "text": [
      "num_sessions: -0.0232\n",
      "total_artists_followed: -0.0455\n",
      "total_artworks_favorited: -0.0119\n",
      "total_artworks_shared: 0.0455\n",
      "gender_male: -0.0694\n",
      "gender_unknown: -0.7078\n"
     ]
    }
   ],
   "source": [
    "for name, coef in izip(df.columns, model.coef_[0]):\n",
    "    print \"%s: %.4f\" % (name, coef)"
   ]
  },
  {
   "cell_type": "code",
   "execution_count": 190,
   "metadata": {
    "collapsed": false
   },
   "outputs": [
    {
     "name": "stdout",
     "output_type": "stream",
     "text": [
      "beta num_sessions: 0.97896\n",
      "*Increasing the num_sessions by 1 point decreases the chance of being active in 200 days by a factor of 0.9790.*\n",
      "\n",
      "beta total_artists_followed: 0.96737\n",
      "*Increasing the total_artists_followed by 1 point decreases the chance of being active in 200 days by a factor of 0.9674.*\n",
      "\n",
      "beta total_artworks_favorited: 0.98649\n",
      "*Increasing the total_artworks_favorited by 1 point decreases the chance of being active in 200 days by a factor of 0.9865.*\n",
      "\n",
      "beta total_artworks_shared: 1.03355\n",
      "*Increasing the total_artworks_shared by 1 point increases the chance of being active in 200 days by a factor of 1.0335.*\n",
      "\n",
      "beta gender_male: 0.94715\n",
      "*Increasing the gender_male by 1 point decreases the chance of being active in 200 days by a factor of 0.9471.*\n",
      "\n",
      "beta gender_unknown: 0.53543\n",
      "*Increasing the gender_unknown by 1 point decreases the chance of being active in 200 days by a factor of 0.5354.*\n",
      "\n"
     ]
    }
   ],
   "source": [
    "from math import exp\n",
    "\n",
    "for i, coef in enumerate(log_reg.coef_[0]):\n",
    "    print \"beta %s: %.5f\" % (cols[i], exp(coef))\n",
    "    if coef <0:\n",
    "        print \"*Increasing the %s by 1 point decreases the chance of being active in 200 days by a factor of %.4f.*\" % (cols[i], exp(coef))\n",
    "    else:\n",
    "        print \"*Increasing the %s by 1 point increases the chance of being active in 200 days by a factor of %.4f.*\" % (cols[i], exp(coef))\n",
    "    print"
   ]
  },
  {
   "cell_type": "code",
   "execution_count": 191,
   "metadata": {
    "collapsed": false,
    "scrolled": true
   },
   "outputs": [
    {
     "name": "stdout",
     "output_type": "stream",
     "text": [
      "*Decreasing the num_sessions score by -29 points doubles the chance of an user being active in the first 200 days.*\n",
      "\n",
      "*Decreasing the total_artists_followed score by -15 points doubles the chance of an user being active in the first 200 days.*\n",
      "\n",
      "*Decreasing the total_artworks_favorited score by -58 points doubles the chance of an user being active in the first 200 days.*\n",
      "\n",
      "*Increasing the total_artworks_shared score by 15 points doubles the chance of an user being active in the first 200 days.*\n",
      "\n",
      "*Decreasing the gender_male score by -9 points doubles the chance of an user being active in the first 200 days.*\n",
      "\n",
      "*Decreasing the gender_unknown score by 0 points doubles the chance of an user being active in the first 200 days.*\n",
      "\n"
     ]
    }
   ],
   "source": [
    "from math import log\n",
    "\n",
    "for i, coef in enumerate(model.coef_[0]):\n",
    "#     print \"beta %s: %.5f\" % (cols[i], log(2) / coef)\n",
    "    if coef < 0:\n",
    "        print \"*Decreasing the %s score by %d points doubles the chance of an user being active in the first 200 days.*\" % (cols[i], log(2) / coef)\n",
    "    else:\n",
    "        print \"*Increasing the %s score by %d points doubles the chance of an user being active in the first 200 days.*\" % (cols[i], log(2) / coef)\n",
    "    print"
   ]
  },
  {
   "cell_type": "code",
   "execution_count": null,
   "metadata": {
    "collapsed": false
   },
   "outputs": [],
   "source": []
  },
  {
   "cell_type": "code",
   "execution_count": null,
   "metadata": {
    "collapsed": true
   },
   "outputs": [],
   "source": []
  },
  {
   "cell_type": "markdown",
   "metadata": {},
   "source": [
    "## Logit from Statsmodel"
   ]
  },
  {
   "cell_type": "code",
   "execution_count": 192,
   "metadata": {
    "collapsed": true
   },
   "outputs": [],
   "source": [
    "from statsmodels.discrete.discrete_model import Logit\n",
    "from statsmodels.tools import add_constant\n",
    "X_const = add_constant(X_train, prepend=True)"
   ]
  },
  {
   "cell_type": "code",
   "execution_count": 193,
   "metadata": {
    "collapsed": false
   },
   "outputs": [
    {
     "data": {
      "text/plain": [
       "(40478, 7)"
      ]
     },
     "execution_count": 193,
     "metadata": {},
     "output_type": "execute_result"
    }
   ],
   "source": [
    "X_const.shape"
   ]
  },
  {
   "cell_type": "code",
   "execution_count": 194,
   "metadata": {
    "collapsed": false
   },
   "outputs": [
    {
     "data": {
      "text/plain": [
       "7"
      ]
     },
     "execution_count": 194,
     "metadata": {},
     "output_type": "execute_result"
    }
   ],
   "source": [
    "np.linalg.matrix_rank(X_const)"
   ]
  },
  {
   "cell_type": "code",
   "execution_count": 195,
   "metadata": {
    "collapsed": false
   },
   "outputs": [
    {
     "name": "stdout",
     "output_type": "stream",
     "text": [
      "Optimization terminated successfully.\n",
      "         Current function value: 0.404178\n",
      "         Iterations 7\n"
     ]
    }
   ],
   "source": [
    "logit_model = Logit(y_train, X_const).fit()"
   ]
  },
  {
   "cell_type": "code",
   "execution_count": 196,
   "metadata": {
    "collapsed": false
   },
   "outputs": [
    {
     "data": {
      "text/html": [
       "<table class=\"simpletable\">\n",
       "<caption>Logit Regression Results</caption>\n",
       "<tr>\n",
       "  <th>Dep. Variable:</th>         <td>y</td>        <th>  No. Observations:  </th>  <td> 40478</td> \n",
       "</tr>\n",
       "<tr>\n",
       "  <th>Model:</th>               <td>Logit</td>      <th>  Df Residuals:      </th>  <td> 40471</td> \n",
       "</tr>\n",
       "<tr>\n",
       "  <th>Method:</th>               <td>MLE</td>       <th>  Df Model:          </th>  <td>     6</td> \n",
       "</tr>\n",
       "<tr>\n",
       "  <th>Date:</th>          <td>Thu, 23 Jun 2016</td> <th>  Pseudo R-squ.:     </th>  <td>0.1014</td> \n",
       "</tr>\n",
       "<tr>\n",
       "  <th>Time:</th>              <td>18:30:20</td>     <th>  Log-Likelihood:    </th> <td> -16360.</td>\n",
       "</tr>\n",
       "<tr>\n",
       "  <th>converged:</th>           <td>True</td>       <th>  LL-Null:           </th> <td> -18207.</td>\n",
       "</tr>\n",
       "<tr>\n",
       "  <th> </th>                      <td> </td>        <th>  LLR p-value:       </th>  <td> 0.000</td> \n",
       "</tr>\n",
       "</table>\n",
       "<table class=\"simpletable\">\n",
       "<tr>\n",
       "    <td></td>       <th>coef</th>     <th>std err</th>      <th>z</th>      <th>P>|z|</th>  <th>[0.025</th>    <th>0.975]</th>  \n",
       "</tr>\n",
       "<tr>\n",
       "  <th>const</th> <td>    2.3328</td> <td>    0.031</td> <td>   75.433</td> <td> 0.000</td> <td>    2.272</td> <td>    2.393</td>\n",
       "</tr>\n",
       "<tr>\n",
       "  <th>x1</th>    <td>   -0.0213</td> <td>    0.001</td> <td>  -31.731</td> <td> 0.000</td> <td>   -0.023</td> <td>   -0.020</td>\n",
       "</tr>\n",
       "<tr>\n",
       "  <th>x2</th>    <td>   -0.0332</td> <td>    0.005</td> <td>   -7.030</td> <td> 0.000</td> <td>   -0.042</td> <td>   -0.024</td>\n",
       "</tr>\n",
       "<tr>\n",
       "  <th>x3</th>    <td>   -0.0136</td> <td>    0.001</td> <td>  -16.531</td> <td> 0.000</td> <td>   -0.015</td> <td>   -0.012</td>\n",
       "</tr>\n",
       "<tr>\n",
       "  <th>x4</th>    <td>    0.0330</td> <td>    0.010</td> <td>    3.344</td> <td> 0.001</td> <td>    0.014</td> <td>    0.052</td>\n",
       "</tr>\n",
       "<tr>\n",
       "  <th>x5</th>    <td>   -0.0574</td> <td>    0.039</td> <td>   -1.490</td> <td> 0.136</td> <td>   -0.133</td> <td>    0.018</td>\n",
       "</tr>\n",
       "<tr>\n",
       "  <th>x6</th>    <td>   -0.6280</td> <td>    0.037</td> <td>  -17.201</td> <td> 0.000</td> <td>   -0.700</td> <td>   -0.556</td>\n",
       "</tr>\n",
       "</table>"
      ],
      "text/plain": [
       "<class 'statsmodels.iolib.summary.Summary'>\n",
       "\"\"\"\n",
       "                           Logit Regression Results                           \n",
       "==============================================================================\n",
       "Dep. Variable:                      y   No. Observations:                40478\n",
       "Model:                          Logit   Df Residuals:                    40471\n",
       "Method:                           MLE   Df Model:                            6\n",
       "Date:                Thu, 23 Jun 2016   Pseudo R-squ.:                  0.1014\n",
       "Time:                        18:30:20   Log-Likelihood:                -16360.\n",
       "converged:                       True   LL-Null:                       -18207.\n",
       "                                        LLR p-value:                     0.000\n",
       "==============================================================================\n",
       "                 coef    std err          z      P>|z|      [0.025      0.975]\n",
       "------------------------------------------------------------------------------\n",
       "const          2.3328      0.031     75.433      0.000       2.272       2.393\n",
       "x1            -0.0213      0.001    -31.731      0.000      -0.023      -0.020\n",
       "x2            -0.0332      0.005     -7.030      0.000      -0.042      -0.024\n",
       "x3            -0.0136      0.001    -16.531      0.000      -0.015      -0.012\n",
       "x4             0.0330      0.010      3.344      0.001       0.014       0.052\n",
       "x5            -0.0574      0.039     -1.490      0.136      -0.133       0.018\n",
       "x6            -0.6280      0.037    -17.201      0.000      -0.700      -0.556\n",
       "==============================================================================\n",
       "\"\"\""
      ]
     },
     "execution_count": 196,
     "metadata": {},
     "output_type": "execute_result"
    }
   ],
   "source": [
    "logit_model.summary()"
   ]
  },
  {
   "cell_type": "code",
   "execution_count": null,
   "metadata": {
    "collapsed": true
   },
   "outputs": [],
   "source": []
  },
  {
   "cell_type": "markdown",
   "metadata": {},
   "source": [
    "## Random Forests"
   ]
  },
  {
   "cell_type": "code",
   "execution_count": 197,
   "metadata": {
    "collapsed": true
   },
   "outputs": [],
   "source": [
    "from sklearn.ensemble import RandomForestClassifier\n",
    "from sklearn.tree import DecisionTreeClassifier\n",
    "from sklearn.svm import SVC"
   ]
  },
  {
   "cell_type": "code",
   "execution_count": null,
   "metadata": {
    "collapsed": false
   },
   "outputs": [],
   "source": []
  },
  {
   "cell_type": "code",
   "execution_count": 198,
   "metadata": {
    "collapsed": false
   },
   "outputs": [
    {
     "data": {
      "text/plain": [
       "RandomForestClassifier(bootstrap=True, class_weight=None, criterion='gini',\n",
       "            max_depth=None, max_features='auto', max_leaf_nodes=None,\n",
       "            min_samples_leaf=1, min_samples_split=2,\n",
       "            min_weight_fraction_leaf=0.0, n_estimators=10, n_jobs=1,\n",
       "            oob_score=False, random_state=None, verbose=0,\n",
       "            warm_start=False)"
      ]
     },
     "execution_count": 198,
     "metadata": {},
     "output_type": "execute_result"
    }
   ],
   "source": [
    "rf = RandomForestClassifier()\n",
    "rf.fit(X_train, y_train)"
   ]
  },
  {
   "cell_type": "code",
   "execution_count": 199,
   "metadata": {
    "collapsed": false
   },
   "outputs": [
    {
     "data": {
      "text/plain": [
       "0.82252579399389014"
      ]
     },
     "execution_count": 199,
     "metadata": {},
     "output_type": "execute_result"
    }
   ],
   "source": [
    "# What is the accuracy score on the test data?\n",
    "rf.score(X_test, y_test)"
   ]
  },
  {
   "cell_type": "code",
   "execution_count": 219,
   "metadata": {
    "collapsed": false
   },
   "outputs": [
    {
     "data": {
      "image/png": "[encoded data removed]",
      "text/plain": [
       "<matplotlib.figure.Figure at 0x11aaf50d0>"
      ]
     },
     "metadata": {},
     "output_type": "display_data"
    }
   ],
   "source": [
    "# creating standard confusion matrix\n",
    "def standard_confusion_matrix(y_true, y_predict):\n",
    "    [[tn, fp], [fn, tp]] = confusion_matrix(y_true, y_predict)\n",
    "    return np.array([[tp, fp], [fn, tn]])\n",
    "\n",
    "# Draw a confusion matrix for the results\n",
    "y_predict = rf.predict(X_test)\n",
    "y_proba = rf.predict_proba(X_test)\n",
    "cm = standard_confusion_matrix(y_test, y_predict)\n",
    "\n",
    "conf_matrix = {\n",
    "                1: {\n",
    "                    'matrix': cm,\n",
    "                    'title': 'Random Forest',\n",
    "                   }\n",
    "}\n",
    "\n",
    "# Plotting confusion matrix\n",
    "fix, ax = plt.subplots(figsize=(10, 7))\n",
    "# plt.suptitle('Confusion Matrix of Various Classifiers')\n",
    "for ii, values in conf_matrix.items():\n",
    "    matrix = values['matrix']\n",
    "    title = values['title']\n",
    "    plt.subplot(1, 1, ii) # starts from 1\n",
    "    plt.title(title);\n",
    "    sns.heatmap(matrix, annot=True,  fmt='', square=True, \\\n",
    "                            xticklabels=['1', '0'], \\\n",
    "                            yticklabels=['1', '0']);\n",
    "plt.savefig('Confusion Matrix of Various Classifiers', dpi=None, facecolor='w', edgecolor='w',\n",
    "        orientation='portrait', papertype=None, format=None,\n",
    "        transparent=False, bbox_inches=None, pad_inches=0.1,\n",
    "        frameon=None)\n",
    "plt.show()\n"
   ]
  },
  {
   "cell_type": "code",
   "execution_count": 212,
   "metadata": {
    "collapsed": false
   },
   "outputs": [
    {
     "name": "stdout",
     "output_type": "stream",
     "text": [
      "precision: 0.863987733981\n",
      "recall: 0.934365068399\n"
     ]
    }
   ],
   "source": [
    "print \"precision:\", precision_score(y_test, y_predict)\n",
    "print \"recall:\", recall_score(y_test, y_predict)"
   ]
  },
  {
   "cell_type": "code",
   "execution_count": 217,
   "metadata": {
    "collapsed": false
   },
   "outputs": [
    {
     "data": {
      "image/png": "[encoded data removed]",
      "text/plain": [
       "<matplotlib.figure.Figure at 0x1162acc50>"
      ]
     },
     "metadata": {},
     "output_type": "display_data"
    }
   ],
   "source": [
    "def roc_curve(probabilities, labels):\n",
    "    '''\n",
    "    INPUT: numpy array, numpy array\n",
    "    OUTPUT: list, list, list\n",
    "    Take a numpy array of the predicted probabilities and a numpy array of the\n",
    "    true labels.\n",
    "    Return the True Positive Rates, False Positive Rates and Thresholds for the\n",
    "    ROC curve.\n",
    "    '''\n",
    "\n",
    "    thresholds = np.sort(probabilities)\n",
    "\n",
    "    tprs = []\n",
    "    fprs = []\n",
    "\n",
    "    num_positive_cases = sum(labels)\n",
    "    num_negative_cases = len(labels) - num_positive_cases\n",
    "\n",
    "    for threshold in thresholds:\n",
    "        # With this threshold, give the prediction of each instance\n",
    "        predicted_positive = probabilities >= threshold\n",
    "        # Calculate the number of correctly predicted positive cases\n",
    "        true_positives = np.sum(predicted_positive * labels)\n",
    "        # Calculate the number of incorrectly predicted positive cases\n",
    "        false_positives = np.sum(predicted_positive) - true_positives\n",
    "        # Calculate the True Positive Rate\n",
    "        tpr = true_positives / float(num_positive_cases)\n",
    "        # Calculate the False Positive Rate\n",
    "        fpr = false_positives / float(num_negative_cases)\n",
    "\n",
    "        fprs.append(fpr)\n",
    "        tprs.append(tpr)\n",
    "\n",
    "    return tprs, fprs, thresholds.tolist()\n",
    "\n",
    "\n",
    "\n",
    "# Getting true positive and false positive rates\n",
    "tpr, fpr, thres = roc_curve(y_proba[:,0:1].flatten(), y_test)\n",
    "# rfcru_tpr, rfcru_fpr, rfcru_thres = roc_curve(rfcru_proba[:,0:1].flatten(), y_test)\n",
    "# rfcb_tpr, rfcb_fpr, rfcb_thres = roc_curve(rfcb_proba[:,0:1].flatten(), y_test)\n",
    "\n",
    "# Plotting ROC curve\n",
    "plt.plot(tpr, fpr)\n",
    "# plt.savefig('ROC Curve - Random Forest with Random Under Sample', dpi=None, facecolor='w', edgecolor='w',\n",
    "#         orientation='portrait', papertype=None, format=None,\n",
    "#         transparent=False, bbox_inches=None, pad_inches=0.1,\n",
    "#         frameon=None)\n",
    "plt.show()\n"
   ]
  },
  {
   "cell_type": "code",
   "execution_count": 220,
   "metadata": {
    "collapsed": false
   },
   "outputs": [
    {
     "data": {
      "text/plain": [
       "array([ 0.46367516,  0.14531787,  0.29650332,  0.04572318,  0.01652191,\n",
       "        0.03225855])"
      ]
     },
     "execution_count": 220,
     "metadata": {},
     "output_type": "execute_result"
    }
   ],
   "source": [
    "rf.feature_importances_"
   ]
  },
  {
   "cell_type": "code",
   "execution_count": 234,
   "metadata": {
    "collapsed": false
   },
   "outputs": [
    {
     "name": "stdout",
     "output_type": "stream",
     "text": [
      "0.4637 \t\tnum_sessions\n",
      "0.1453 \t\ttotal_artists_followed\n",
      "0.2965 \t\ttotal_artworks_favorited\n",
      "0.0457 \t\ttotal_artworks_shared\n",
      "0.0165 \t\tgender_male\n",
      "0.0323 \t\tgender_unknown\n"
     ]
    }
   ],
   "source": [
    "for name, importance in izip(cols, rf.feature_importances_):\n",
    "    print round(importance,4), '\\t\\t', name"
   ]
  },
  {
   "cell_type": "code",
   "execution_count": null,
   "metadata": {
    "collapsed": true
   },
   "outputs": [],
   "source": []
  }
 ],
 "metadata": {
  "kernelspec": {
   "display_name": "Python 2",
   "language": "python",
   "name": "python2"
  },
  "language_info": {
   "codemirror_mode": {
    "name": "ipython",
    "version": 2
   },
   "file_extension": ".py",
   "mimetype": "text/x-python",
   "name": "python",
   "nbconvert_exporter": "python",
   "pygments_lexer": "ipython2",
   "version": "2.7.11"
  }
 },
 "nbformat": 4,
 "nbformat_minor": 0
}
